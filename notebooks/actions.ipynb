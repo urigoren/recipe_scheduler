{
 "cells": [
  {
   "cell_type": "code",
   "execution_count": 32,
   "metadata": {},
   "outputs": [],
   "source": [
    "import json, random, re, collections, itertools, base64, hashlib\n",
    "from dataclasses import dataclass\n",
    "from copy import deepcopy\n",
    "from pathlib import Path\n",
    "from tqdm.notebook import tqdm\n",
    "import numpy as np\n",
    "import pandas as pd\n",
    "from operator import itemgetter as at\n",
    "from IPython.core.display import display, HTML\n",
    "from ipywidgets import interact\n",
    "display_html = lambda x: display(HTML(x))\n",
    "from pprint import pprint as pp\n",
    "annot_path = Path(\"../annotations\")\n",
    "data_path = Path(\"../data\")\n",
    "preprocessed_path = Path(\"../preprocessed\")"
   ]
  },
  {
   "cell_type": "markdown",
   "metadata": {},
   "source": [
    "## Read mapping"
   ]
  },
  {
   "cell_type": "code",
   "execution_count": 2,
   "metadata": {},
   "outputs": [],
   "source": [
    "with (data_path/\"annotaions.json\").open('r') as f:\n",
    "    annotations = json.load(f)"
   ]
  },
  {
   "cell_type": "code",
   "execution_count": 3,
   "metadata": {},
   "outputs": [],
   "source": [
    "with (preprocessed_path/\"resources.json\").open('r') as f:\n",
    "    resources = json.load(f)\n",
    "with (preprocessed_path/\"ingredients.json\").open('r') as f:\n",
    "    ingredients = json.load(f)\n",
    "with (preprocessed_path/\"labels.json\").open('r') as f:\n",
    "    idx2label = [tuple(t) for t in json.load(f)]\n",
    "    label2idx={r:i for i,r in enumerate(idx2label)}\n",
    "ingredient_dict = {k:v for k,v in ingredients}\n",
    "resource_dict = {k:v for k,v in resources}"
   ]
  },
  {
   "cell_type": "code",
   "execution_count": 4,
   "metadata": {},
   "outputs": [
    {
     "data": {
      "text/plain": [
       "['104600',\n",
       " '109875',\n",
       " '116231',\n",
       " '116803',\n",
       " '116687',\n",
       " '104786',\n",
       " '102138',\n",
       " '117061',\n",
       " '103308',\n",
       " '106850']"
      ]
     },
     "execution_count": 4,
     "metadata": {},
     "output_type": "execute_result"
    }
   ],
   "source": [
    "states = np.load(str(preprocessed_path/ \"ultimate_state.npz\" ))\n",
    "states.files"
   ]
  },
  {
   "cell_type": "code",
   "execution_count": 5,
   "metadata": {},
   "outputs": [
    {
     "data": {
      "text/plain": [
       "(8, 17457)"
      ]
     },
     "execution_count": 5,
     "metadata": {},
     "output_type": "execute_result"
    }
   ],
   "source": [
    "fname = states.files[0]\n",
    "state = states[fname]\n",
    "with (preprocessed_path / f\"{fname}.json\").open('r') as f:\n",
    "    meta = json.load(f)\n",
    "state.shape"
   ]
  },
  {
   "cell_type": "code",
   "execution_count": 33,
   "metadata": {},
   "outputs": [],
   "source": [
    "@dataclass\n",
    "class Instruction:\n",
    "    ts: int\n",
    "    command: str\n",
    "    ingredient: str\n",
    "    resource:str"
   ]
  },
  {
   "cell_type": "code",
   "execution_count": null,
   "metadata": {},
   "outputs": [],
   "source": [
    "Instruction = collections.namedtuple(\"Instruction\", (\"ts\", \"command\", \"ingredient\", \"resource\"))\n",
    "@dataclass\n",
    "class Instruction:\n",
    "    ts: int\n",
    "    command: str\n",
    "    ingredient: str\n",
    "    resource:str"
   ]
  },
  {
   "cell_type": "code",
   "execution_count": 49,
   "metadata": {},
   "outputs": [
    {
     "name": "stdout",
     "output_type": "stream",
     "text": [
      "[]\n",
      "[(0, 'put', 'chicken wings', 'Sink/Wash'),\n",
      " (1, 'move_contents', 'Sink/Wash', 'Sink/Drain'),\n",
      " (2, 'remove', 'chicken wings', 'Sink/Drain'),\n",
      " (2, 'use', 'Bowl', 'Workspace/Combine'),\n",
      " (2, 'put', 'sesame oil', 'Workspace/Combine'),\n",
      " (2, 'put', 'chili garlic sauce', 'Workspace/Combine'),\n",
      " (2, 'put', 'rice wine', 'Workspace/Combine'),\n",
      " (2, 'put', 'cloves garlic', 'Workspace/Combine'),\n",
      " (2, 'put', 'white sugar', 'Workspace/Combine'),\n",
      " (3, 'put', 'chicken wings', 'Workspace/Combine'),\n",
      " (4, 'remove', 'chili garlic sauce', 'Workspace/Combine'),\n",
      " (4, 'remove', 'rice wine', 'Workspace/Combine'),\n",
      " (4, 'remove', 'white sugar', 'Workspace/Combine'),\n",
      " (4, 'remove', 'sesame oil', 'Workspace/Combine'),\n",
      " (4, 'remove', 'chicken wings', 'Workspace/Combine'),\n",
      " (4, 'remove', 'cloves garlic', 'Workspace/Combine'),\n",
      " (4, 'use', 'Skillet', 'Stove/Medium'),\n",
      " (4, 'put', 'Oil', 'Stove/Medium'),\n",
      " (5, 'put', 'water', 'Stove/Medium'),\n",
      " (5, 'put', 'chili garlic sauce', 'Stove/Medium'),\n",
      " (5, 'put', 'rice wine', 'Stove/Medium'),\n",
      " (5, 'put', 'white sugar', 'Stove/Medium'),\n",
      " (5, 'put', 'sesame oil', 'Stove/Medium'),\n",
      " (5, 'put', 'chicken wings', 'Stove/Medium'),\n",
      " (5, 'put', 'cloves garlic', 'Stove/Medium'),\n",
      " (6, 'use', 'Lid', 'Stove/Medium'),\n",
      " (6, 'chef_check', 'Until color change', 'Stove/Medium'),\n",
      " (7, 'chef_check', 'For X minutes', 'Stove/Medium')]\n"
     ]
    }
   ],
   "source": [
    "def program(annotation, verboze=False):\n",
    "    max_ts = max(map(int, annotation.keys()))\n",
    "    new_state = None\n",
    "    state = {res: set() for res in resource_dict}\n",
    "    actions = []\n",
    "    for ts in range(1+max_ts):\n",
    "        new_state = {res: set() for res in resource_dict}\n",
    "        for resource, ing in annotation[str(ts)]: \n",
    "            new_state[resource].add(ing)\n",
    "        for resource in new_state.keys():\n",
    "            added_ings = new_state[resource]-state[resource]\n",
    "            removed_ings = state[resource]-new_state[resource]\n",
    "            for ing in added_ings:\n",
    "                if ing.startswith(\"L\"):\n",
    "                    if ing!=\"LIMMEDIATE\":\n",
    "                        actions.append(Instruction(ts, \"chef_check\", ing, resource))\n",
    "                elif ing.startswith(\"T\"):\n",
    "                    actions.append(Instruction(ts, \"use\", ing, resource))\n",
    "                else:\n",
    "                    actions.append(Instruction(ts, \"put\", ing, resource))\n",
    "            for ing in removed_ings:\n",
    "                if ing.startswith(\"I\"):\n",
    "                    actions.append(Instruction(ts, \"remove\", ing, resource))\n",
    "        state = deepcopy(new_state)\n",
    "    # timestamps in which we only remove things gets appended to the next time stamp\n",
    "    remove_only_ts = [ts for ts in range(1+max_ts) if any(a for a in actions if a.ts==ts) and not any (a for a in actions if a.ts==ts and a.command!=\"remove\")]\n",
    "    print(remove_only_ts)\n",
    "    while any(remove_only_ts):\n",
    "        for a in actions:\n",
    "            if a.ts in remove_only_ts:\n",
    "                a.ts+=1\n",
    "        remove_only_ts = [ts for ts in range(1+max_ts) if any(a for a in actions if a.ts==ts) and all(a.command==\"remove\" for a in actions if a.ts==ts)]\n",
    "        \n",
    "    # move contents\n",
    "    for res in resource_dict:\n",
    "        for ts in range(1, 1+max_ts):\n",
    "            before = {a.ingredient for a in actions if a.ts<ts and a.command==\"put\" and a.resource==res and a.ingredient.startswith(\"I\")}\n",
    "            after = {a.ingredient for a in actions if a.ts==ts and a.command==\"remove\" and a.resource==res and a.ingredient.startswith(\"I\")}\n",
    "            new_res = {a.resource for a in actions if a.ts==ts and a.command==\"put\" and a.resource!=res and a.ingredient in {b for b in before}}\n",
    "            if len(new_res)!=1:\n",
    "                continue\n",
    "            new_res=list(new_res)[0]\n",
    "            if before<=after:\n",
    "                actions.append(Instruction(ts, \"move_contents\", res, new_res))\n",
    "                actions = [a for a in actions if not (\n",
    "                    (a.ts==ts and (a.command,a.resource) in {(\"remove\", res), (\"put\", new_res)} and a.ingredient in before)\n",
    "                )]\n",
    "                    \n",
    "    action_order=[\"move_contents\", \"remove\", \"use\", \"put\", \"chef_check\"]\n",
    "    actions = sorted(actions, key=lambda t: (t.ts,action_order.index(t.command)))\n",
    "    if verboze:\n",
    "        actions = [(a.ts,a.command,ingredient_dict.get(a.ingredient, resource_dict.get(a.ingredient, \"\")),resource_dict[a.resource]) for a in actions]\n",
    "    return actions\n",
    "pp (program(annotations[\"104600\"][-1], verboze=True))"
   ]
  },
  {
   "cell_type": "code",
   "execution_count": 22,
   "metadata": {},
   "outputs": [
    {
     "data": {
      "text/plain": [
       "<function list.sort(*, key=None, reverse=False)>"
      ]
     },
     "execution_count": 22,
     "metadata": {},
     "output_type": "execute_result"
    }
   ],
   "source": [
    "[].sort"
   ]
  },
  {
   "cell_type": "code",
   "execution_count": null,
   "metadata": {},
   "outputs": [],
   "source": []
  }
 ],
 "metadata": {
  "kernelspec": {
   "display_name": "Python 3",
   "language": "python",
   "name": "python3"
  },
  "language_info": {
   "codemirror_mode": {
    "name": "ipython",
    "version": 3
   },
   "file_extension": ".py",
   "mimetype": "text/x-python",
   "name": "python",
   "nbconvert_exporter": "python",
   "pygments_lexer": "ipython3",
   "version": "3.8.2"
  }
 },
 "nbformat": 4,
 "nbformat_minor": 4
}
