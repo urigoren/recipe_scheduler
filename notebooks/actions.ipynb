{
 "cells": [
  {
   "cell_type": "code",
   "execution_count": 1,
   "metadata": {},
   "outputs": [],
   "source": [
    "import json, random, re, collections, itertools, base64, hashlib\n",
    "from copy import deepcopy\n",
    "from pathlib import Path\n",
    "from tqdm.notebook import tqdm\n",
    "import numpy as np\n",
    "import pandas as pd\n",
    "from operator import itemgetter as at\n",
    "from IPython.core.display import display, HTML\n",
    "from ipywidgets import interact\n",
    "display_html = lambda x: display(HTML(x))\n",
    "from pprint import pprint as pp\n",
    "annot_path = Path(\"../annotations\")\n",
    "data_path = Path(\"../data\")\n",
    "preprocessed_path = Path(\"../preprocessed\")"
   ]
  },
  {
   "cell_type": "markdown",
   "metadata": {},
   "source": [
    "## Read mapping"
   ]
  },
  {
   "cell_type": "code",
   "execution_count": 2,
   "metadata": {},
   "outputs": [],
   "source": [
    "with (data_path/\"annotaions.json\").open('r') as f:\n",
    "    annotations = json.load(f)"
   ]
  },
  {
   "cell_type": "code",
   "execution_count": 3,
   "metadata": {},
   "outputs": [],
   "source": [
    "with (preprocessed_path/\"resources.json\").open('r') as f:\n",
    "    resources = json.load(f)\n",
    "with (preprocessed_path/\"ingredients.json\").open('r') as f:\n",
    "    ingredients = json.load(f)\n",
    "with (preprocessed_path/\"labels.json\").open('r') as f:\n",
    "    idx2label = [tuple(t) for t in json.load(f)]\n",
    "    label2idx={r:i for i,r in enumerate(idx2label)}"
   ]
  },
  {
   "cell_type": "code",
   "execution_count": 4,
   "metadata": {},
   "outputs": [
    {
     "data": {
      "text/plain": [
       "['104600',\n",
       " '109875',\n",
       " '116231',\n",
       " '116803',\n",
       " '116687',\n",
       " '104786',\n",
       " '102138',\n",
       " '117061',\n",
       " '103308',\n",
       " '106850']"
      ]
     },
     "execution_count": 4,
     "metadata": {},
     "output_type": "execute_result"
    }
   ],
   "source": [
    "states = np.load(str(preprocessed_path/ \"ultimate_state.npz\" ))\n",
    "states.files"
   ]
  },
  {
   "cell_type": "code",
   "execution_count": 5,
   "metadata": {},
   "outputs": [
    {
     "data": {
      "text/plain": [
       "(8, 17457)"
      ]
     },
     "execution_count": 5,
     "metadata": {},
     "output_type": "execute_result"
    }
   ],
   "source": [
    "fname = states.files[0]\n",
    "state = states[fname]\n",
    "with (preprocessed_path / f\"{fname}.json\").open('r') as f:\n",
    "    meta = json.load(f)\n",
    "state.shape"
   ]
  },
  {
   "cell_type": "code",
   "execution_count": 6,
   "metadata": {},
   "outputs": [
    {
     "data": {
      "text/plain": [
       "{'0': [['S1', 'Ieg3R-oQ_'], ['S1', 'LIMMEDIATE']],\n",
       " '1': [['S2', 'Ieg3R-oQ_'], ['S2', 'LIMMEDIATE']],\n",
       " '2': [['W1', 'I6xvdoZzb'],\n",
       "  ['W1', 'IKeeuKzTy'],\n",
       "  ['W1', 'IXclyBsV3'],\n",
       "  ['W1', 'IpyJf3OVq'],\n",
       "  ['W1', 'Iv00mZbtk'],\n",
       "  ['W1', 'LIMMEDIATE'],\n",
       "  ['W1', 'TBOWL']],\n",
       " '3': [['W1', 'I6xvdoZzb'],\n",
       "  ['W1', 'IKeeuKzTy'],\n",
       "  ['W1', 'IXclyBsV3'],\n",
       "  ['W1', 'Ieg3R-oQ_'],\n",
       "  ['W1', 'IpyJf3OVq'],\n",
       "  ['W1', 'Iv00mZbtk'],\n",
       "  ['W1', 'LIMMEDIATE'],\n",
       "  ['W1', 'TBOWL']],\n",
       " '4': [['GW3', 'LIMMEDIATE'], ['GW3', 'MOIL'], ['GW3', 'TSKILLET']],\n",
       " '5': [['GW3', 'I6xvdoZzb'],\n",
       "  ['GW3', 'IKeeuKzTy'],\n",
       "  ['GW3', 'IXclyBsV3'],\n",
       "  ['GW3', 'Ieg3R-oQ_'],\n",
       "  ['GW3', 'IlGA3C7DK'],\n",
       "  ['GW3', 'IpyJf3OVq'],\n",
       "  ['GW3', 'Iv00mZbtk'],\n",
       "  ['GW3', 'LIMMEDIATE'],\n",
       "  ['GW3', 'MOIL'],\n",
       "  ['GW3', 'TSKILLET']],\n",
       " '6': [['GW3', 'I6xvdoZzb'],\n",
       "  ['GW3', 'IKeeuKzTy'],\n",
       "  ['GW3', 'IXclyBsV3'],\n",
       "  ['GW3', 'Ieg3R-oQ_'],\n",
       "  ['GW3', 'IlGA3C7DK'],\n",
       "  ['GW3', 'IpyJf3OVq'],\n",
       "  ['GW3', 'Iv00mZbtk'],\n",
       "  ['GW3', 'LCOLOR'],\n",
       "  ['GW3', 'MOIL'],\n",
       "  ['GW3', 'TLID'],\n",
       "  ['GW3', 'TSKILLET']],\n",
       " '7': [['GW3', 'I6xvdoZzb'],\n",
       "  ['GW3', 'IKeeuKzTy'],\n",
       "  ['GW3', 'IXclyBsV3'],\n",
       "  ['GW3', 'Ieg3R-oQ_'],\n",
       "  ['GW3', 'IlGA3C7DK'],\n",
       "  ['GW3', 'IpyJf3OVq'],\n",
       "  ['GW3', 'Iv00mZbtk'],\n",
       "  ['GW3', 'LTIME'],\n",
       "  ['GW3', 'TSKILLET']]}"
      ]
     },
     "execution_count": 6,
     "metadata": {},
     "output_type": "execute_result"
    }
   ],
   "source": [
    "annotation =  annotations[\"104600\"][-1]\n",
    "annotation"
   ]
  },
  {
   "cell_type": "code",
   "execution_count": 13,
   "metadata": {},
   "outputs": [
    {
     "name": "stdout",
     "output_type": "stream",
     "text": [
      "[(0, 'add', 'Ieg3R-oQ_', 'S1'),\n",
      " (1, 'remove', 'Ieg3R-oQ_', 'S1'),\n",
      " (1, 'add', 'Ieg3R-oQ_', 'S2'),\n",
      " (2, 'add', 'Iv00mZbtk', 'W1'),\n",
      " (2, 'add', 'I6xvdoZzb', 'W1'),\n",
      " (2, 'add', 'IpyJf3OVq', 'W1'),\n",
      " (2, 'add', 'IXclyBsV3', 'W1'),\n",
      " (2, 'use', 'TBOWL', 'W1'),\n",
      " (2, 'add', 'IKeeuKzTy', 'W1'),\n",
      " (2, 'remove', 'Ieg3R-oQ_', 'S2'),\n",
      " (3, 'add', 'Ieg3R-oQ_', 'W1'),\n",
      " (4, 'remove', 'Iv00mZbtk', 'W1'),\n",
      " (4, 'remove', 'I6xvdoZzb', 'W1'),\n",
      " (4, 'remove', 'IpyJf3OVq', 'W1'),\n",
      " (4, 'remove', 'IKeeuKzTy', 'W1'),\n",
      " (4, 'remove', 'IXclyBsV3', 'W1'),\n",
      " (4, 'remove', 'Ieg3R-oQ_', 'W1'),\n",
      " (4, 'add', 'MOIL', 'GW3'),\n",
      " (4, 'use', 'TSKILLET', 'GW3'),\n",
      " (5, 'add', 'Iv00mZbtk', 'GW3'),\n",
      " (5, 'add', 'I6xvdoZzb', 'GW3'),\n",
      " (5, 'add', 'IlGA3C7DK', 'GW3'),\n",
      " (5, 'add', 'IpyJf3OVq', 'GW3'),\n",
      " (5, 'add', 'IKeeuKzTy', 'GW3'),\n",
      " (5, 'add', 'IXclyBsV3', 'GW3'),\n",
      " (5, 'add', 'Ieg3R-oQ_', 'GW3'),\n",
      " (6, 'chef_check', 'LCOLOR', 'GW3'),\n",
      " (6, 'use', 'TLID', 'GW3'),\n",
      " (7, 'chef_check', 'LTIME', 'GW3')]\n"
     ]
    }
   ],
   "source": [
    "max_ts = max(map(int, annotation.keys()))\n",
    "new_state = None\n",
    "state = {res: set() for res, desc in resources}\n",
    "actions = []\n",
    "for ts in range(1+max_ts):\n",
    "    new_state = {res: set() for res, desc in resources}\n",
    "    for resource, ing in annotation[str(ts)]: \n",
    "        new_state[resource].add(ing)\n",
    "    for resource in new_state.keys():\n",
    "        added_ings = new_state[resource]-state[resource]\n",
    "        removed_ings = state[resource]-new_state[resource]\n",
    "        for ing in added_ings:\n",
    "            if ing.startswith(\"L\"):\n",
    "                if ing!=\"LIMMEDIATE\":\n",
    "                    actions.append((ts, \"chef_check\", ing, resource))\n",
    "            elif ing.startswith(\"T\"):\n",
    "                actions.append((ts, \"use\", ing, resource))\n",
    "            else:\n",
    "                actions.append((ts, \"add\", ing, resource))\n",
    "        for ing in removed_ings:\n",
    "            if ing.startswith(\"I\"):\n",
    "                actions.append((ts, \"remove\", ing, resource))\n",
    "    state = deepcopy(new_state)\n",
    "pp (actions)"
   ]
  },
  {
   "cell_type": "code",
   "execution_count": null,
   "metadata": {},
   "outputs": [],
   "source": []
  },
  {
   "cell_type": "code",
   "execution_count": null,
   "metadata": {},
   "outputs": [],
   "source": []
  }
 ],
 "metadata": {
  "kernelspec": {
   "display_name": "Python 3",
   "language": "python",
   "name": "python3"
  },
  "language_info": {
   "codemirror_mode": {
    "name": "ipython",
    "version": 3
   },
   "file_extension": ".py",
   "mimetype": "text/x-python",
   "name": "python",
   "nbconvert_exporter": "python",
   "pygments_lexer": "ipython3",
   "version": "3.8.2"
  }
 },
 "nbformat": 4,
 "nbformat_minor": 4
}
