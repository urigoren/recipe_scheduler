{
 "cells": [
  {
   "cell_type": "code",
   "execution_count": 1,
   "metadata": {},
   "outputs": [],
   "source": [
    "import json, random, re, collections, itertools, base64, sys\n",
    "from dataclasses import dataclass\n",
    "from copy import deepcopy\n",
    "from pathlib import Path\n",
    "from tqdm.notebook import tqdm\n",
    "import numpy as np\n",
    "import pandas as pd\n",
    "from operator import itemgetter as at\n",
    "from IPython.core.display import display, HTML\n",
    "from ipywidgets import interact\n",
    "display_html = lambda x: display(HTML(x))\n",
    "from pprint import pprint as pp\n",
    "ls = lambda path: list(map(str, path.iterdir()))\n",
    "\n",
    "sys.path.append('../src')\n",
    "annot_path = Path(\"../annotations\")\n",
    "data_path = Path(\"../data\")\n",
    "preprocessed_path = Path(\"../preprocessed\")\n",
    "\n",
    "%load_ext autoreload\n",
    "%autoreload 2"
   ]
  },
  {
   "cell_type": "markdown",
   "metadata": {},
   "source": [
    "## Read mapping"
   ]
  },
  {
   "cell_type": "code",
   "execution_count": 2,
   "metadata": {},
   "outputs": [],
   "source": [
    "with (preprocessed_path / \"ingredients.json\").open(\"r\") as f:\n",
    "    ingredients = json.load(f)\n",
    "with (preprocessed_path / \"labels.json\").open(\"r\") as f:\n",
    "    idx2label = [tuple(t) for t in json.load(f)]\n",
    "    label2idx = {r: i for i, r in enumerate(idx2label)}\n",
    "with (preprocessed_path / \"resources.json\").open(\"r\") as f:\n",
    "    resources = json.load(f)\n",
    "ingredient_dict = {k: v for k, v in ingredients}\n",
    "resource_dict = {k: v for k, v in resources}\n",
    "\n",
    "with (data_path/\"annotaions.json\").open('r') as f:\n",
    "    annotations = json.load(f)"
   ]
  },
  {
   "cell_type": "code",
   "execution_count": 3,
   "metadata": {},
   "outputs": [
    {
     "data": {
      "text/plain": [
       "['../preprocessed/103308.npz',\n",
       " '../preprocessed/ingredients.json',\n",
       " '../preprocessed/resources.json',\n",
       " '../preprocessed/labels.json',\n",
       " '../preprocessed/103308.json']"
      ]
     },
     "execution_count": 3,
     "metadata": {},
     "output_type": "execute_result"
    }
   ],
   "source": [
    "ls(preprocessed_path)"
   ]
  },
  {
   "cell_type": "code",
   "execution_count": 4,
   "metadata": {},
   "outputs": [
    {
     "data": {
      "text/plain": [
       "['103308_0',\n",
       " '103308_1',\n",
       " '103308_2',\n",
       " '103308_3',\n",
       " '103308_4',\n",
       " '103308_5',\n",
       " '103308_6',\n",
       " '103308_7',\n",
       " '103308_8',\n",
       " '103308_9']"
      ]
     },
     "execution_count": 4,
     "metadata": {},
     "output_type": "execute_result"
    }
   ],
   "source": [
    "states = np.load(str(preprocessed_path/ \"103308.npz\" ))\n",
    "states.files"
   ]
  },
  {
   "cell_type": "code",
   "execution_count": 5,
   "metadata": {},
   "outputs": [
    {
     "data": {
      "text/plain": [
       "array([[False, False, False, ..., False, False, False],\n",
       "       [False, False, False, ..., False, False, False]])"
      ]
     },
     "execution_count": 5,
     "metadata": {},
     "output_type": "execute_result"
    }
   ],
   "source": [
    "states['103308_3']"
   ]
  },
  {
   "cell_type": "code",
   "execution_count": 6,
   "metadata": {},
   "outputs": [
    {
     "data": {
      "text/plain": [
       "[{'0': [['A1', 'I10_d4pRP'],\n",
       "   ['A1', 'I7oUHHY41'],\n",
       "   ['A1', 'IN0CxTNVh'],\n",
       "   ['A1', 'INNbMITPe'],\n",
       "   ['A1', 'IW2FkWnJk'],\n",
       "   ['A1', 'Itg64O_Uz'],\n",
       "   ['A1', 'IukXkN8DV'],\n",
       "   ['A1', 'Iynxt1P5R'],\n",
       "   ['A1', 'LIMMEDIATE']]},\n",
       " {'1': [['A1', 'IN0CxTNVh'],\n",
       "   ['A1', 'INNbMITPe'],\n",
       "   ['A1', 'IW2FkWnJk'],\n",
       "   ['A1', 'Itg64O_Uz'],\n",
       "   ['A1', 'IukXkN8DV'],\n",
       "   ['A1', 'Iynxt1P5R'],\n",
       "   ['A1', 'LIMMEDIATE'],\n",
       "   ['GW4', 'I10_d4pRP'],\n",
       "   ['GW4', 'I7oUHHY41'],\n",
       "   ['GW4', 'LIMMEDIATE'],\n",
       "   ['GW4', 'TSKILLET']],\n",
       "  '0': [['A1', 'I10_d4pRP'],\n",
       "   ['A1', 'I7oUHHY41'],\n",
       "   ['A1', 'IN0CxTNVh'],\n",
       "   ['A1', 'INNbMITPe'],\n",
       "   ['A1', 'IW2FkWnJk'],\n",
       "   ['A1', 'Itg64O_Uz'],\n",
       "   ['A1', 'IukXkN8DV'],\n",
       "   ['A1', 'Iynxt1P5R'],\n",
       "   ['A1', 'LIMMEDIATE']]},\n",
       " {'1': [['A1', 'IN0CxTNVh'],\n",
       "   ['A1', 'INNbMITPe'],\n",
       "   ['A1', 'IW2FkWnJk'],\n",
       "   ['A1', 'Itg64O_Uz'],\n",
       "   ['A1', 'LIMMEDIATE'],\n",
       "   ['GW4', 'I10_d4pRP'],\n",
       "   ['GW4', 'I7oUHHY41'],\n",
       "   ['GW4', 'LIMMEDIATE'],\n",
       "   ['GW4', 'TSKILLET'],\n",
       "   ['W1', 'IukXkN8DV'],\n",
       "   ['W1', 'Iynxt1P5R'],\n",
       "   ['W1', 'LIMMEDIATE']],\n",
       "  '2': [['A1', 'IN0CxTNVh'],\n",
       "   ['A1', 'INNbMITPe'],\n",
       "   ['A1', 'Itg64O_Uz'],\n",
       "   ['A1', 'LIMMEDIATE'],\n",
       "   ['GW4', 'I10_d4pRP'],\n",
       "   ['GW4', 'I7oUHHY41'],\n",
       "   ['GW4', 'LIMMEDIATE'],\n",
       "   ['GW4', 'TSKILLET'],\n",
       "   ['W5', 'IW2FkWnJk'],\n",
       "   ['W5', 'IukXkN8DV'],\n",
       "   ['W5', 'Iynxt1P5R'],\n",
       "   ['W5', 'LIMMEDIATE']],\n",
       "  '0': [['A1', 'IN0CxTNVh'],\n",
       "   ['A1', 'INNbMITPe'],\n",
       "   ['A1', 'IW2FkWnJk'],\n",
       "   ['A1', 'Itg64O_Uz'],\n",
       "   ['A1', 'IukXkN8DV'],\n",
       "   ['A1', 'Iynxt1P5R'],\n",
       "   ['A1', 'LIMMEDIATE'],\n",
       "   ['GW4', 'I10_d4pRP'],\n",
       "   ['GW4', 'I7oUHHY41'],\n",
       "   ['GW4', 'LIMMEDIATE'],\n",
       "   ['GW4', 'TSKILLET']]},\n",
       " {'1': [['A1', 'IN0CxTNVh'],\n",
       "   ['A1', 'INNbMITPe'],\n",
       "   ['A1', 'Itg64O_Uz'],\n",
       "   ['A1', 'LIMMEDIATE'],\n",
       "   ['GW4', 'I10_d4pRP'],\n",
       "   ['GW4', 'I7oUHHY41'],\n",
       "   ['GW4', 'IW2FkWnJk'],\n",
       "   ['GW4', 'IukXkN8DV'],\n",
       "   ['GW4', 'Iynxt1P5R'],\n",
       "   ['GW4', 'LTIME'],\n",
       "   ['GW4', 'TSKILLET']],\n",
       "  '0': [['A1', 'IN0CxTNVh'],\n",
       "   ['A1', 'INNbMITPe'],\n",
       "   ['A1', 'Itg64O_Uz'],\n",
       "   ['A1', 'LIMMEDIATE'],\n",
       "   ['GW4', 'I10_d4pRP'],\n",
       "   ['GW4', 'I7oUHHY41'],\n",
       "   ['GW4', 'LIMMEDIATE'],\n",
       "   ['GW4', 'TSKILLET'],\n",
       "   ['W5', 'IW2FkWnJk'],\n",
       "   ['W5', 'IukXkN8DV'],\n",
       "   ['W5', 'Iynxt1P5R'],\n",
       "   ['W5', 'LIMMEDIATE']]},\n",
       " {'1': [['A1', 'IN0CxTNVh'],\n",
       "   ['A1', 'INNbMITPe'],\n",
       "   ['A1', 'Itg64O_Uz'],\n",
       "   ['A1', 'LIMMEDIATE'],\n",
       "   ['BL2', 'I10_d4pRP'],\n",
       "   ['BL2', 'I7oUHHY41'],\n",
       "   ['BL2', 'IW2FkWnJk'],\n",
       "   ['BL2', 'IukXkN8DV'],\n",
       "   ['BL2', 'Iynxt1P5R'],\n",
       "   ['BL2', 'LIMMEDIATE'],\n",
       "   ['BL2', 'TOTHER']],\n",
       "  '0': [['A1', 'IN0CxTNVh'],\n",
       "   ['A1', 'INNbMITPe'],\n",
       "   ['A1', 'Itg64O_Uz'],\n",
       "   ['A1', 'LIMMEDIATE'],\n",
       "   ['GW4', 'I10_d4pRP'],\n",
       "   ['GW4', 'I7oUHHY41'],\n",
       "   ['GW4', 'IW2FkWnJk'],\n",
       "   ['GW4', 'IukXkN8DV'],\n",
       "   ['GW4', 'Iynxt1P5R'],\n",
       "   ['GW4', 'LIMMEDIATE'],\n",
       "   ['GW4', 'TSKILLET']]},\n",
       " {'1': [['A1', 'IN0CxTNVh'],\n",
       "   ['A1', 'INNbMITPe'],\n",
       "   ['A1', 'Itg64O_Uz'],\n",
       "   ['A1', 'LIMMEDIATE'],\n",
       "   ['BL2', 'I10_d4pRP'],\n",
       "   ['BL2', 'I7oUHHY41'],\n",
       "   ['BL2', 'IW2FkWnJk'],\n",
       "   ['BL2', 'IukXkN8DV'],\n",
       "   ['BL2', 'Iynxt1P5R'],\n",
       "   ['BL2', 'LTIME'],\n",
       "   ['BL2', 'TOTHER']],\n",
       "  '0': [['A1', 'IN0CxTNVh'],\n",
       "   ['A1', 'INNbMITPe'],\n",
       "   ['A1', 'Itg64O_Uz'],\n",
       "   ['A1', 'LIMMEDIATE'],\n",
       "   ['BL2', 'I10_d4pRP'],\n",
       "   ['BL2', 'I7oUHHY41'],\n",
       "   ['BL2', 'IW2FkWnJk'],\n",
       "   ['BL2', 'IukXkN8DV'],\n",
       "   ['BL2', 'Iynxt1P5R'],\n",
       "   ['BL2', 'LIMMEDIATE'],\n",
       "   ['BL2', 'TOTHER']]},\n",
       " {'1': [['A1', 'IN0CxTNVh'],\n",
       "   ['A1', 'LIMMEDIATE'],\n",
       "   ['BL2', 'I10_d4pRP'],\n",
       "   ['BL2', 'I7oUHHY41'],\n",
       "   ['BL2', 'IW2FkWnJk'],\n",
       "   ['BL2', 'IukXkN8DV'],\n",
       "   ['BL2', 'Iynxt1P5R'],\n",
       "   ['BL2', 'LIMMEDIATE'],\n",
       "   ['BL2', 'TOTHER'],\n",
       "   ['W1', 'INNbMITPe'],\n",
       "   ['W1', 'Itg64O_Uz'],\n",
       "   ['W1', 'LTIME'],\n",
       "   ['W1', 'TBOWL'],\n",
       "   ['W1', 'TSTIR']],\n",
       "  '0': [['A1', 'IN0CxTNVh'],\n",
       "   ['A1', 'INNbMITPe'],\n",
       "   ['A1', 'Itg64O_Uz'],\n",
       "   ['A1', 'LIMMEDIATE'],\n",
       "   ['BL2', 'I10_d4pRP'],\n",
       "   ['BL2', 'I7oUHHY41'],\n",
       "   ['BL2', 'IW2FkWnJk'],\n",
       "   ['BL2', 'IukXkN8DV'],\n",
       "   ['BL2', 'Iynxt1P5R'],\n",
       "   ['BL2', 'LIMMEDIATE'],\n",
       "   ['BL2', 'TOTHER']]},\n",
       " {'1': [['A1', 'IN0CxTNVh'],\n",
       "   ['A1', 'LIMMEDIATE'],\n",
       "   ['W1', 'I10_d4pRP'],\n",
       "   ['W1', 'I7oUHHY41'],\n",
       "   ['W1', 'INNbMITPe'],\n",
       "   ['W1', 'IW2FkWnJk'],\n",
       "   ['W1', 'Itg64O_Uz'],\n",
       "   ['W1', 'IukXkN8DV'],\n",
       "   ['W1', 'Iynxt1P5R'],\n",
       "   ['W1', 'LIMMEDIATE'],\n",
       "   ['W1', 'TSKILLET']],\n",
       "  '2': [['W1', 'I10_d4pRP'],\n",
       "   ['W1', 'I7oUHHY41'],\n",
       "   ['W1', 'IN0CxTNVh'],\n",
       "   ['W1', 'INNbMITPe'],\n",
       "   ['W1', 'IW2FkWnJk'],\n",
       "   ['W1', 'Itg64O_Uz'],\n",
       "   ['W1', 'IukXkN8DV'],\n",
       "   ['W1', 'Iynxt1P5R'],\n",
       "   ['W1', 'LIMMEDIATE'],\n",
       "   ['W1', 'TSKILLET']],\n",
       "  '0': [['A1', 'IN0CxTNVh'],\n",
       "   ['A1', 'LIMMEDIATE'],\n",
       "   ['BL2', 'I10_d4pRP'],\n",
       "   ['BL2', 'I7oUHHY41'],\n",
       "   ['BL2', 'IW2FkWnJk'],\n",
       "   ['BL2', 'IukXkN8DV'],\n",
       "   ['BL2', 'Iynxt1P5R'],\n",
       "   ['BL2', 'LIMMEDIATE'],\n",
       "   ['BL2', 'TOTHER'],\n",
       "   ['W1', 'INNbMITPe'],\n",
       "   ['W1', 'Itg64O_Uz'],\n",
       "   ['W1', 'LIMMEDIATE'],\n",
       "   ['W1', 'TBOWL'],\n",
       "   ['W1', 'TSTIR']]},\n",
       " {'1': [['GW3', 'I10_d4pRP'],\n",
       "   ['GW3', 'I7oUHHY41'],\n",
       "   ['GW3', 'IN0CxTNVh'],\n",
       "   ['GW3', 'INNbMITPe'],\n",
       "   ['GW3', 'IW2FkWnJk'],\n",
       "   ['GW3', 'Itg64O_Uz'],\n",
       "   ['GW3', 'IukXkN8DV'],\n",
       "   ['GW3', 'Iynxt1P5R'],\n",
       "   ['GW3', 'LTEXTURE'],\n",
       "   ['GW3', 'TSKILLET']],\n",
       "  '0': [['W1', 'I10_d4pRP'],\n",
       "   ['W1', 'I7oUHHY41'],\n",
       "   ['W1', 'IN0CxTNVh'],\n",
       "   ['W1', 'INNbMITPe'],\n",
       "   ['W1', 'IW2FkWnJk'],\n",
       "   ['W1', 'Itg64O_Uz'],\n",
       "   ['W1', 'IukXkN8DV'],\n",
       "   ['W1', 'Iynxt1P5R'],\n",
       "   ['W1', 'LIMMEDIATE'],\n",
       "   ['W1', 'TSKILLET']]},\n",
       " {'2': [['A5', 'I10_d4pRP'],\n",
       "   ['A5', 'I7oUHHY41'],\n",
       "   ['A5', 'IN0CxTNVh'],\n",
       "   ['A5', 'INNbMITPe'],\n",
       "   ['A5', 'IW2FkWnJk'],\n",
       "   ['A5', 'Itg64O_Uz'],\n",
       "   ['A5', 'IukXkN8DV'],\n",
       "   ['A5', 'Iynxt1P5R'],\n",
       "   ['A5', 'LIMMEDIATE']],\n",
       "  '1': [['W5', 'I10_d4pRP'],\n",
       "   ['W5', 'I7oUHHY41'],\n",
       "   ['W5', 'IN0CxTNVh'],\n",
       "   ['W5', 'INNbMITPe'],\n",
       "   ['W5', 'IW2FkWnJk'],\n",
       "   ['W5', 'Itg64O_Uz'],\n",
       "   ['W5', 'IukXkN8DV'],\n",
       "   ['W5', 'Iynxt1P5R'],\n",
       "   ['W5', 'LIMMEDIATE']],\n",
       "  '0': [['GW3', 'I10_d4pRP'],\n",
       "   ['GW3', 'I7oUHHY41'],\n",
       "   ['GW3', 'IN0CxTNVh'],\n",
       "   ['GW3', 'INNbMITPe'],\n",
       "   ['GW3', 'IW2FkWnJk'],\n",
       "   ['GW3', 'Itg64O_Uz'],\n",
       "   ['GW3', 'IukXkN8DV'],\n",
       "   ['GW3', 'Iynxt1P5R'],\n",
       "   ['GW3', 'LIMMEDIATE'],\n",
       "   ['GW3', 'TSKILLET']]}]"
      ]
     },
     "execution_count": 6,
     "metadata": {},
     "output_type": "execute_result"
    }
   ],
   "source": [
    "annotations[\"103308\"]"
   ]
  },
  {
   "cell_type": "code",
   "execution_count": 7,
   "metadata": {},
   "outputs": [
    {
     "ename": "KeyError",
     "evalue": "'A1'",
     "output_type": "error",
     "traceback": [
      "\u001b[0;31m---------------------------------------------------------------------------\u001b[0m",
      "\u001b[0;31mKeyError\u001b[0m                                  Traceback (most recent call last)",
      "\u001b[0;32m<ipython-input-7-9041095517b2>\u001b[0m in \u001b[0;36m<module>\u001b[0;34m\u001b[0m\n\u001b[1;32m     14\u001b[0m     \u001b[0;32mreturn\u001b[0m \u001b[0mactions\u001b[0m\u001b[0;34m\u001b[0m\u001b[0;34m\u001b[0m\u001b[0m\n\u001b[1;32m     15\u001b[0m \u001b[0;34m\u001b[0m\u001b[0m\n\u001b[0;32m---> 16\u001b[0;31m \u001b[0mpp\u001b[0m \u001b[0;34m(\u001b[0m\u001b[0mhuman_program\u001b[0m\u001b[0;34m(\u001b[0m\u001b[0mannotations\u001b[0m\u001b[0;34m[\u001b[0m\u001b[0;34m\"103308\"\u001b[0m\u001b[0;34m]\u001b[0m\u001b[0;34m)\u001b[0m\u001b[0;34m)\u001b[0m\u001b[0;34m\u001b[0m\u001b[0;34m\u001b[0m\u001b[0m\n\u001b[0m",
      "\u001b[0;32m<ipython-input-7-9041095517b2>\u001b[0m in \u001b[0;36mhuman_program\u001b[0;34m(annotation)\u001b[0m\n\u001b[1;32m     10\u001b[0m             \u001b[0mresource_dict\u001b[0m\u001b[0;34m.\u001b[0m\u001b[0mget\u001b[0m\u001b[0;34m(\u001b[0m\u001b[0ma\u001b[0m\u001b[0;34m.\u001b[0m\u001b[0mresource\u001b[0m\u001b[0;34m)\u001b[0m\u001b[0;34m,\u001b[0m\u001b[0;34m\u001b[0m\u001b[0;34m\u001b[0m\u001b[0m\n\u001b[1;32m     11\u001b[0m         )\n\u001b[0;32m---> 12\u001b[0;31m         \u001b[0;32mfor\u001b[0m \u001b[0ma\u001b[0m \u001b[0;32min\u001b[0m \u001b[0mprogram\u001b[0m\u001b[0;34m(\u001b[0m\u001b[0mannotation\u001b[0m\u001b[0;34m)\u001b[0m\u001b[0;34m\u001b[0m\u001b[0;34m\u001b[0m\u001b[0m\n\u001b[0m\u001b[1;32m     13\u001b[0m     ]\n\u001b[1;32m     14\u001b[0m     \u001b[0;32mreturn\u001b[0m \u001b[0mactions\u001b[0m\u001b[0;34m\u001b[0m\u001b[0;34m\u001b[0m\u001b[0m\n",
      "\u001b[0;32m~/recipe_scheduler/src/actions.py\u001b[0m in \u001b[0;36mprogram\u001b[0;34m(annotation)\u001b[0m\n\u001b[1;32m    151\u001b[0m     \u001b[0mts\u001b[0m \u001b[0;34m=\u001b[0m \u001b[0;36m0\u001b[0m\u001b[0;34m\u001b[0m\u001b[0;34m\u001b[0m\u001b[0m\n\u001b[1;32m    152\u001b[0m     \u001b[0;32mfor\u001b[0m \u001b[0ma\u001b[0m \u001b[0;32min\u001b[0m \u001b[0mannotation\u001b[0m\u001b[0;34m:\u001b[0m\u001b[0;34m\u001b[0m\u001b[0;34m\u001b[0m\u001b[0m\n\u001b[0;32m--> 153\u001b[0;31m         \u001b[0mp\u001b[0m \u001b[0;34m=\u001b[0m \u001b[0mprogram_step\u001b[0m\u001b[0;34m(\u001b[0m\u001b[0ma\u001b[0m\u001b[0;34m)\u001b[0m\u001b[0;34m\u001b[0m\u001b[0;34m\u001b[0m\u001b[0m\n\u001b[0m\u001b[1;32m    154\u001b[0m         \u001b[0;32mif\u001b[0m \u001b[0mlen\u001b[0m\u001b[0;34m(\u001b[0m\u001b[0mp\u001b[0m\u001b[0;34m)\u001b[0m \u001b[0;34m==\u001b[0m \u001b[0;36m0\u001b[0m\u001b[0;34m:\u001b[0m\u001b[0;34m\u001b[0m\u001b[0;34m\u001b[0m\u001b[0m\n\u001b[1;32m    155\u001b[0m             \u001b[0;32mcontinue\u001b[0m\u001b[0;34m\u001b[0m\u001b[0;34m\u001b[0m\u001b[0m\n",
      "\u001b[0;32m~/recipe_scheduler/src/actions.py\u001b[0m in \u001b[0;36mprogram_step\u001b[0;34m(annotation)\u001b[0m\n\u001b[1;32m     92\u001b[0m     \u001b[0mstate\u001b[0m \u001b[0;34m=\u001b[0m \u001b[0;34m{\u001b[0m\u001b[0mres\u001b[0m\u001b[0;34m:\u001b[0m \u001b[0mset\u001b[0m\u001b[0;34m(\u001b[0m\u001b[0;34m)\u001b[0m \u001b[0;32mfor\u001b[0m \u001b[0mres\u001b[0m \u001b[0;32min\u001b[0m \u001b[0mresource_dict\u001b[0m\u001b[0;34m}\u001b[0m\u001b[0;34m\u001b[0m\u001b[0;34m\u001b[0m\u001b[0m\n\u001b[1;32m     93\u001b[0m     \u001b[0;32mfor\u001b[0m \u001b[0mresource\u001b[0m\u001b[0;34m,\u001b[0m \u001b[0ming\u001b[0m \u001b[0;32min\u001b[0m \u001b[0mannotation\u001b[0m\u001b[0;34m.\u001b[0m\u001b[0mget\u001b[0m\u001b[0;34m(\u001b[0m\u001b[0;34m\"0\"\u001b[0m\u001b[0;34m,\u001b[0m \u001b[0mannotation\u001b[0m\u001b[0;34m.\u001b[0m\u001b[0mget\u001b[0m\u001b[0;34m(\u001b[0m\u001b[0;36m0\u001b[0m\u001b[0;34m)\u001b[0m\u001b[0;34m)\u001b[0m\u001b[0;34m:\u001b[0m\u001b[0;34m\u001b[0m\u001b[0;34m\u001b[0m\u001b[0m\n\u001b[0;32m---> 94\u001b[0;31m         \u001b[0mstate\u001b[0m\u001b[0;34m[\u001b[0m\u001b[0mresource\u001b[0m\u001b[0;34m]\u001b[0m\u001b[0;34m.\u001b[0m\u001b[0madd\u001b[0m\u001b[0;34m(\u001b[0m\u001b[0ming\u001b[0m\u001b[0;34m)\u001b[0m\u001b[0;34m\u001b[0m\u001b[0;34m\u001b[0m\u001b[0m\n\u001b[0m\u001b[1;32m     95\u001b[0m     \u001b[0mactions\u001b[0m \u001b[0;34m=\u001b[0m \u001b[0;34m[\u001b[0m\u001b[0;34m]\u001b[0m\u001b[0;34m\u001b[0m\u001b[0;34m\u001b[0m\u001b[0m\n\u001b[1;32m     96\u001b[0m     \u001b[0;32mfor\u001b[0m \u001b[0mts\u001b[0m \u001b[0;32min\u001b[0m \u001b[0mrange\u001b[0m\u001b[0;34m(\u001b[0m\u001b[0;36m1\u001b[0m\u001b[0;34m,\u001b[0m \u001b[0;36m1\u001b[0m \u001b[0;34m+\u001b[0m \u001b[0mmax_ts\u001b[0m\u001b[0;34m)\u001b[0m\u001b[0;34m:\u001b[0m\u001b[0;34m\u001b[0m\u001b[0;34m\u001b[0m\u001b[0m\n",
      "\u001b[0;31mKeyError\u001b[0m: 'A1'"
     ]
    }
   ],
   "source": [
    "from actions import program, program_step, Instruction\n",
    "\n",
    "def human_program(annotation):\n",
    "    \"\"\"Runs the program and translates to human language\"\"\"\n",
    "    actions = [\n",
    "        (\n",
    "            a.ts,\n",
    "            a.command.name,\n",
    "            ingredient_dict.get(a.ingredient, resource_dict.get(a.ingredient, \"\")),\n",
    "            resource_dict.get(a.resource),\n",
    "        )\n",
    "        for a in program(annotation)\n",
    "    ]\n",
    "    return actions\n",
    "\n",
    "pp (human_program(annotations[\"103308\"]))"
   ]
  },
  {
   "cell_type": "code",
   "execution_count": 9,
   "metadata": {},
   "outputs": [
    {
     "ename": "KeyError",
     "evalue": "'A1'",
     "output_type": "error",
     "traceback": [
      "\u001b[0;31m---------------------------------------------------------------------------\u001b[0m",
      "\u001b[0;31mKeyError\u001b[0m                                  Traceback (most recent call last)",
      "\u001b[0;32m<ipython-input-9-a548f1f06eb2>\u001b[0m in \u001b[0;36m<module>\u001b[0;34m\u001b[0m\n\u001b[0;32m----> 1\u001b[0;31m \u001b[0mprogram\u001b[0m\u001b[0;34m(\u001b[0m\u001b[0mannotations\u001b[0m\u001b[0;34m[\u001b[0m\u001b[0;34m\"103308\"\u001b[0m\u001b[0;34m]\u001b[0m\u001b[0;34m)\u001b[0m\u001b[0;34m\u001b[0m\u001b[0;34m\u001b[0m\u001b[0m\n\u001b[0m",
      "\u001b[0;32m~/recipe_scheduler/src/actions.py\u001b[0m in \u001b[0;36mprogram\u001b[0;34m(annotation)\u001b[0m\n\u001b[1;32m    151\u001b[0m     \u001b[0mts\u001b[0m \u001b[0;34m=\u001b[0m \u001b[0;36m0\u001b[0m\u001b[0;34m\u001b[0m\u001b[0;34m\u001b[0m\u001b[0m\n\u001b[1;32m    152\u001b[0m     \u001b[0;32mfor\u001b[0m \u001b[0ma\u001b[0m \u001b[0;32min\u001b[0m \u001b[0mannotation\u001b[0m\u001b[0;34m:\u001b[0m\u001b[0;34m\u001b[0m\u001b[0;34m\u001b[0m\u001b[0m\n\u001b[0;32m--> 153\u001b[0;31m         \u001b[0mp\u001b[0m \u001b[0;34m=\u001b[0m \u001b[0mprogram_step\u001b[0m\u001b[0;34m(\u001b[0m\u001b[0ma\u001b[0m\u001b[0;34m)\u001b[0m\u001b[0;34m\u001b[0m\u001b[0;34m\u001b[0m\u001b[0m\n\u001b[0m\u001b[1;32m    154\u001b[0m         \u001b[0;32mif\u001b[0m \u001b[0mlen\u001b[0m\u001b[0;34m(\u001b[0m\u001b[0mp\u001b[0m\u001b[0;34m)\u001b[0m \u001b[0;34m==\u001b[0m \u001b[0;36m0\u001b[0m\u001b[0;34m:\u001b[0m\u001b[0;34m\u001b[0m\u001b[0;34m\u001b[0m\u001b[0m\n\u001b[1;32m    155\u001b[0m             \u001b[0;32mcontinue\u001b[0m\u001b[0;34m\u001b[0m\u001b[0;34m\u001b[0m\u001b[0m\n",
      "\u001b[0;32m~/recipe_scheduler/src/actions.py\u001b[0m in \u001b[0;36mprogram_step\u001b[0;34m(annotation)\u001b[0m\n\u001b[1;32m     92\u001b[0m     \u001b[0mstate\u001b[0m \u001b[0;34m=\u001b[0m \u001b[0;34m{\u001b[0m\u001b[0mres\u001b[0m\u001b[0;34m:\u001b[0m \u001b[0mset\u001b[0m\u001b[0;34m(\u001b[0m\u001b[0;34m)\u001b[0m \u001b[0;32mfor\u001b[0m \u001b[0mres\u001b[0m \u001b[0;32min\u001b[0m \u001b[0mresource_dict\u001b[0m\u001b[0;34m}\u001b[0m\u001b[0;34m\u001b[0m\u001b[0;34m\u001b[0m\u001b[0m\n\u001b[1;32m     93\u001b[0m     \u001b[0;32mfor\u001b[0m \u001b[0mresource\u001b[0m\u001b[0;34m,\u001b[0m \u001b[0ming\u001b[0m \u001b[0;32min\u001b[0m \u001b[0mannotation\u001b[0m\u001b[0;34m.\u001b[0m\u001b[0mget\u001b[0m\u001b[0;34m(\u001b[0m\u001b[0;34m\"0\"\u001b[0m\u001b[0;34m,\u001b[0m \u001b[0mannotation\u001b[0m\u001b[0;34m.\u001b[0m\u001b[0mget\u001b[0m\u001b[0;34m(\u001b[0m\u001b[0;36m0\u001b[0m\u001b[0;34m)\u001b[0m\u001b[0;34m)\u001b[0m\u001b[0;34m:\u001b[0m\u001b[0;34m\u001b[0m\u001b[0;34m\u001b[0m\u001b[0m\n\u001b[0;32m---> 94\u001b[0;31m         \u001b[0mstate\u001b[0m\u001b[0;34m[\u001b[0m\u001b[0mresource\u001b[0m\u001b[0;34m]\u001b[0m\u001b[0;34m.\u001b[0m\u001b[0madd\u001b[0m\u001b[0;34m(\u001b[0m\u001b[0ming\u001b[0m\u001b[0;34m)\u001b[0m\u001b[0;34m\u001b[0m\u001b[0;34m\u001b[0m\u001b[0m\n\u001b[0m\u001b[1;32m     95\u001b[0m     \u001b[0mactions\u001b[0m \u001b[0;34m=\u001b[0m \u001b[0;34m[\u001b[0m\u001b[0;34m]\u001b[0m\u001b[0;34m\u001b[0m\u001b[0;34m\u001b[0m\u001b[0m\n\u001b[1;32m     96\u001b[0m     \u001b[0;32mfor\u001b[0m \u001b[0mts\u001b[0m \u001b[0;32min\u001b[0m \u001b[0mrange\u001b[0m\u001b[0;34m(\u001b[0m\u001b[0;36m1\u001b[0m\u001b[0;34m,\u001b[0m \u001b[0;36m1\u001b[0m \u001b[0;34m+\u001b[0m \u001b[0mmax_ts\u001b[0m\u001b[0;34m)\u001b[0m\u001b[0;34m:\u001b[0m\u001b[0;34m\u001b[0m\u001b[0;34m\u001b[0m\u001b[0m\n",
      "\u001b[0;31mKeyError\u001b[0m: 'A1'"
     ]
    }
   ],
   "source": [
    "program(annotations[\"103308\"])"
   ]
  },
  {
   "cell_type": "code",
   "execution_count": null,
   "metadata": {},
   "outputs": [],
   "source": [
    "for a,b in zip(annotations[\"103308\"], annotations[\"103308\"][1:]):\n",
    "    last = str(max(map(int,a.keys())))\n",
    "    last = set(filter(lambda t: t[1].startswith('I'),map(tuple, a[last])))\n",
    "    first = set(filter(lambda t: t[1].startswith('I'),map(tuple, b['0'])))\n",
    "    print (last-first)"
   ]
  },
  {
   "cell_type": "code",
   "execution_count": null,
   "metadata": {},
   "outputs": [],
   "source": [
    "program_step(annotations[\"103308\"][1])"
   ]
  },
  {
   "cell_type": "code",
   "execution_count": null,
   "metadata": {},
   "outputs": [],
   "source": [
    "annotations[\"103308\"][1]"
   ]
  },
  {
   "cell_type": "code",
   "execution_count": null,
   "metadata": {},
   "outputs": [],
   "source": []
  }
 ],
 "metadata": {
  "kernelspec": {
   "display_name": "Python 3",
   "language": "python",
   "name": "python3"
  },
  "language_info": {
   "codemirror_mode": {
    "name": "ipython",
    "version": 3
   },
   "file_extension": ".py",
   "mimetype": "text/x-python",
   "name": "python",
   "nbconvert_exporter": "python",
   "pygments_lexer": "ipython3",
   "version": "3.8.2"
  }
 },
 "nbformat": 4,
 "nbformat_minor": 4
}
