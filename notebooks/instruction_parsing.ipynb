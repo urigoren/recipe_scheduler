{
 "cells": [
  {
   "cell_type": "code",
   "execution_count": 1,
   "metadata": {},
   "outputs": [],
   "source": [
    "import json, random, re, collections, itertools, base64, sys\n",
    "from dataclasses import dataclass\n",
    "from copy import deepcopy\n",
    "from pathlib import Path\n",
    "from tqdm.notebook import tqdm\n",
    "import numpy as np\n",
    "import pandas as pd\n",
    "from operator import itemgetter as at\n",
    "from IPython.core.display import display, HTML\n",
    "from ipywidgets import interact\n",
    "display_html = lambda x: display(HTML(str(x)))\n",
    "from pprint import pprint as pp\n",
    "from edit_distance import edit_distance\n",
    "ls = lambda path: list(map(str, path.iterdir()))\n",
    "\n",
    "sys.path.append('../src')\n",
    "annot_path = Path(\"../annotations\")\n",
    "data_path = Path(\"../data\")\n",
    "preprocessed_path = Path(\"../preprocessed\")\n",
    "mturk_path = Path(\"../mturk/results\")\n",
    "\n",
    "def read_annotation(annotation_id, mturk_batch=None):\n",
    "    if mturk_batch:\n",
    "        annotation = annotation_io.mturk_annotation(mturk_batch, annotation_id)\n",
    "    else:\n",
    "        annotation = annotation_io.get_annotation(annotation_id)\n",
    "    return annotation\n",
    "\n",
    "import annotation_io\n",
    "import read_data\n",
    "\n",
    "%load_ext autoreload\n",
    "%autoreload 2"
   ]
  },
  {
   "cell_type": "markdown",
   "metadata": {},
   "source": [
    "## Read mapping"
   ]
  },
  {
   "cell_type": "code",
   "execution_count": 12,
   "metadata": {},
   "outputs": [],
   "source": [
    "with (preprocessed_path / \"ingredients.json\").open(\"r\") as f:\n",
    "    ingredients = json.load(f)\n",
    "with (preprocessed_path / \"labels.json\").open(\"r\") as f:\n",
    "    idx2label = [tuple(t) for t in json.load(f)]\n",
    "    label2idx = {r: i for i, r in enumerate(idx2label)}\n",
    "with (preprocessed_path / \"resources.json\").open(\"r\") as f:\n",
    "    resources = json.load(f)\n",
    "ingredient_dict = {k: v for k, v in ingredients}\n",
    "resource_dict = {k: v for k, v in resources}"
   ]
  },
  {
   "cell_type": "code",
   "execution_count": 3,
   "metadata": {},
   "outputs": [
    {
     "data": {
      "text/plain": [
       "['../preprocessed/103308.npz',\n",
       " '../preprocessed/ingredients.json',\n",
       " '../preprocessed/resources.json',\n",
       " '../preprocessed/labels.json',\n",
       " '../preprocessed/103308.json']"
      ]
     },
     "execution_count": 3,
     "metadata": {},
     "output_type": "execute_result"
    }
   ],
   "source": [
    "ls(preprocessed_path)"
   ]
  },
  {
   "cell_type": "code",
   "execution_count": 4,
   "metadata": {},
   "outputs": [
    {
     "data": {
      "text/plain": [
       "['103308_0',\n",
       " '103308_1',\n",
       " '103308_2',\n",
       " '103308_3',\n",
       " '103308_4',\n",
       " '103308_5',\n",
       " '103308_6',\n",
       " '103308_7',\n",
       " '103308_8',\n",
       " '103308_9']"
      ]
     },
     "execution_count": 4,
     "metadata": {},
     "output_type": "execute_result"
    }
   ],
   "source": [
    "states = np.load(str(preprocessed_path/ \"103308.npz\" ))\n",
    "states.files"
   ]
  },
  {
   "cell_type": "code",
   "execution_count": 5,
   "metadata": {},
   "outputs": [
    {
     "data": {
      "text/plain": [
       "array([[False, False, False, ..., False, False, False],\n",
       "       [False, False, False, ..., False, False, False]])"
      ]
     },
     "execution_count": 5,
     "metadata": {},
     "output_type": "execute_result"
    }
   ],
   "source": [
    "states['103308_3']"
   ]
  },
  {
   "cell_type": "code",
   "execution_count": 6,
   "metadata": {},
   "outputs": [],
   "source": [
    "from instruction_parsing import program, program_step, Instruction, execute\n",
    "\n",
    "def human_program(annotation):\n",
    "    \"\"\"Runs the program and translates to human language\"\"\"\n",
    "    actions = [\n",
    "        (\n",
    "            a.ts,\n",
    "            a.command.name,\n",
    "            ingredient_dict.get(a.arg, resource_dict.get(a.arg, \"\")),\n",
    "            resource_dict.get(a.resource),\n",
    "        )\n",
    "        for a in program(annotation)\n",
    "    ]\n",
    "    return actions"
   ]
  },
  {
   "cell_type": "code",
   "execution_count": 11,
   "metadata": {},
   "outputs": [
    {
     "ename": "KeyError",
     "evalue": "'35L9RVQFCUDMD74V0GR1EN7XINTUHO'",
     "output_type": "error",
     "traceback": [
      "\u001b[0;31m---------------------------------------------------------------------------\u001b[0m",
      "\u001b[0;31mKeyError\u001b[0m                                  Traceback (most recent call last)",
      "\u001b[0;32m~/.local/lib/python3.8/site-packages/pandas/core/indexes/base.py\u001b[0m in \u001b[0;36mget_loc\u001b[0;34m(self, key, method, tolerance)\u001b[0m\n\u001b[1;32m   2894\u001b[0m             \u001b[0;32mtry\u001b[0m\u001b[0;34m:\u001b[0m\u001b[0;34m\u001b[0m\u001b[0;34m\u001b[0m\u001b[0m\n\u001b[0;32m-> 2895\u001b[0;31m                 \u001b[0;32mreturn\u001b[0m \u001b[0mself\u001b[0m\u001b[0;34m.\u001b[0m\u001b[0m_engine\u001b[0m\u001b[0;34m.\u001b[0m\u001b[0mget_loc\u001b[0m\u001b[0;34m(\u001b[0m\u001b[0mcasted_key\u001b[0m\u001b[0;34m)\u001b[0m\u001b[0;34m\u001b[0m\u001b[0;34m\u001b[0m\u001b[0m\n\u001b[0m\u001b[1;32m   2896\u001b[0m             \u001b[0;32mexcept\u001b[0m \u001b[0mKeyError\u001b[0m \u001b[0;32mas\u001b[0m \u001b[0merr\u001b[0m\u001b[0;34m:\u001b[0m\u001b[0;34m\u001b[0m\u001b[0;34m\u001b[0m\u001b[0m\n",
      "\u001b[0;32mpandas/_libs/index.pyx\u001b[0m in \u001b[0;36mpandas._libs.index.IndexEngine.get_loc\u001b[0;34m()\u001b[0m\n",
      "\u001b[0;32mpandas/_libs/index.pyx\u001b[0m in \u001b[0;36mpandas._libs.index.IndexEngine.get_loc\u001b[0;34m()\u001b[0m\n",
      "\u001b[0;32mpandas/_libs/hashtable_class_helper.pxi\u001b[0m in \u001b[0;36mpandas._libs.hashtable.PyObjectHashTable.get_item\u001b[0;34m()\u001b[0m\n",
      "\u001b[0;32mpandas/_libs/hashtable_class_helper.pxi\u001b[0m in \u001b[0;36mpandas._libs.hashtable.PyObjectHashTable.get_item\u001b[0;34m()\u001b[0m\n",
      "\u001b[0;31mKeyError\u001b[0m: '35L9RVQFCUDMD74V0GR1EN7XINTUHO'",
      "\nThe above exception was the direct cause of the following exception:\n",
      "\u001b[0;31mKeyError\u001b[0m                                  Traceback (most recent call last)",
      "\u001b[0;32m<ipython-input-11-8141df0b8df7>\u001b[0m in \u001b[0;36m<module>\u001b[0;34m\u001b[0m\n\u001b[1;32m      1\u001b[0m \u001b[0mmturk_batch\u001b[0m\u001b[0;34m=\u001b[0m\u001b[0;36m4289268\u001b[0m\u001b[0;31m#4286064\u001b[0m\u001b[0;34m\u001b[0m\u001b[0;34m\u001b[0m\u001b[0m\n\u001b[1;32m      2\u001b[0m \u001b[0mannotation_id\u001b[0m\u001b[0;34m=\u001b[0m\u001b[0;34m\"35L9RVQFCUDMD74V0GR1EN7XINTUHO\"\u001b[0m\u001b[0;34m\u001b[0m\u001b[0;34m\u001b[0m\u001b[0m\n\u001b[0;32m----> 3\u001b[0;31m \u001b[0mannotation\u001b[0m \u001b[0;34m=\u001b[0m \u001b[0mread_annotation\u001b[0m\u001b[0;34m(\u001b[0m\u001b[0mannotation_id\u001b[0m\u001b[0;34m,\u001b[0m \u001b[0mmturk_batch\u001b[0m\u001b[0;34m)\u001b[0m\u001b[0;34m\u001b[0m\u001b[0;34m\u001b[0m\u001b[0m\n\u001b[0m\u001b[1;32m      4\u001b[0m \u001b[0;34m\u001b[0m\u001b[0m\n\u001b[1;32m      5\u001b[0m \u001b[0;34m\u001b[0m\u001b[0m\n",
      "\u001b[0;32m<ipython-input-1-85985704c292>\u001b[0m in \u001b[0;36mread_annotation\u001b[0;34m(annotation_id, mturk_batch)\u001b[0m\n\u001b[1;32m     22\u001b[0m \u001b[0;32mdef\u001b[0m \u001b[0mread_annotation\u001b[0m\u001b[0;34m(\u001b[0m\u001b[0mannotation_id\u001b[0m\u001b[0;34m,\u001b[0m \u001b[0mmturk_batch\u001b[0m\u001b[0;34m=\u001b[0m\u001b[0;32mNone\u001b[0m\u001b[0;34m)\u001b[0m\u001b[0;34m:\u001b[0m\u001b[0;34m\u001b[0m\u001b[0;34m\u001b[0m\u001b[0m\n\u001b[1;32m     23\u001b[0m     \u001b[0;32mif\u001b[0m \u001b[0mmturk_batch\u001b[0m\u001b[0;34m:\u001b[0m\u001b[0;34m\u001b[0m\u001b[0;34m\u001b[0m\u001b[0m\n\u001b[0;32m---> 24\u001b[0;31m         \u001b[0mannotation\u001b[0m \u001b[0;34m=\u001b[0m \u001b[0mannotation_io\u001b[0m\u001b[0;34m.\u001b[0m\u001b[0mmturk_annotation\u001b[0m\u001b[0;34m(\u001b[0m\u001b[0mmturk_batch\u001b[0m\u001b[0;34m,\u001b[0m \u001b[0mannotation_id\u001b[0m\u001b[0;34m)\u001b[0m\u001b[0;34m\u001b[0m\u001b[0;34m\u001b[0m\u001b[0m\n\u001b[0m\u001b[1;32m     25\u001b[0m     \u001b[0;32melse\u001b[0m\u001b[0;34m:\u001b[0m\u001b[0;34m\u001b[0m\u001b[0;34m\u001b[0m\u001b[0m\n\u001b[1;32m     26\u001b[0m         \u001b[0mannotation\u001b[0m \u001b[0;34m=\u001b[0m \u001b[0mannotation_io\u001b[0m\u001b[0;34m.\u001b[0m\u001b[0mget_annotation\u001b[0m\u001b[0;34m(\u001b[0m\u001b[0mannotation_id\u001b[0m\u001b[0;34m)\u001b[0m\u001b[0;34m\u001b[0m\u001b[0;34m\u001b[0m\u001b[0m\n",
      "\u001b[0;32m~/recipe_scheduler/src/annotation_io.py\u001b[0m in \u001b[0;36mmturk_annotation\u001b[0;34m(batch, assignment_id)\u001b[0m\n\u001b[1;32m     39\u001b[0m     \u001b[0mdf\u001b[0m \u001b[0;34m=\u001b[0m \u001b[0mdf\u001b[0m\u001b[0;34m[\u001b[0m\u001b[0;34m[\u001b[0m\u001b[0mc\u001b[0m \u001b[0;32mfor\u001b[0m \u001b[0mc\u001b[0m \u001b[0;32min\u001b[0m \u001b[0mdf\u001b[0m\u001b[0;34m.\u001b[0m\u001b[0mcolumns\u001b[0m \u001b[0;32mif\u001b[0m \u001b[0;34m\"Answer.\"\u001b[0m \u001b[0;32min\u001b[0m \u001b[0mc\u001b[0m \u001b[0;32mor\u001b[0m \u001b[0;34m'Id'\u001b[0m \u001b[0;32min\u001b[0m \u001b[0mc\u001b[0m\u001b[0;34m]\u001b[0m\u001b[0;34m]\u001b[0m\u001b[0;34m\u001b[0m\u001b[0;34m\u001b[0m\u001b[0m\n\u001b[1;32m     40\u001b[0m     \u001b[0mdf\u001b[0m \u001b[0;34m=\u001b[0m \u001b[0mdf\u001b[0m\u001b[0;34m.\u001b[0m\u001b[0mrename\u001b[0m\u001b[0;34m(\u001b[0m\u001b[0mcolumns\u001b[0m\u001b[0;34m=\u001b[0m\u001b[0;34m{\u001b[0m\u001b[0mc\u001b[0m\u001b[0;34m:\u001b[0m\u001b[0mc\u001b[0m\u001b[0;34m.\u001b[0m\u001b[0msplit\u001b[0m\u001b[0;34m(\u001b[0m\u001b[0;34m'.'\u001b[0m\u001b[0;34m,\u001b[0m\u001b[0;36m1\u001b[0m\u001b[0;34m)\u001b[0m\u001b[0;34m[\u001b[0m\u001b[0;36m1\u001b[0m\u001b[0;34m]\u001b[0m \u001b[0;32mfor\u001b[0m \u001b[0mc\u001b[0m \u001b[0;32min\u001b[0m \u001b[0mdf\u001b[0m\u001b[0;34m.\u001b[0m\u001b[0mcolumns\u001b[0m \u001b[0;32mif\u001b[0m \u001b[0;34m'.'\u001b[0m \u001b[0;32min\u001b[0m \u001b[0mc\u001b[0m\u001b[0;34m}\u001b[0m\u001b[0;34m)\u001b[0m\u001b[0;34m.\u001b[0m\u001b[0mset_index\u001b[0m\u001b[0;34m(\u001b[0m\u001b[0;34m\"AssignmentId\"\u001b[0m\u001b[0;34m)\u001b[0m\u001b[0;34m\u001b[0m\u001b[0;34m\u001b[0m\u001b[0m\n\u001b[0;32m---> 41\u001b[0;31m     \u001b[0mret\u001b[0m \u001b[0;34m=\u001b[0m \u001b[0mget_annotation\u001b[0m\u001b[0;34m(\u001b[0m\u001b[0mdf\u001b[0m\u001b[0;34m.\u001b[0m\u001b[0mloc\u001b[0m\u001b[0;34m[\u001b[0m\u001b[0massignment_id\u001b[0m\u001b[0;34m,\u001b[0m \u001b[0;34m\"id\"\u001b[0m\u001b[0;34m]\u001b[0m\u001b[0;34m)\u001b[0m\u001b[0;34m\u001b[0m\u001b[0;34m\u001b[0m\u001b[0m\n\u001b[0m\u001b[1;32m     42\u001b[0m     \u001b[0mret\u001b[0m\u001b[0;34m[\u001b[0m\u001b[0;34m\"labels\"\u001b[0m\u001b[0;34m]\u001b[0m \u001b[0;34m=\u001b[0m \u001b[0mjson\u001b[0m\u001b[0;34m.\u001b[0m\u001b[0mloads\u001b[0m\u001b[0;34m(\u001b[0m\u001b[0mdf\u001b[0m\u001b[0;34m.\u001b[0m\u001b[0mloc\u001b[0m\u001b[0;34m[\u001b[0m\u001b[0massignment_id\u001b[0m\u001b[0;34m,\u001b[0m \u001b[0;34m\"events\"\u001b[0m\u001b[0;34m]\u001b[0m\u001b[0;34m)\u001b[0m\u001b[0;34m\u001b[0m\u001b[0;34m\u001b[0m\u001b[0m\n\u001b[1;32m     43\u001b[0m     \u001b[0mret\u001b[0m\u001b[0;34m[\u001b[0m\u001b[0;34m\"status\"\u001b[0m\u001b[0;34m]\u001b[0m \u001b[0;34m=\u001b[0m \u001b[0mdf\u001b[0m\u001b[0;34m.\u001b[0m\u001b[0mloc\u001b[0m\u001b[0;34m[\u001b[0m\u001b[0massignment_id\u001b[0m\u001b[0;34m,\u001b[0m \u001b[0;34m\"status\"\u001b[0m\u001b[0;34m]\u001b[0m\u001b[0;34m\u001b[0m\u001b[0;34m\u001b[0m\u001b[0m\n",
      "\u001b[0;32m~/.local/lib/python3.8/site-packages/pandas/core/indexing.py\u001b[0m in \u001b[0;36m__getitem__\u001b[0;34m(self, key)\u001b[0m\n\u001b[1;32m    871\u001b[0m                     \u001b[0;31m# AttributeError for IntervalTree get_value\u001b[0m\u001b[0;34m\u001b[0m\u001b[0;34m\u001b[0m\u001b[0;34m\u001b[0m\u001b[0m\n\u001b[1;32m    872\u001b[0m                     \u001b[0;32mpass\u001b[0m\u001b[0;34m\u001b[0m\u001b[0;34m\u001b[0m\u001b[0m\n\u001b[0;32m--> 873\u001b[0;31m             \u001b[0;32mreturn\u001b[0m \u001b[0mself\u001b[0m\u001b[0;34m.\u001b[0m\u001b[0m_getitem_tuple\u001b[0m\u001b[0;34m(\u001b[0m\u001b[0mkey\u001b[0m\u001b[0;34m)\u001b[0m\u001b[0;34m\u001b[0m\u001b[0;34m\u001b[0m\u001b[0m\n\u001b[0m\u001b[1;32m    874\u001b[0m         \u001b[0;32melse\u001b[0m\u001b[0;34m:\u001b[0m\u001b[0;34m\u001b[0m\u001b[0;34m\u001b[0m\u001b[0m\n\u001b[1;32m    875\u001b[0m             \u001b[0;31m# we by definition only have the 0th axis\u001b[0m\u001b[0;34m\u001b[0m\u001b[0;34m\u001b[0m\u001b[0;34m\u001b[0m\u001b[0m\n",
      "\u001b[0;32m~/.local/lib/python3.8/site-packages/pandas/core/indexing.py\u001b[0m in \u001b[0;36m_getitem_tuple\u001b[0;34m(self, tup)\u001b[0m\n\u001b[1;32m   1042\u001b[0m     \u001b[0;32mdef\u001b[0m \u001b[0m_getitem_tuple\u001b[0m\u001b[0;34m(\u001b[0m\u001b[0mself\u001b[0m\u001b[0;34m,\u001b[0m \u001b[0mtup\u001b[0m\u001b[0;34m:\u001b[0m \u001b[0mTuple\u001b[0m\u001b[0;34m)\u001b[0m\u001b[0;34m:\u001b[0m\u001b[0;34m\u001b[0m\u001b[0;34m\u001b[0m\u001b[0m\n\u001b[1;32m   1043\u001b[0m         \u001b[0;32mtry\u001b[0m\u001b[0;34m:\u001b[0m\u001b[0;34m\u001b[0m\u001b[0;34m\u001b[0m\u001b[0m\n\u001b[0;32m-> 1044\u001b[0;31m             \u001b[0;32mreturn\u001b[0m \u001b[0mself\u001b[0m\u001b[0;34m.\u001b[0m\u001b[0m_getitem_lowerdim\u001b[0m\u001b[0;34m(\u001b[0m\u001b[0mtup\u001b[0m\u001b[0;34m)\u001b[0m\u001b[0;34m\u001b[0m\u001b[0;34m\u001b[0m\u001b[0m\n\u001b[0m\u001b[1;32m   1045\u001b[0m         \u001b[0;32mexcept\u001b[0m \u001b[0mIndexingError\u001b[0m\u001b[0;34m:\u001b[0m\u001b[0;34m\u001b[0m\u001b[0;34m\u001b[0m\u001b[0m\n\u001b[1;32m   1046\u001b[0m             \u001b[0;32mpass\u001b[0m\u001b[0;34m\u001b[0m\u001b[0;34m\u001b[0m\u001b[0m\n",
      "\u001b[0;32m~/.local/lib/python3.8/site-packages/pandas/core/indexing.py\u001b[0m in \u001b[0;36m_getitem_lowerdim\u001b[0;34m(self, tup)\u001b[0m\n\u001b[1;32m    784\u001b[0m                 \u001b[0;31m# We don't need to check for tuples here because those are\u001b[0m\u001b[0;34m\u001b[0m\u001b[0;34m\u001b[0m\u001b[0;34m\u001b[0m\u001b[0m\n\u001b[1;32m    785\u001b[0m                 \u001b[0;31m#  caught by the _is_nested_tuple_indexer check above.\u001b[0m\u001b[0;34m\u001b[0m\u001b[0;34m\u001b[0m\u001b[0;34m\u001b[0m\u001b[0m\n\u001b[0;32m--> 786\u001b[0;31m                 \u001b[0msection\u001b[0m \u001b[0;34m=\u001b[0m \u001b[0mself\u001b[0m\u001b[0;34m.\u001b[0m\u001b[0m_getitem_axis\u001b[0m\u001b[0;34m(\u001b[0m\u001b[0mkey\u001b[0m\u001b[0;34m,\u001b[0m \u001b[0maxis\u001b[0m\u001b[0;34m=\u001b[0m\u001b[0mi\u001b[0m\u001b[0;34m)\u001b[0m\u001b[0;34m\u001b[0m\u001b[0;34m\u001b[0m\u001b[0m\n\u001b[0m\u001b[1;32m    787\u001b[0m \u001b[0;34m\u001b[0m\u001b[0m\n\u001b[1;32m    788\u001b[0m                 \u001b[0;31m# We should never have a scalar section here, because\u001b[0m\u001b[0;34m\u001b[0m\u001b[0;34m\u001b[0m\u001b[0;34m\u001b[0m\u001b[0m\n",
      "\u001b[0;32m~/.local/lib/python3.8/site-packages/pandas/core/indexing.py\u001b[0m in \u001b[0;36m_getitem_axis\u001b[0;34m(self, key, axis)\u001b[0m\n\u001b[1;32m   1108\u001b[0m         \u001b[0;31m# fall thru to straight lookup\u001b[0m\u001b[0;34m\u001b[0m\u001b[0;34m\u001b[0m\u001b[0;34m\u001b[0m\u001b[0m\n\u001b[1;32m   1109\u001b[0m         \u001b[0mself\u001b[0m\u001b[0;34m.\u001b[0m\u001b[0m_validate_key\u001b[0m\u001b[0;34m(\u001b[0m\u001b[0mkey\u001b[0m\u001b[0;34m,\u001b[0m \u001b[0maxis\u001b[0m\u001b[0;34m)\u001b[0m\u001b[0;34m\u001b[0m\u001b[0;34m\u001b[0m\u001b[0m\n\u001b[0;32m-> 1110\u001b[0;31m         \u001b[0;32mreturn\u001b[0m \u001b[0mself\u001b[0m\u001b[0;34m.\u001b[0m\u001b[0m_get_label\u001b[0m\u001b[0;34m(\u001b[0m\u001b[0mkey\u001b[0m\u001b[0;34m,\u001b[0m \u001b[0maxis\u001b[0m\u001b[0;34m=\u001b[0m\u001b[0maxis\u001b[0m\u001b[0;34m)\u001b[0m\u001b[0;34m\u001b[0m\u001b[0;34m\u001b[0m\u001b[0m\n\u001b[0m\u001b[1;32m   1111\u001b[0m \u001b[0;34m\u001b[0m\u001b[0m\n\u001b[1;32m   1112\u001b[0m     \u001b[0;32mdef\u001b[0m \u001b[0m_get_slice_axis\u001b[0m\u001b[0;34m(\u001b[0m\u001b[0mself\u001b[0m\u001b[0;34m,\u001b[0m \u001b[0mslice_obj\u001b[0m\u001b[0;34m:\u001b[0m \u001b[0mslice\u001b[0m\u001b[0;34m,\u001b[0m \u001b[0maxis\u001b[0m\u001b[0;34m:\u001b[0m \u001b[0mint\u001b[0m\u001b[0;34m)\u001b[0m\u001b[0;34m:\u001b[0m\u001b[0;34m\u001b[0m\u001b[0;34m\u001b[0m\u001b[0m\n",
      "\u001b[0;32m~/.local/lib/python3.8/site-packages/pandas/core/indexing.py\u001b[0m in \u001b[0;36m_get_label\u001b[0;34m(self, label, axis)\u001b[0m\n\u001b[1;32m   1057\u001b[0m     \u001b[0;32mdef\u001b[0m \u001b[0m_get_label\u001b[0m\u001b[0;34m(\u001b[0m\u001b[0mself\u001b[0m\u001b[0;34m,\u001b[0m \u001b[0mlabel\u001b[0m\u001b[0;34m,\u001b[0m \u001b[0maxis\u001b[0m\u001b[0;34m:\u001b[0m \u001b[0mint\u001b[0m\u001b[0;34m)\u001b[0m\u001b[0;34m:\u001b[0m\u001b[0;34m\u001b[0m\u001b[0;34m\u001b[0m\u001b[0m\n\u001b[1;32m   1058\u001b[0m         \u001b[0;31m# GH#5667 this will fail if the label is not present in the axis.\u001b[0m\u001b[0;34m\u001b[0m\u001b[0;34m\u001b[0m\u001b[0;34m\u001b[0m\u001b[0m\n\u001b[0;32m-> 1059\u001b[0;31m         \u001b[0;32mreturn\u001b[0m \u001b[0mself\u001b[0m\u001b[0;34m.\u001b[0m\u001b[0mobj\u001b[0m\u001b[0;34m.\u001b[0m\u001b[0mxs\u001b[0m\u001b[0;34m(\u001b[0m\u001b[0mlabel\u001b[0m\u001b[0;34m,\u001b[0m \u001b[0maxis\u001b[0m\u001b[0;34m=\u001b[0m\u001b[0maxis\u001b[0m\u001b[0;34m)\u001b[0m\u001b[0;34m\u001b[0m\u001b[0;34m\u001b[0m\u001b[0m\n\u001b[0m\u001b[1;32m   1060\u001b[0m \u001b[0;34m\u001b[0m\u001b[0m\n\u001b[1;32m   1061\u001b[0m     \u001b[0;32mdef\u001b[0m \u001b[0m_handle_lowerdim_multi_index_axis0\u001b[0m\u001b[0;34m(\u001b[0m\u001b[0mself\u001b[0m\u001b[0;34m,\u001b[0m \u001b[0mtup\u001b[0m\u001b[0;34m:\u001b[0m \u001b[0mTuple\u001b[0m\u001b[0;34m)\u001b[0m\u001b[0;34m:\u001b[0m\u001b[0;34m\u001b[0m\u001b[0;34m\u001b[0m\u001b[0m\n",
      "\u001b[0;32m~/.local/lib/python3.8/site-packages/pandas/core/generic.py\u001b[0m in \u001b[0;36mxs\u001b[0;34m(self, key, axis, level, drop_level)\u001b[0m\n\u001b[1;32m   3489\u001b[0m             \u001b[0mloc\u001b[0m\u001b[0;34m,\u001b[0m \u001b[0mnew_index\u001b[0m \u001b[0;34m=\u001b[0m \u001b[0mself\u001b[0m\u001b[0;34m.\u001b[0m\u001b[0mindex\u001b[0m\u001b[0;34m.\u001b[0m\u001b[0mget_loc_level\u001b[0m\u001b[0;34m(\u001b[0m\u001b[0mkey\u001b[0m\u001b[0;34m,\u001b[0m \u001b[0mdrop_level\u001b[0m\u001b[0;34m=\u001b[0m\u001b[0mdrop_level\u001b[0m\u001b[0;34m)\u001b[0m\u001b[0;34m\u001b[0m\u001b[0;34m\u001b[0m\u001b[0m\n\u001b[1;32m   3490\u001b[0m         \u001b[0;32melse\u001b[0m\u001b[0;34m:\u001b[0m\u001b[0;34m\u001b[0m\u001b[0;34m\u001b[0m\u001b[0m\n\u001b[0;32m-> 3491\u001b[0;31m             \u001b[0mloc\u001b[0m \u001b[0;34m=\u001b[0m \u001b[0mself\u001b[0m\u001b[0;34m.\u001b[0m\u001b[0mindex\u001b[0m\u001b[0;34m.\u001b[0m\u001b[0mget_loc\u001b[0m\u001b[0;34m(\u001b[0m\u001b[0mkey\u001b[0m\u001b[0;34m)\u001b[0m\u001b[0;34m\u001b[0m\u001b[0;34m\u001b[0m\u001b[0m\n\u001b[0m\u001b[1;32m   3492\u001b[0m \u001b[0;34m\u001b[0m\u001b[0m\n\u001b[1;32m   3493\u001b[0m             \u001b[0;32mif\u001b[0m \u001b[0misinstance\u001b[0m\u001b[0;34m(\u001b[0m\u001b[0mloc\u001b[0m\u001b[0;34m,\u001b[0m \u001b[0mnp\u001b[0m\u001b[0;34m.\u001b[0m\u001b[0mndarray\u001b[0m\u001b[0;34m)\u001b[0m\u001b[0;34m:\u001b[0m\u001b[0;34m\u001b[0m\u001b[0;34m\u001b[0m\u001b[0m\n",
      "\u001b[0;32m~/.local/lib/python3.8/site-packages/pandas/core/indexes/base.py\u001b[0m in \u001b[0;36mget_loc\u001b[0;34m(self, key, method, tolerance)\u001b[0m\n\u001b[1;32m   2895\u001b[0m                 \u001b[0;32mreturn\u001b[0m \u001b[0mself\u001b[0m\u001b[0;34m.\u001b[0m\u001b[0m_engine\u001b[0m\u001b[0;34m.\u001b[0m\u001b[0mget_loc\u001b[0m\u001b[0;34m(\u001b[0m\u001b[0mcasted_key\u001b[0m\u001b[0;34m)\u001b[0m\u001b[0;34m\u001b[0m\u001b[0;34m\u001b[0m\u001b[0m\n\u001b[1;32m   2896\u001b[0m             \u001b[0;32mexcept\u001b[0m \u001b[0mKeyError\u001b[0m \u001b[0;32mas\u001b[0m \u001b[0merr\u001b[0m\u001b[0;34m:\u001b[0m\u001b[0;34m\u001b[0m\u001b[0;34m\u001b[0m\u001b[0m\n\u001b[0;32m-> 2897\u001b[0;31m                 \u001b[0;32mraise\u001b[0m \u001b[0mKeyError\u001b[0m\u001b[0;34m(\u001b[0m\u001b[0mkey\u001b[0m\u001b[0;34m)\u001b[0m \u001b[0;32mfrom\u001b[0m \u001b[0merr\u001b[0m\u001b[0;34m\u001b[0m\u001b[0;34m\u001b[0m\u001b[0m\n\u001b[0m\u001b[1;32m   2898\u001b[0m \u001b[0;34m\u001b[0m\u001b[0m\n\u001b[1;32m   2899\u001b[0m         \u001b[0;32mif\u001b[0m \u001b[0mtolerance\u001b[0m \u001b[0;32mis\u001b[0m \u001b[0;32mnot\u001b[0m \u001b[0;32mNone\u001b[0m\u001b[0;34m:\u001b[0m\u001b[0;34m\u001b[0m\u001b[0;34m\u001b[0m\u001b[0m\n",
      "\u001b[0;31mKeyError\u001b[0m: '35L9RVQFCUDMD74V0GR1EN7XINTUHO'"
     ]
    }
   ],
   "source": [
    "annotation_id=\"35L9RVQFCUDMD74V0GR1EN7XINTUHO\"\n",
    "annotation = read_annotation(annotation_id, mturk_batch)\n",
    "\n",
    "\n",
    "pp (human_program(annotation))"
   ]
  },
  {
   "cell_type": "code",
   "execution_count": 14,
   "metadata": {},
   "outputs": [
    {
     "data": {
      "text/plain": [
       "{'8626': ['3LO69W1SU985ULMQ7WHI20ZDRGJGLI', '3TOK3KHVJZDU7DEMRLTGO4QENIYO7X'],\n",
       " '9035': ['37QW5D2ZRMHD5JBY872VM9WAVRD8S7',\n",
       "  '3IAEQB9FMKFITVOY9KNC5QDWCVVWD5',\n",
       "  '3VE8AYVF8SS41E6C2N2WFADV61CF8O'],\n",
       " '9401': ['36WLNQG7855VXY4NAO20OUIW260BEJ', '38JBBYETQU5BCZJEV9SDGGCQSE74EU'],\n",
       " '13484': ['3S3AMIZX3009FXITSTNBTW6TKFNDCN'],\n",
       " '18886': ['38SKSKU7R7SJQCSLXKHLNCCT6T9LID', '3VHHR074H9CM1SBPETDOWNMKSDV7L1'],\n",
       " '20040': ['3HMIGG0U4R1A15N77DUK4VKBCCBY8D',\n",
       "  '3HPZF4IVNSOCD8DKOPAP6HGU232CY3',\n",
       "  '3QY7M81QHDHBHMT7TT1NHN953C9K7S'],\n",
       " '46922': ['33LKR6A5KKFW9J4SYMY6H45OJ4QT12', '3EKVH9QME4ZWHFQRV0Y5HJX78O7D2B'],\n",
       " '50704': ['308Q0PEVBE8OPARC8NEVI3LY6ZZI9K',\n",
       "  '31QTRG6Q2Z8V7XMOTUWVQHF11M4PYH',\n",
       "  '3OSWBBLG1KSXIVTOJPJY79R3LXFDXT'],\n",
       " '57372': ['37Q970SNZK3VUJRD9MTG7Z92HKUS1S', '3HOSI13XH5JJKPO7SPIMD2OB5F0DDO'],\n",
       " '72007': ['340UGXU9D4WRV8ZF5585TOY6RLEUVR', '3SNLUL3WOAIOZ3NLR16Z6F040O4LUT'],\n",
       " '128385': ['3EJJQNKU9X0UXFCEWMWW9CKDC8LRHI',\n",
       "  '3OS4RQUCRFAN3C4J5ZM66C3WE75FBV',\n",
       "  '3TESA3PJ375PSD0XIBGSFIYZN6ZMMA'],\n",
       " '216478': ['3GS6S824SWSRF7FBYE1F1VPQQZ8WNY'],\n",
       " '216672': ['34V1S5K3GYW8WQWB6M56L0VTX8096D',\n",
       "  '37TRT2X24WM38EQFOPDRLAVO7D1BJ7'],\n",
       " '218078': ['3OLF68YTNFWIK2ZRZLMAB1JQWPJFAZ'],\n",
       " '218086': ['39LOEL67OY09L2QJIS1UE1OY3BM38I',\n",
       "  '3OVR4I9USVE0929J40NDAX14BHS4Q3'],\n",
       " '228134': ['3AMW0RGHOJX1VYIAMSNK91HUX2ANPZ',\n",
       "  '3HOSI13XH5JJKPO7SPIMD2OB5FYDDM'],\n",
       " '230247': ['3ITXP059P2E2P07HZBZMBZ5OB2ASJE',\n",
       "  '3UOUJI6MTJ9JZX4A5K9NH9VR7Y8UXK',\n",
       "  '3VELCLL3GQEMQEMR32TH00QNSVEF1C'],\n",
       " '237335': ['3QRYMNZ7F4CZNQBH39W4EBIRM5RNT0'],\n",
       " '254332': ['38SKSKU7R7SJQCSLXKHLNCCT6TFLIJ',\n",
       "  '3HMVI3QICPNSQ53M8SL5PLX3Y6X1YO']}"
      ]
     },
     "execution_count": 14,
     "metadata": {},
     "output_type": "execute_result"
    }
   ],
   "source": [
    "mturk_batch=4289268#4286064\n",
    "\n",
    "with (mturk_path / f\"{mturk_batch}.json\").open('r') as f:\n",
    "    annotations = json.load(f)\n",
    "annotations"
   ]
  },
  {
   "cell_type": "code",
   "execution_count": 15,
   "metadata": {},
   "outputs": [],
   "source": [
    "def annotator_agreement(annotation1,annotation2):\n",
    "    lst1 = [(x.command.name,x.arg,x.resource) for x in program(annotation1)]\n",
    "    lst2 = [(x.command.name,x.arg,x.resource) for x in program(annotation2)]\n",
    "    dst,_ = edit_distance(lst1, lst2)\n",
    "    return 1-dst/(len(lst1)+len(lst2))\n"
   ]
  },
  {
   "cell_type": "code",
   "execution_count": 16,
   "metadata": {},
   "outputs": [
    {
     "data": {
      "text/html": [
       "<h2>8626</h2><br /><a href=\"http://127.0.0.1:8080/annotate/4289268/3LO69W1SU985ULMQ7WHI20ZDRGJGLI\" target=\"_new\">3LO69W1SU985ULMQ7WHI20ZDRGJGLI</a> (0.64) <a href=\"http://127.0.0.1:8080/annotate/4289268/3TOK3KHVJZDU7DEMRLTGO4QENIYO7X\" target=\"_new\">3TOK3KHVJZDU7DEMRLTGO4QENIYO7X</a><br /><h2>9035</h2><br /><a href=\"http://127.0.0.1:8080/annotate/4289268/37QW5D2ZRMHD5JBY872VM9WAVRD8S7\" target=\"_new\">37QW5D2ZRMHD5JBY872VM9WAVRD8S7</a> (0.67) <a href=\"http://127.0.0.1:8080/annotate/4289268/3IAEQB9FMKFITVOY9KNC5QDWCVVWD5\" target=\"_new\">3IAEQB9FMKFITVOY9KNC5QDWCVVWD5</a><br /><a href=\"http://127.0.0.1:8080/annotate/4289268/37QW5D2ZRMHD5JBY872VM9WAVRD8S7\" target=\"_new\">37QW5D2ZRMHD5JBY872VM9WAVRD8S7</a> (0.60) <a href=\"http://127.0.0.1:8080/annotate/4289268/3VE8AYVF8SS41E6C2N2WFADV61CF8O\" target=\"_new\">3VE8AYVF8SS41E6C2N2WFADV61CF8O</a><br /><a href=\"http://127.0.0.1:8080/annotate/4289268/3IAEQB9FMKFITVOY9KNC5QDWCVVWD5\" target=\"_new\">3IAEQB9FMKFITVOY9KNC5QDWCVVWD5</a> (0.69) <a href=\"http://127.0.0.1:8080/annotate/4289268/3VE8AYVF8SS41E6C2N2WFADV61CF8O\" target=\"_new\">3VE8AYVF8SS41E6C2N2WFADV61CF8O</a><br /><h2>9401</h2><br /><a href=\"http://127.0.0.1:8080/annotate/4289268/36WLNQG7855VXY4NAO20OUIW260BEJ\" target=\"_new\">36WLNQG7855VXY4NAO20OUIW260BEJ</a> (0.47) <a href=\"http://127.0.0.1:8080/annotate/4289268/38JBBYETQU5BCZJEV9SDGGCQSE74EU\" target=\"_new\">38JBBYETQU5BCZJEV9SDGGCQSE74EU</a><br /><h2>13484</h2><br /><h2>18886</h2><br /><a href=\"http://127.0.0.1:8080/annotate/4289268/38SKSKU7R7SJQCSLXKHLNCCT6T9LID\" target=\"_new\">38SKSKU7R7SJQCSLXKHLNCCT6T9LID</a> (0.53) <a href=\"http://127.0.0.1:8080/annotate/4289268/3VHHR074H9CM1SBPETDOWNMKSDV7L1\" target=\"_new\">3VHHR074H9CM1SBPETDOWNMKSDV7L1</a><br /><h2>20040</h2><br /><a href=\"http://127.0.0.1:8080/annotate/4289268/3HMIGG0U4R1A15N77DUK4VKBCCBY8D\" target=\"_new\">3HMIGG0U4R1A15N77DUK4VKBCCBY8D</a> (0.88) <a href=\"http://127.0.0.1:8080/annotate/4289268/3HPZF4IVNSOCD8DKOPAP6HGU232CY3\" target=\"_new\">3HPZF4IVNSOCD8DKOPAP6HGU232CY3</a><br /><a href=\"http://127.0.0.1:8080/annotate/4289268/3HMIGG0U4R1A15N77DUK4VKBCCBY8D\" target=\"_new\">3HMIGG0U4R1A15N77DUK4VKBCCBY8D</a> (0.75) <a href=\"http://127.0.0.1:8080/annotate/4289268/3QY7M81QHDHBHMT7TT1NHN953C9K7S\" target=\"_new\">3QY7M81QHDHBHMT7TT1NHN953C9K7S</a><br /><a href=\"http://127.0.0.1:8080/annotate/4289268/3HPZF4IVNSOCD8DKOPAP6HGU232CY3\" target=\"_new\">3HPZF4IVNSOCD8DKOPAP6HGU232CY3</a> (0.77) <a href=\"http://127.0.0.1:8080/annotate/4289268/3QY7M81QHDHBHMT7TT1NHN953C9K7S\" target=\"_new\">3QY7M81QHDHBHMT7TT1NHN953C9K7S</a><br /><h2>46922</h2><br /><a href=\"http://127.0.0.1:8080/annotate/4289268/33LKR6A5KKFW9J4SYMY6H45OJ4QT12\" target=\"_new\">33LKR6A5KKFW9J4SYMY6H45OJ4QT12</a> (0.53) <a href=\"http://127.0.0.1:8080/annotate/4289268/3EKVH9QME4ZWHFQRV0Y5HJX78O7D2B\" target=\"_new\">3EKVH9QME4ZWHFQRV0Y5HJX78O7D2B</a><br /><h2>50704</h2><br /><a href=\"http://127.0.0.1:8080/annotate/4289268/308Q0PEVBE8OPARC8NEVI3LY6ZZI9K\" target=\"_new\">308Q0PEVBE8OPARC8NEVI3LY6ZZI9K</a> (0.66) <a href=\"http://127.0.0.1:8080/annotate/4289268/31QTRG6Q2Z8V7XMOTUWVQHF11M4PYH\" target=\"_new\">31QTRG6Q2Z8V7XMOTUWVQHF11M4PYH</a><br /><a href=\"http://127.0.0.1:8080/annotate/4289268/308Q0PEVBE8OPARC8NEVI3LY6ZZI9K\" target=\"_new\">308Q0PEVBE8OPARC8NEVI3LY6ZZI9K</a> (0.53) <a href=\"http://127.0.0.1:8080/annotate/4289268/3OSWBBLG1KSXIVTOJPJY79R3LXFDXT\" target=\"_new\">3OSWBBLG1KSXIVTOJPJY79R3LXFDXT</a><br /><a href=\"http://127.0.0.1:8080/annotate/4289268/31QTRG6Q2Z8V7XMOTUWVQHF11M4PYH\" target=\"_new\">31QTRG6Q2Z8V7XMOTUWVQHF11M4PYH</a> (0.67) <a href=\"http://127.0.0.1:8080/annotate/4289268/3OSWBBLG1KSXIVTOJPJY79R3LXFDXT\" target=\"_new\">3OSWBBLG1KSXIVTOJPJY79R3LXFDXT</a><br /><h2>57372</h2><br /><a href=\"http://127.0.0.1:8080/annotate/4289268/37Q970SNZK3VUJRD9MTG7Z92HKUS1S\" target=\"_new\">37Q970SNZK3VUJRD9MTG7Z92HKUS1S</a> (0.59) <a href=\"http://127.0.0.1:8080/annotate/4289268/3HOSI13XH5JJKPO7SPIMD2OB5F0DDO\" target=\"_new\">3HOSI13XH5JJKPO7SPIMD2OB5F0DDO</a><br /><h2>72007</h2><br /><a href=\"http://127.0.0.1:8080/annotate/4289268/340UGXU9D4WRV8ZF5585TOY6RLEUVR\" target=\"_new\">340UGXU9D4WRV8ZF5585TOY6RLEUVR</a> (0.74) <a href=\"http://127.0.0.1:8080/annotate/4289268/3SNLUL3WOAIOZ3NLR16Z6F040O4LUT\" target=\"_new\">3SNLUL3WOAIOZ3NLR16Z6F040O4LUT</a><br /><h2>128385</h2><br /><a href=\"http://127.0.0.1:8080/annotate/4289268/3EJJQNKU9X0UXFCEWMWW9CKDC8LRHI\" target=\"_new\">3EJJQNKU9X0UXFCEWMWW9CKDC8LRHI</a> (0.63) <a href=\"http://127.0.0.1:8080/annotate/4289268/3OS4RQUCRFAN3C4J5ZM66C3WE75FBV\" target=\"_new\">3OS4RQUCRFAN3C4J5ZM66C3WE75FBV</a><br /><a href=\"http://127.0.0.1:8080/annotate/4289268/3EJJQNKU9X0UXFCEWMWW9CKDC8LRHI\" target=\"_new\">3EJJQNKU9X0UXFCEWMWW9CKDC8LRHI</a> (0.56) <a href=\"http://127.0.0.1:8080/annotate/4289268/3TESA3PJ375PSD0XIBGSFIYZN6ZMMA\" target=\"_new\">3TESA3PJ375PSD0XIBGSFIYZN6ZMMA</a><br /><a href=\"http://127.0.0.1:8080/annotate/4289268/3OS4RQUCRFAN3C4J5ZM66C3WE75FBV\" target=\"_new\">3OS4RQUCRFAN3C4J5ZM66C3WE75FBV</a> (0.56) <a href=\"http://127.0.0.1:8080/annotate/4289268/3TESA3PJ375PSD0XIBGSFIYZN6ZMMA\" target=\"_new\">3TESA3PJ375PSD0XIBGSFIYZN6ZMMA</a><br /><h2>216478</h2><br /><h2>216672</h2><br /><a href=\"http://127.0.0.1:8080/annotate/4289268/34V1S5K3GYW8WQWB6M56L0VTX8096D\" target=\"_new\">34V1S5K3GYW8WQWB6M56L0VTX8096D</a> (0.72) <a href=\"http://127.0.0.1:8080/annotate/4289268/37TRT2X24WM38EQFOPDRLAVO7D1BJ7\" target=\"_new\">37TRT2X24WM38EQFOPDRLAVO7D1BJ7</a><br /><h2>218078</h2><br /><h2>218086</h2><br /><a href=\"http://127.0.0.1:8080/annotate/4289268/39LOEL67OY09L2QJIS1UE1OY3BM38I\" target=\"_new\">39LOEL67OY09L2QJIS1UE1OY3BM38I</a> (0.76) <a href=\"http://127.0.0.1:8080/annotate/4289268/3OVR4I9USVE0929J40NDAX14BHS4Q3\" target=\"_new\">3OVR4I9USVE0929J40NDAX14BHS4Q3</a><br /><h2>228134</h2><br /><a href=\"http://127.0.0.1:8080/annotate/4289268/3AMW0RGHOJX1VYIAMSNK91HUX2ANPZ\" target=\"_new\">3AMW0RGHOJX1VYIAMSNK91HUX2ANPZ</a> (0.71) <a href=\"http://127.0.0.1:8080/annotate/4289268/3HOSI13XH5JJKPO7SPIMD2OB5FYDDM\" target=\"_new\">3HOSI13XH5JJKPO7SPIMD2OB5FYDDM</a><br /><h2>230247</h2><br /><a href=\"http://127.0.0.1:8080/annotate/4289268/3ITXP059P2E2P07HZBZMBZ5OB2ASJE\" target=\"_new\">3ITXP059P2E2P07HZBZMBZ5OB2ASJE</a> (0.78) <a href=\"http://127.0.0.1:8080/annotate/4289268/3UOUJI6MTJ9JZX4A5K9NH9VR7Y8UXK\" target=\"_new\">3UOUJI6MTJ9JZX4A5K9NH9VR7Y8UXK</a><br /><a href=\"http://127.0.0.1:8080/annotate/4289268/3ITXP059P2E2P07HZBZMBZ5OB2ASJE\" target=\"_new\">3ITXP059P2E2P07HZBZMBZ5OB2ASJE</a> (0.90) <a href=\"http://127.0.0.1:8080/annotate/4289268/3VELCLL3GQEMQEMR32TH00QNSVEF1C\" target=\"_new\">3VELCLL3GQEMQEMR32TH00QNSVEF1C</a><br /><a href=\"http://127.0.0.1:8080/annotate/4289268/3UOUJI6MTJ9JZX4A5K9NH9VR7Y8UXK\" target=\"_new\">3UOUJI6MTJ9JZX4A5K9NH9VR7Y8UXK</a> (0.77) <a href=\"http://127.0.0.1:8080/annotate/4289268/3VELCLL3GQEMQEMR32TH00QNSVEF1C\" target=\"_new\">3VELCLL3GQEMQEMR32TH00QNSVEF1C</a><br /><h2>237335</h2><br /><h2>254332</h2><br /><a href=\"http://127.0.0.1:8080/annotate/4289268/38SKSKU7R7SJQCSLXKHLNCCT6TFLIJ\" target=\"_new\">38SKSKU7R7SJQCSLXKHLNCCT6TFLIJ</a> (0.67) <a href=\"http://127.0.0.1:8080/annotate/4289268/3HMVI3QICPNSQ53M8SL5PLX3Y6X1YO\" target=\"_new\">3HMVI3QICPNSQ53M8SL5PLX3Y6X1YO</a>"
      ],
      "text/plain": [
       "<IPython.core.display.HTML object>"
      ]
     },
     "metadata": {},
     "output_type": "display_data"
    }
   ],
   "source": [
    "html = []\n",
    "for recipe_id in annotations:\n",
    "    html.append(f\"<h2>{recipe_id}</h2>\")\n",
    "    for p1,p2 in itertools.combinations(annotations[recipe_id],2):\n",
    "        sim = annotator_agreement(read_annotation(p1, mturk_batch),read_annotation(p2, mturk_batch))\n",
    "        line = f'<a href=\"http://127.0.0.1:8080/annotate/{mturk_batch}/{p1}\" target=\"_new\">{p1}</a>'\n",
    "        line += ' ({s:0.2f}) '.format(s=sim)\n",
    "        line += f'<a href=\"http://127.0.0.1:8080/annotate/{mturk_batch}/{p2}\" target=\"_new\">{p2}</a>'\n",
    "        html.append(line)\n",
    "html = (\"<br />\".join(html))\n",
    "display_html(html)"
   ]
  },
  {
   "cell_type": "code",
   "execution_count": 17,
   "metadata": {},
   "outputs": [
    {
     "ename": "KeyError",
     "evalue": "'103308'",
     "output_type": "error",
     "traceback": [
      "\u001b[0;31m---------------------------------------------------------------------------\u001b[0m",
      "\u001b[0;31mKeyError\u001b[0m                                  Traceback (most recent call last)",
      "\u001b[0;32m<ipython-input-17-2ebd72a451da>\u001b[0m in \u001b[0;36m<module>\u001b[0;34m\u001b[0m\n\u001b[0;32m----> 1\u001b[0;31m \u001b[0;32mfor\u001b[0m \u001b[0ma\u001b[0m\u001b[0;34m,\u001b[0m\u001b[0mb\u001b[0m \u001b[0;32min\u001b[0m \u001b[0mzip\u001b[0m\u001b[0;34m(\u001b[0m\u001b[0mannotations\u001b[0m\u001b[0;34m[\u001b[0m\u001b[0;34m\"103308\"\u001b[0m\u001b[0;34m]\u001b[0m\u001b[0;34m,\u001b[0m \u001b[0mannotations\u001b[0m\u001b[0;34m[\u001b[0m\u001b[0;34m\"103308\"\u001b[0m\u001b[0;34m]\u001b[0m\u001b[0;34m[\u001b[0m\u001b[0;36m1\u001b[0m\u001b[0;34m:\u001b[0m\u001b[0;34m]\u001b[0m\u001b[0;34m)\u001b[0m\u001b[0;34m:\u001b[0m\u001b[0;34m\u001b[0m\u001b[0;34m\u001b[0m\u001b[0m\n\u001b[0m\u001b[1;32m      2\u001b[0m     \u001b[0mlast\u001b[0m \u001b[0;34m=\u001b[0m \u001b[0mstr\u001b[0m\u001b[0;34m(\u001b[0m\u001b[0mmax\u001b[0m\u001b[0;34m(\u001b[0m\u001b[0mmap\u001b[0m\u001b[0;34m(\u001b[0m\u001b[0mint\u001b[0m\u001b[0;34m,\u001b[0m\u001b[0ma\u001b[0m\u001b[0;34m.\u001b[0m\u001b[0mkeys\u001b[0m\u001b[0;34m(\u001b[0m\u001b[0;34m)\u001b[0m\u001b[0;34m)\u001b[0m\u001b[0;34m)\u001b[0m\u001b[0;34m)\u001b[0m\u001b[0;34m\u001b[0m\u001b[0;34m\u001b[0m\u001b[0m\n\u001b[1;32m      3\u001b[0m     \u001b[0mlast\u001b[0m \u001b[0;34m=\u001b[0m \u001b[0mset\u001b[0m\u001b[0;34m(\u001b[0m\u001b[0mfilter\u001b[0m\u001b[0;34m(\u001b[0m\u001b[0;32mlambda\u001b[0m \u001b[0mt\u001b[0m\u001b[0;34m:\u001b[0m \u001b[0mt\u001b[0m\u001b[0;34m[\u001b[0m\u001b[0;36m1\u001b[0m\u001b[0;34m]\u001b[0m\u001b[0;34m.\u001b[0m\u001b[0mstartswith\u001b[0m\u001b[0;34m(\u001b[0m\u001b[0;34m'I'\u001b[0m\u001b[0;34m)\u001b[0m\u001b[0;34m,\u001b[0m\u001b[0mmap\u001b[0m\u001b[0;34m(\u001b[0m\u001b[0mtuple\u001b[0m\u001b[0;34m,\u001b[0m \u001b[0ma\u001b[0m\u001b[0;34m[\u001b[0m\u001b[0mlast\u001b[0m\u001b[0;34m]\u001b[0m\u001b[0;34m)\u001b[0m\u001b[0;34m)\u001b[0m\u001b[0;34m)\u001b[0m\u001b[0;34m\u001b[0m\u001b[0;34m\u001b[0m\u001b[0m\n\u001b[1;32m      4\u001b[0m     \u001b[0mfirst\u001b[0m \u001b[0;34m=\u001b[0m \u001b[0mset\u001b[0m\u001b[0;34m(\u001b[0m\u001b[0mfilter\u001b[0m\u001b[0;34m(\u001b[0m\u001b[0;32mlambda\u001b[0m \u001b[0mt\u001b[0m\u001b[0;34m:\u001b[0m \u001b[0mt\u001b[0m\u001b[0;34m[\u001b[0m\u001b[0;36m1\u001b[0m\u001b[0;34m]\u001b[0m\u001b[0;34m.\u001b[0m\u001b[0mstartswith\u001b[0m\u001b[0;34m(\u001b[0m\u001b[0;34m'I'\u001b[0m\u001b[0;34m)\u001b[0m\u001b[0;34m,\u001b[0m\u001b[0mmap\u001b[0m\u001b[0;34m(\u001b[0m\u001b[0mtuple\u001b[0m\u001b[0;34m,\u001b[0m \u001b[0mb\u001b[0m\u001b[0;34m[\u001b[0m\u001b[0;34m'0'\u001b[0m\u001b[0;34m]\u001b[0m\u001b[0;34m)\u001b[0m\u001b[0;34m)\u001b[0m\u001b[0;34m)\u001b[0m\u001b[0;34m\u001b[0m\u001b[0;34m\u001b[0m\u001b[0m\n\u001b[1;32m      5\u001b[0m     \u001b[0mprint\u001b[0m \u001b[0;34m(\u001b[0m\u001b[0mlast\u001b[0m\u001b[0;34m-\u001b[0m\u001b[0mfirst\u001b[0m\u001b[0;34m)\u001b[0m\u001b[0;34m\u001b[0m\u001b[0;34m\u001b[0m\u001b[0m\n",
      "\u001b[0;31mKeyError\u001b[0m: '103308'"
     ]
    }
   ],
   "source": [
    "for a,b in zip(annotations[\"103308\"], annotations[\"103308\"][1:]):\n",
    "    last = str(max(map(int,a.keys())))\n",
    "    last = set(filter(lambda t: t[1].startswith('I'),map(tuple, a[last])))\n",
    "    first = set(filter(lambda t: t[1].startswith('I'),map(tuple, b['0'])))\n",
    "    print (last-first)"
   ]
  },
  {
   "cell_type": "code",
   "execution_count": null,
   "metadata": {},
   "outputs": [],
   "source": [
    "program_step(annotations[\"103308\"][1])"
   ]
  },
  {
   "cell_type": "code",
   "execution_count": null,
   "metadata": {},
   "outputs": [],
   "source": [
    "s=set()\n",
    "s.add('a')\n",
    "s.remove('a')"
   ]
  },
  {
   "cell_type": "code",
   "execution_count": null,
   "metadata": {},
   "outputs": [],
   "source": [
    "edit_similarity([1,2,4,5,6,7],[1,2])"
   ]
  },
  {
   "cell_type": "code",
   "execution_count": null,
   "metadata": {},
   "outputs": [],
   "source": []
  }
 ],
 "metadata": {
  "kernelspec": {
   "display_name": "Python 3",
   "language": "python",
   "name": "python3"
  },
  "language_info": {
   "codemirror_mode": {
    "name": "ipython",
    "version": 3
   },
   "file_extension": ".py",
   "mimetype": "text/x-python",
   "name": "python",
   "nbconvert_exporter": "python",
   "pygments_lexer": "ipython3",
   "version": "3.8.5"
  }
 },
 "nbformat": 4,
 "nbformat_minor": 4
}
