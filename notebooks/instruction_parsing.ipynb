{
 "cells": [
  {
   "cell_type": "code",
   "execution_count": 53,
   "metadata": {},
   "outputs": [
    {
     "name": "stdout",
     "output_type": "stream",
     "text": [
      "The autoreload extension is already loaded. To reload it, use:\n",
      "  %reload_ext autoreload\n"
     ]
    }
   ],
   "source": [
    "import json, random, re, collections, itertools, base64, sys\n",
    "from dataclasses import dataclass\n",
    "from copy import deepcopy\n",
    "from pathlib import Path\n",
    "from tqdm.notebook import tqdm\n",
    "import numpy as np\n",
    "import pandas as pd\n",
    "from operator import itemgetter as at\n",
    "from IPython.core.display import display, HTML\n",
    "from ipywidgets import interact\n",
    "display_html = lambda x: display(HTML(str(x)))\n",
    "from pprint import pprint as pp\n",
    "from edit_distance import edit_distance\n",
    "ls = lambda path: list(map(str, path.iterdir()))\n",
    "\n",
    "sys.path.append('../src')\n",
    "annot_path = Path(\"../annotations\")\n",
    "data_path = Path(\"../data\")\n",
    "preprocessed_path = Path(\"../preprocessed\")\n",
    "mturk_path = Path(\"../mturk/results\")\n",
    "\n",
    "def read_annotation(annotation_id, mturk_batch=None):\n",
    "    if mturk_batch:\n",
    "        annotation = annotation_io.mturk_annotation(mturk_batch, annotation_id)\n",
    "    else:\n",
    "        annotation = annotation_io.get_annotation(annotation_id)\n",
    "    return annotation\n",
    "\n",
    "import annotation_io\n",
    "import read_data\n",
    "\n",
    "%load_ext autoreload\n",
    "%autoreload 2"
   ]
  },
  {
   "cell_type": "markdown",
   "metadata": {},
   "source": [
    "## Read mapping"
   ]
  },
  {
   "cell_type": "code",
   "execution_count": 46,
   "metadata": {},
   "outputs": [],
   "source": [
    "with (preprocessed_path / \"ingredients.json\").open(\"r\") as f:\n",
    "    ingredients = json.load(f)\n",
    "with (preprocessed_path / \"labels.json\").open(\"r\") as f:\n",
    "    idx2label = [tuple(t) for t in json.load(f)]\n",
    "    label2idx = {r: i for i, r in enumerate(idx2label)}\n",
    "with (preprocessed_path / \"resources.json\").open(\"r\") as f:\n",
    "    resources = json.load(f)\n",
    "ingredient_dict = {k: v for k, v in ingredients}\n",
    "resource_dict = {k: v for k, v in resources}"
   ]
  },
  {
   "cell_type": "code",
   "execution_count": 6,
   "metadata": {},
   "outputs": [
    {
     "data": {
      "text/plain": [
       "['../preprocessed/103308.npz',\n",
       " '../preprocessed/ingredients.json',\n",
       " '../preprocessed/resources.json',\n",
       " '../preprocessed/labels.json',\n",
       " '../preprocessed/103308.json']"
      ]
     },
     "execution_count": 6,
     "metadata": {},
     "output_type": "execute_result"
    }
   ],
   "source": [
    "ls(preprocessed_path)"
   ]
  },
  {
   "cell_type": "code",
   "execution_count": 7,
   "metadata": {},
   "outputs": [
    {
     "data": {
      "text/plain": [
       "['103308_0',\n",
       " '103308_1',\n",
       " '103308_2',\n",
       " '103308_3',\n",
       " '103308_4',\n",
       " '103308_5',\n",
       " '103308_6',\n",
       " '103308_7',\n",
       " '103308_8',\n",
       " '103308_9']"
      ]
     },
     "execution_count": 7,
     "metadata": {},
     "output_type": "execute_result"
    }
   ],
   "source": [
    "states = np.load(str(preprocessed_path/ \"103308.npz\" ))\n",
    "states.files"
   ]
  },
  {
   "cell_type": "code",
   "execution_count": 8,
   "metadata": {},
   "outputs": [
    {
     "data": {
      "text/plain": [
       "array([[False, False, False, ..., False, False, False],\n",
       "       [False, False, False, ..., False, False, False]])"
      ]
     },
     "execution_count": 8,
     "metadata": {},
     "output_type": "execute_result"
    }
   ],
   "source": [
    "states['103308_3']"
   ]
  },
  {
   "cell_type": "code",
   "execution_count": 34,
   "metadata": {},
   "outputs": [],
   "source": [
    "from instruction_parsing import program, program_step, Instruction, execute\n",
    "\n",
    "def human_program(annotation):\n",
    "    \"\"\"Runs the program and translates to human language\"\"\"\n",
    "    actions = [\n",
    "        (\n",
    "            a.ts,\n",
    "            a.command.name,\n",
    "            ingredient_dict.get(a.arg, resource_dict.get(a.arg, \"\")),\n",
    "            resource_dict.get(a.resource),\n",
    "        )\n",
    "        for a in program(annotation)\n",
    "    ]\n",
    "    return actions"
   ]
  },
  {
   "cell_type": "code",
   "execution_count": 52,
   "metadata": {},
   "outputs": [
    {
     "ename": "NameError",
     "evalue": "name 'read_annotation' is not defined",
     "output_type": "error",
     "traceback": [
      "\u001b[0;31m---------------------------------------------------------------------------\u001b[0m",
      "\u001b[0;31mNameError\u001b[0m                                 Traceback (most recent call last)",
      "\u001b[0;32m<ipython-input-52-3c410f5ae6d2>\u001b[0m in \u001b[0;36m<module>\u001b[0;34m\u001b[0m\n\u001b[1;32m      1\u001b[0m \u001b[0mmturk_batch\u001b[0m\u001b[0;34m=\u001b[0m\u001b[0;36m4286064\u001b[0m\u001b[0;34m\u001b[0m\u001b[0;34m\u001b[0m\u001b[0m\n\u001b[1;32m      2\u001b[0m \u001b[0mannotation_id\u001b[0m\u001b[0;34m=\u001b[0m\u001b[0;34m\"35L9RVQFCUDMD74V0GR1EN7XINTUHO\"\u001b[0m\u001b[0;34m\u001b[0m\u001b[0;34m\u001b[0m\u001b[0m\n\u001b[0;32m----> 3\u001b[0;31m \u001b[0mannotation\u001b[0m \u001b[0;34m=\u001b[0m \u001b[0mread_annotation\u001b[0m\u001b[0;34m(\u001b[0m\u001b[0mannotation_id\u001b[0m\u001b[0;34m,\u001b[0m \u001b[0mmturk_batch\u001b[0m\u001b[0;34m)\u001b[0m\u001b[0;34m\u001b[0m\u001b[0;34m\u001b[0m\u001b[0m\n\u001b[0m\u001b[1;32m      4\u001b[0m \u001b[0;34m\u001b[0m\u001b[0m\n\u001b[1;32m      5\u001b[0m \u001b[0;34m\u001b[0m\u001b[0m\n",
      "\u001b[0;31mNameError\u001b[0m: name 'read_annotation' is not defined"
     ]
    }
   ],
   "source": [
    "mturk_batch=4286064\n",
    "annotation_id=\"35L9RVQFCUDMD74V0GR1EN7XINTUHO\"\n",
    "annotation = read_annotation(annotation_id, mturk_batch)\n",
    "\n",
    "\n",
    "pp (human_program(annotation))"
   ]
  },
  {
   "cell_type": "code",
   "execution_count": 47,
   "metadata": {},
   "outputs": [
    {
     "data": {
      "text/plain": [
       "{'9068': ['320DUZ38GDHZZVYQ4B55MLMLM7IJGI',\n",
       "  '34S9DKFK79KV4CABDFJ3MSA60NGNYR',\n",
       "  '3AUQQEL7UBOBFMNZ7YUL4HAZAD10VI',\n",
       "  '3LWJHTCVCIHA7I68OHJW11YVZN5FQ1'],\n",
       " '25531': ['35USIKEBNXBTLS057WOB31QD1D76NU',\n",
       "  '38JBBYETQU5BCZJEV9SDGGCQRU5E4X',\n",
       "  '3A1COHJ8NPQOFAXIXDQWIVP8LW1H8V',\n",
       "  '3E4GGUZ1TEM4VLW1NHKSLWSXRD32K7',\n",
       "  '3NJM2BJS421I4ULJX2E6TQNIXETPCB'],\n",
       " '45118': ['35L9RVQFCUDMD74V0GR1EN7XINTUHO',\n",
       "  '3BWI6RSP7M48VM1XX7QKJSW0IW3E7P',\n",
       "  '3JV9LGBJWZ9D06PNKOXAUH37L1PGOV',\n",
       "  '3XLBSAQ9ZA766HSTTU4X42XI6207ZC'],\n",
       " '87264': ['3BXQMRHWK5T85L56RD7E6SFTZ9SMUP',\n",
       "  '3NPFYT4IZIZ0UF3FLFK6DUU0X4QXGB',\n",
       "  '3RXCAC0YIXKAFE27D78EXVD76V8G8D',\n",
       "  '3RXPCZQMQV6S4EIMEMZZILQZSPI1GU'],\n",
       " '128355': ['3A4TN5196QDQRDNVEP61KHLRBNMHC1',\n",
       "  '3KYQYYSHY12AOMFWIYW2OW0A892DOB',\n",
       "  '3LOZAJ85YJ8AFLV8M0ZHBQ0ZNMS2X6',\n",
       "  '3MYYFCXHJ929WDF514I1GJX249CG46'],\n",
       " '140729': ['3DEL4X4ELCG0G6OFFL6CKU1421MYXI',\n",
       "  '3FFJ6VRIL7J6TG3Z8RV2PSK52B50IL',\n",
       "  '3JJVG1YBEHSV1FBUZN9XK0CJOTRB53',\n",
       "  '3K4J6M3CXKOOY2VMA5SSTMJ2WKLGAW',\n",
       "  '3QECW5O0KNWVX15BZ90IKUI5UZC5T6'],\n",
       " '204245': ['37M28K1J0W8YP4LNIBDVQZBIOC3JA4',\n",
       "  '3VBEN272MQUSYYHGR5EJEMD8IQVSG7',\n",
       "  '3VNXK88KKIDTBGBC7UDEXSBSDGEV96',\n",
       "  '3ZOTGHDK5O6GQBYEFORRJVMA9C8OSC'],\n",
       " '222712': ['338JKRMM2CU2YYQXUBAAEMV3BK1HAZ',\n",
       "  '3OWEPKL08F7CPSEAQ6T39FQ9WOS7NV',\n",
       "  '3SEPORI8WTUOPJQR0XGHETZ87AGAZG',\n",
       "  '3TU5ZICBRJW1S3WLG3DQR9H9CIHQ8I',\n",
       "  '3VNXK88KKIDTBGBC7UDEXSBSDG8V90'],\n",
       " '236697': ['34S6N1K2Z1EJUHH1R2Z0N0BE5VFHLU',\n",
       "  '3C44YUNSI7KS9MRXXY9HDW50ID0PD4',\n",
       "  '3G5W44VEUDDUAF48MW5HN0MY1WGGKC',\n",
       "  '3VD82FOHKWJ0JU9II21R4QISN90COK'],\n",
       " '256036': ['3HYA4D452XETFZ4NM6TV5J0SJHM2F5',\n",
       "  '3LS2AMNW5LL4DVJ1NK2MOV79RO1OQ1',\n",
       "  '3RGU30DZTG3ZR5UCFE30ZQ6IITRMJQ',\n",
       "  '3SB5N7Y3O9ZSXPX4I3VZ4G7PNY1G0X',\n",
       "  '3TR2532VIVPX229KSYWJAU9WSTJJ6K']}"
      ]
     },
     "execution_count": 47,
     "metadata": {},
     "output_type": "execute_result"
    }
   ],
   "source": [
    "with (mturk_path / f\"{mturk_batch}.json\").open('r') as f:\n",
    "    annotations = json.load(f)\n",
    "annotations"
   ]
  },
  {
   "cell_type": "code",
   "execution_count": 42,
   "metadata": {},
   "outputs": [],
   "source": [
    "def annotator_agreement(annotation1,annotation2):\n",
    "    lst1 = [(x.command.name,x.arg,x.resource) for x in program(annotation1)]\n",
    "    lst2 = [(x.command.name,x.arg,x.resource) for x in program(annotation2)]\n",
    "    dst,_ = edit_distance(lst1, lst2)\n",
    "    return 1-dst/(len(lst1)+len(lst2))\n"
   ]
  },
  {
   "cell_type": "code",
   "execution_count": 58,
   "metadata": {},
   "outputs": [
    {
     "data": {
      "text/html": [
       "<h2>9068</h2><br /><a href=\"http://127.0.0.1:8080/annotate/4286064/320DUZ38GDHZZVYQ4B55MLMLM7IJGI\" target=\"_new\">320DUZ38GDHZZVYQ4B55MLMLM7IJGI</a> (0.53) <a href=\"http://127.0.0.1:8080/annotate/4286064/34S9DKFK79KV4CABDFJ3MSA60NGNYR\" target=\"_new\">34S9DKFK79KV4CABDFJ3MSA60NGNYR</a><br /><a href=\"http://127.0.0.1:8080/annotate/4286064/320DUZ38GDHZZVYQ4B55MLMLM7IJGI\" target=\"_new\">320DUZ38GDHZZVYQ4B55MLMLM7IJGI</a> (0.61) <a href=\"http://127.0.0.1:8080/annotate/4286064/3AUQQEL7UBOBFMNZ7YUL4HAZAD10VI\" target=\"_new\">3AUQQEL7UBOBFMNZ7YUL4HAZAD10VI</a><br /><a href=\"http://127.0.0.1:8080/annotate/4286064/320DUZ38GDHZZVYQ4B55MLMLM7IJGI\" target=\"_new\">320DUZ38GDHZZVYQ4B55MLMLM7IJGI</a> (0.51) <a href=\"http://127.0.0.1:8080/annotate/4286064/3LWJHTCVCIHA7I68OHJW11YVZN5FQ1\" target=\"_new\">3LWJHTCVCIHA7I68OHJW11YVZN5FQ1</a><br /><a href=\"http://127.0.0.1:8080/annotate/4286064/34S9DKFK79KV4CABDFJ3MSA60NGNYR\" target=\"_new\">34S9DKFK79KV4CABDFJ3MSA60NGNYR</a> (0.91) <a href=\"http://127.0.0.1:8080/annotate/4286064/3AUQQEL7UBOBFMNZ7YUL4HAZAD10VI\" target=\"_new\">3AUQQEL7UBOBFMNZ7YUL4HAZAD10VI</a><br /><a href=\"http://127.0.0.1:8080/annotate/4286064/34S9DKFK79KV4CABDFJ3MSA60NGNYR\" target=\"_new\">34S9DKFK79KV4CABDFJ3MSA60NGNYR</a> (0.58) <a href=\"http://127.0.0.1:8080/annotate/4286064/3LWJHTCVCIHA7I68OHJW11YVZN5FQ1\" target=\"_new\">3LWJHTCVCIHA7I68OHJW11YVZN5FQ1</a><br /><a href=\"http://127.0.0.1:8080/annotate/4286064/3AUQQEL7UBOBFMNZ7YUL4HAZAD10VI\" target=\"_new\">3AUQQEL7UBOBFMNZ7YUL4HAZAD10VI</a> (0.57) <a href=\"http://127.0.0.1:8080/annotate/4286064/3LWJHTCVCIHA7I68OHJW11YVZN5FQ1\" target=\"_new\">3LWJHTCVCIHA7I68OHJW11YVZN5FQ1</a><br /><h2>25531</h2><br /><a href=\"http://127.0.0.1:8080/annotate/4286064/35USIKEBNXBTLS057WOB31QD1D76NU\" target=\"_new\">35USIKEBNXBTLS057WOB31QD1D76NU</a> (0.58) <a href=\"http://127.0.0.1:8080/annotate/4286064/38JBBYETQU5BCZJEV9SDGGCQRU5E4X\" target=\"_new\">38JBBYETQU5BCZJEV9SDGGCQRU5E4X</a><br /><a href=\"http://127.0.0.1:8080/annotate/4286064/35USIKEBNXBTLS057WOB31QD1D76NU\" target=\"_new\">35USIKEBNXBTLS057WOB31QD1D76NU</a> (0.59) <a href=\"http://127.0.0.1:8080/annotate/4286064/3A1COHJ8NPQOFAXIXDQWIVP8LW1H8V\" target=\"_new\">3A1COHJ8NPQOFAXIXDQWIVP8LW1H8V</a><br /><a href=\"http://127.0.0.1:8080/annotate/4286064/35USIKEBNXBTLS057WOB31QD1D76NU\" target=\"_new\">35USIKEBNXBTLS057WOB31QD1D76NU</a> (0.67) <a href=\"http://127.0.0.1:8080/annotate/4286064/3E4GGUZ1TEM4VLW1NHKSLWSXRD32K7\" target=\"_new\">3E4GGUZ1TEM4VLW1NHKSLWSXRD32K7</a><br /><a href=\"http://127.0.0.1:8080/annotate/4286064/35USIKEBNXBTLS057WOB31QD1D76NU\" target=\"_new\">35USIKEBNXBTLS057WOB31QD1D76NU</a> (0.50) <a href=\"http://127.0.0.1:8080/annotate/4286064/3NJM2BJS421I4ULJX2E6TQNIXETPCB\" target=\"_new\">3NJM2BJS421I4ULJX2E6TQNIXETPCB</a><br /><a href=\"http://127.0.0.1:8080/annotate/4286064/38JBBYETQU5BCZJEV9SDGGCQRU5E4X\" target=\"_new\">38JBBYETQU5BCZJEV9SDGGCQRU5E4X</a> (0.52) <a href=\"http://127.0.0.1:8080/annotate/4286064/3A1COHJ8NPQOFAXIXDQWIVP8LW1H8V\" target=\"_new\">3A1COHJ8NPQOFAXIXDQWIVP8LW1H8V</a><br /><a href=\"http://127.0.0.1:8080/annotate/4286064/38JBBYETQU5BCZJEV9SDGGCQRU5E4X\" target=\"_new\">38JBBYETQU5BCZJEV9SDGGCQRU5E4X</a> (0.61) <a href=\"http://127.0.0.1:8080/annotate/4286064/3E4GGUZ1TEM4VLW1NHKSLWSXRD32K7\" target=\"_new\">3E4GGUZ1TEM4VLW1NHKSLWSXRD32K7</a><br /><a href=\"http://127.0.0.1:8080/annotate/4286064/38JBBYETQU5BCZJEV9SDGGCQRU5E4X\" target=\"_new\">38JBBYETQU5BCZJEV9SDGGCQRU5E4X</a> (0.53) <a href=\"http://127.0.0.1:8080/annotate/4286064/3NJM2BJS421I4ULJX2E6TQNIXETPCB\" target=\"_new\">3NJM2BJS421I4ULJX2E6TQNIXETPCB</a><br /><a href=\"http://127.0.0.1:8080/annotate/4286064/3A1COHJ8NPQOFAXIXDQWIVP8LW1H8V\" target=\"_new\">3A1COHJ8NPQOFAXIXDQWIVP8LW1H8V</a> (0.63) <a href=\"http://127.0.0.1:8080/annotate/4286064/3E4GGUZ1TEM4VLW1NHKSLWSXRD32K7\" target=\"_new\">3E4GGUZ1TEM4VLW1NHKSLWSXRD32K7</a><br /><a href=\"http://127.0.0.1:8080/annotate/4286064/3A1COHJ8NPQOFAXIXDQWIVP8LW1H8V\" target=\"_new\">3A1COHJ8NPQOFAXIXDQWIVP8LW1H8V</a> (0.42) <a href=\"http://127.0.0.1:8080/annotate/4286064/3NJM2BJS421I4ULJX2E6TQNIXETPCB\" target=\"_new\">3NJM2BJS421I4ULJX2E6TQNIXETPCB</a><br /><a href=\"http://127.0.0.1:8080/annotate/4286064/3E4GGUZ1TEM4VLW1NHKSLWSXRD32K7\" target=\"_new\">3E4GGUZ1TEM4VLW1NHKSLWSXRD32K7</a> (0.53) <a href=\"http://127.0.0.1:8080/annotate/4286064/3NJM2BJS421I4ULJX2E6TQNIXETPCB\" target=\"_new\">3NJM2BJS421I4ULJX2E6TQNIXETPCB</a><br /><h2>45118</h2><br /><a href=\"http://127.0.0.1:8080/annotate/4286064/35L9RVQFCUDMD74V0GR1EN7XINTUHO\" target=\"_new\">35L9RVQFCUDMD74V0GR1EN7XINTUHO</a> (0.79) <a href=\"http://127.0.0.1:8080/annotate/4286064/3BWI6RSP7M48VM1XX7QKJSW0IW3E7P\" target=\"_new\">3BWI6RSP7M48VM1XX7QKJSW0IW3E7P</a><br /><a href=\"http://127.0.0.1:8080/annotate/4286064/35L9RVQFCUDMD74V0GR1EN7XINTUHO\" target=\"_new\">35L9RVQFCUDMD74V0GR1EN7XINTUHO</a> (0.97) <a href=\"http://127.0.0.1:8080/annotate/4286064/3JV9LGBJWZ9D06PNKOXAUH37L1PGOV\" target=\"_new\">3JV9LGBJWZ9D06PNKOXAUH37L1PGOV</a><br /><a href=\"http://127.0.0.1:8080/annotate/4286064/35L9RVQFCUDMD74V0GR1EN7XINTUHO\" target=\"_new\">35L9RVQFCUDMD74V0GR1EN7XINTUHO</a> (0.62) <a href=\"http://127.0.0.1:8080/annotate/4286064/3XLBSAQ9ZA766HSTTU4X42XI6207ZC\" target=\"_new\">3XLBSAQ9ZA766HSTTU4X42XI6207ZC</a><br /><a href=\"http://127.0.0.1:8080/annotate/4286064/3BWI6RSP7M48VM1XX7QKJSW0IW3E7P\" target=\"_new\">3BWI6RSP7M48VM1XX7QKJSW0IW3E7P</a> (0.76) <a href=\"http://127.0.0.1:8080/annotate/4286064/3JV9LGBJWZ9D06PNKOXAUH37L1PGOV\" target=\"_new\">3JV9LGBJWZ9D06PNKOXAUH37L1PGOV</a><br /><a href=\"http://127.0.0.1:8080/annotate/4286064/3BWI6RSP7M48VM1XX7QKJSW0IW3E7P\" target=\"_new\">3BWI6RSP7M48VM1XX7QKJSW0IW3E7P</a> (0.52) <a href=\"http://127.0.0.1:8080/annotate/4286064/3XLBSAQ9ZA766HSTTU4X42XI6207ZC\" target=\"_new\">3XLBSAQ9ZA766HSTTU4X42XI6207ZC</a><br /><a href=\"http://127.0.0.1:8080/annotate/4286064/3JV9LGBJWZ9D06PNKOXAUH37L1PGOV\" target=\"_new\">3JV9LGBJWZ9D06PNKOXAUH37L1PGOV</a> (0.61) <a href=\"http://127.0.0.1:8080/annotate/4286064/3XLBSAQ9ZA766HSTTU4X42XI6207ZC\" target=\"_new\">3XLBSAQ9ZA766HSTTU4X42XI6207ZC</a><br /><h2>87264</h2><br /><a href=\"http://127.0.0.1:8080/annotate/4286064/3BXQMRHWK5T85L56RD7E6SFTZ9SMUP\" target=\"_new\">3BXQMRHWK5T85L56RD7E6SFTZ9SMUP</a> (0.86) <a href=\"http://127.0.0.1:8080/annotate/4286064/3NPFYT4IZIZ0UF3FLFK6DUU0X4QXGB\" target=\"_new\">3NPFYT4IZIZ0UF3FLFK6DUU0X4QXGB</a><br /><a href=\"http://127.0.0.1:8080/annotate/4286064/3BXQMRHWK5T85L56RD7E6SFTZ9SMUP\" target=\"_new\">3BXQMRHWK5T85L56RD7E6SFTZ9SMUP</a> (0.56) <a href=\"http://127.0.0.1:8080/annotate/4286064/3RXCAC0YIXKAFE27D78EXVD76V8G8D\" target=\"_new\">3RXCAC0YIXKAFE27D78EXVD76V8G8D</a><br /><a href=\"http://127.0.0.1:8080/annotate/4286064/3BXQMRHWK5T85L56RD7E6SFTZ9SMUP\" target=\"_new\">3BXQMRHWK5T85L56RD7E6SFTZ9SMUP</a> (0.73) <a href=\"http://127.0.0.1:8080/annotate/4286064/3RXPCZQMQV6S4EIMEMZZILQZSPI1GU\" target=\"_new\">3RXPCZQMQV6S4EIMEMZZILQZSPI1GU</a><br /><a href=\"http://127.0.0.1:8080/annotate/4286064/3NPFYT4IZIZ0UF3FLFK6DUU0X4QXGB\" target=\"_new\">3NPFYT4IZIZ0UF3FLFK6DUU0X4QXGB</a> (0.60) <a href=\"http://127.0.0.1:8080/annotate/4286064/3RXCAC0YIXKAFE27D78EXVD76V8G8D\" target=\"_new\">3RXCAC0YIXKAFE27D78EXVD76V8G8D</a><br /><a href=\"http://127.0.0.1:8080/annotate/4286064/3NPFYT4IZIZ0UF3FLFK6DUU0X4QXGB\" target=\"_new\">3NPFYT4IZIZ0UF3FLFK6DUU0X4QXGB</a> (0.76) <a href=\"http://127.0.0.1:8080/annotate/4286064/3RXPCZQMQV6S4EIMEMZZILQZSPI1GU\" target=\"_new\">3RXPCZQMQV6S4EIMEMZZILQZSPI1GU</a><br /><a href=\"http://127.0.0.1:8080/annotate/4286064/3RXCAC0YIXKAFE27D78EXVD76V8G8D\" target=\"_new\">3RXCAC0YIXKAFE27D78EXVD76V8G8D</a> (0.54) <a href=\"http://127.0.0.1:8080/annotate/4286064/3RXPCZQMQV6S4EIMEMZZILQZSPI1GU\" target=\"_new\">3RXPCZQMQV6S4EIMEMZZILQZSPI1GU</a><br /><h2>128355</h2><br /><a href=\"http://127.0.0.1:8080/annotate/4286064/3A4TN5196QDQRDNVEP61KHLRBNMHC1\" target=\"_new\">3A4TN5196QDQRDNVEP61KHLRBNMHC1</a> (0.69) <a href=\"http://127.0.0.1:8080/annotate/4286064/3KYQYYSHY12AOMFWIYW2OW0A892DOB\" target=\"_new\">3KYQYYSHY12AOMFWIYW2OW0A892DOB</a><br /><a href=\"http://127.0.0.1:8080/annotate/4286064/3A4TN5196QDQRDNVEP61KHLRBNMHC1\" target=\"_new\">3A4TN5196QDQRDNVEP61KHLRBNMHC1</a> (0.92) <a href=\"http://127.0.0.1:8080/annotate/4286064/3LOZAJ85YJ8AFLV8M0ZHBQ0ZNMS2X6\" target=\"_new\">3LOZAJ85YJ8AFLV8M0ZHBQ0ZNMS2X6</a><br /><a href=\"http://127.0.0.1:8080/annotate/4286064/3A4TN5196QDQRDNVEP61KHLRBNMHC1\" target=\"_new\">3A4TN5196QDQRDNVEP61KHLRBNMHC1</a> (0.65) <a href=\"http://127.0.0.1:8080/annotate/4286064/3MYYFCXHJ929WDF514I1GJX249CG46\" target=\"_new\">3MYYFCXHJ929WDF514I1GJX249CG46</a><br /><a href=\"http://127.0.0.1:8080/annotate/4286064/3KYQYYSHY12AOMFWIYW2OW0A892DOB\" target=\"_new\">3KYQYYSHY12AOMFWIYW2OW0A892DOB</a> (0.69) <a href=\"http://127.0.0.1:8080/annotate/4286064/3LOZAJ85YJ8AFLV8M0ZHBQ0ZNMS2X6\" target=\"_new\">3LOZAJ85YJ8AFLV8M0ZHBQ0ZNMS2X6</a><br /><a href=\"http://127.0.0.1:8080/annotate/4286064/3KYQYYSHY12AOMFWIYW2OW0A892DOB\" target=\"_new\">3KYQYYSHY12AOMFWIYW2OW0A892DOB</a> (0.64) <a href=\"http://127.0.0.1:8080/annotate/4286064/3MYYFCXHJ929WDF514I1GJX249CG46\" target=\"_new\">3MYYFCXHJ929WDF514I1GJX249CG46</a><br /><a href=\"http://127.0.0.1:8080/annotate/4286064/3LOZAJ85YJ8AFLV8M0ZHBQ0ZNMS2X6\" target=\"_new\">3LOZAJ85YJ8AFLV8M0ZHBQ0ZNMS2X6</a> (0.66) <a href=\"http://127.0.0.1:8080/annotate/4286064/3MYYFCXHJ929WDF514I1GJX249CG46\" target=\"_new\">3MYYFCXHJ929WDF514I1GJX249CG46</a><br /><h2>140729</h2><br /><a href=\"http://127.0.0.1:8080/annotate/4286064/3DEL4X4ELCG0G6OFFL6CKU1421MYXI\" target=\"_new\">3DEL4X4ELCG0G6OFFL6CKU1421MYXI</a> (0.60) <a href=\"http://127.0.0.1:8080/annotate/4286064/3FFJ6VRIL7J6TG3Z8RV2PSK52B50IL\" target=\"_new\">3FFJ6VRIL7J6TG3Z8RV2PSK52B50IL</a><br /><a href=\"http://127.0.0.1:8080/annotate/4286064/3DEL4X4ELCG0G6OFFL6CKU1421MYXI\" target=\"_new\">3DEL4X4ELCG0G6OFFL6CKU1421MYXI</a> (0.60) <a href=\"http://127.0.0.1:8080/annotate/4286064/3JJVG1YBEHSV1FBUZN9XK0CJOTRB53\" target=\"_new\">3JJVG1YBEHSV1FBUZN9XK0CJOTRB53</a><br /><a href=\"http://127.0.0.1:8080/annotate/4286064/3DEL4X4ELCG0G6OFFL6CKU1421MYXI\" target=\"_new\">3DEL4X4ELCG0G6OFFL6CKU1421MYXI</a> (0.77) <a href=\"http://127.0.0.1:8080/annotate/4286064/3K4J6M3CXKOOY2VMA5SSTMJ2WKLGAW\" target=\"_new\">3K4J6M3CXKOOY2VMA5SSTMJ2WKLGAW</a><br /><a href=\"http://127.0.0.1:8080/annotate/4286064/3DEL4X4ELCG0G6OFFL6CKU1421MYXI\" target=\"_new\">3DEL4X4ELCG0G6OFFL6CKU1421MYXI</a> (0.61) <a href=\"http://127.0.0.1:8080/annotate/4286064/3QECW5O0KNWVX15BZ90IKUI5UZC5T6\" target=\"_new\">3QECW5O0KNWVX15BZ90IKUI5UZC5T6</a><br /><a href=\"http://127.0.0.1:8080/annotate/4286064/3FFJ6VRIL7J6TG3Z8RV2PSK52B50IL\" target=\"_new\">3FFJ6VRIL7J6TG3Z8RV2PSK52B50IL</a> (0.96) <a href=\"http://127.0.0.1:8080/annotate/4286064/3JJVG1YBEHSV1FBUZN9XK0CJOTRB53\" target=\"_new\">3JJVG1YBEHSV1FBUZN9XK0CJOTRB53</a><br /><a href=\"http://127.0.0.1:8080/annotate/4286064/3FFJ6VRIL7J6TG3Z8RV2PSK52B50IL\" target=\"_new\">3FFJ6VRIL7J6TG3Z8RV2PSK52B50IL</a> (0.56) <a href=\"http://127.0.0.1:8080/annotate/4286064/3K4J6M3CXKOOY2VMA5SSTMJ2WKLGAW\" target=\"_new\">3K4J6M3CXKOOY2VMA5SSTMJ2WKLGAW</a><br /><a href=\"http://127.0.0.1:8080/annotate/4286064/3FFJ6VRIL7J6TG3Z8RV2PSK52B50IL\" target=\"_new\">3FFJ6VRIL7J6TG3Z8RV2PSK52B50IL</a> (0.58) <a href=\"http://127.0.0.1:8080/annotate/4286064/3QECW5O0KNWVX15BZ90IKUI5UZC5T6\" target=\"_new\">3QECW5O0KNWVX15BZ90IKUI5UZC5T6</a><br /><a href=\"http://127.0.0.1:8080/annotate/4286064/3JJVG1YBEHSV1FBUZN9XK0CJOTRB53\" target=\"_new\">3JJVG1YBEHSV1FBUZN9XK0CJOTRB53</a> (0.57) <a href=\"http://127.0.0.1:8080/annotate/4286064/3K4J6M3CXKOOY2VMA5SSTMJ2WKLGAW\" target=\"_new\">3K4J6M3CXKOOY2VMA5SSTMJ2WKLGAW</a><br /><a href=\"http://127.0.0.1:8080/annotate/4286064/3JJVG1YBEHSV1FBUZN9XK0CJOTRB53\" target=\"_new\">3JJVG1YBEHSV1FBUZN9XK0CJOTRB53</a> (0.58) <a href=\"http://127.0.0.1:8080/annotate/4286064/3QECW5O0KNWVX15BZ90IKUI5UZC5T6\" target=\"_new\">3QECW5O0KNWVX15BZ90IKUI5UZC5T6</a><br /><a href=\"http://127.0.0.1:8080/annotate/4286064/3K4J6M3CXKOOY2VMA5SSTMJ2WKLGAW\" target=\"_new\">3K4J6M3CXKOOY2VMA5SSTMJ2WKLGAW</a> (0.61) <a href=\"http://127.0.0.1:8080/annotate/4286064/3QECW5O0KNWVX15BZ90IKUI5UZC5T6\" target=\"_new\">3QECW5O0KNWVX15BZ90IKUI5UZC5T6</a><br /><h2>204245</h2><br /><a href=\"http://127.0.0.1:8080/annotate/4286064/37M28K1J0W8YP4LNIBDVQZBIOC3JA4\" target=\"_new\">37M28K1J0W8YP4LNIBDVQZBIOC3JA4</a> (0.76) <a href=\"http://127.0.0.1:8080/annotate/4286064/3VBEN272MQUSYYHGR5EJEMD8IQVSG7\" target=\"_new\">3VBEN272MQUSYYHGR5EJEMD8IQVSG7</a><br /><a href=\"http://127.0.0.1:8080/annotate/4286064/37M28K1J0W8YP4LNIBDVQZBIOC3JA4\" target=\"_new\">37M28K1J0W8YP4LNIBDVQZBIOC3JA4</a> (0.60) <a href=\"http://127.0.0.1:8080/annotate/4286064/3VNXK88KKIDTBGBC7UDEXSBSDGEV96\" target=\"_new\">3VNXK88KKIDTBGBC7UDEXSBSDGEV96</a><br /><a href=\"http://127.0.0.1:8080/annotate/4286064/37M28K1J0W8YP4LNIBDVQZBIOC3JA4\" target=\"_new\">37M28K1J0W8YP4LNIBDVQZBIOC3JA4</a> (0.74) <a href=\"http://127.0.0.1:8080/annotate/4286064/3ZOTGHDK5O6GQBYEFORRJVMA9C8OSC\" target=\"_new\">3ZOTGHDK5O6GQBYEFORRJVMA9C8OSC</a><br /><a href=\"http://127.0.0.1:8080/annotate/4286064/3VBEN272MQUSYYHGR5EJEMD8IQVSG7\" target=\"_new\">3VBEN272MQUSYYHGR5EJEMD8IQVSG7</a> (0.48) <a href=\"http://127.0.0.1:8080/annotate/4286064/3VNXK88KKIDTBGBC7UDEXSBSDGEV96\" target=\"_new\">3VNXK88KKIDTBGBC7UDEXSBSDGEV96</a><br /><a href=\"http://127.0.0.1:8080/annotate/4286064/3VBEN272MQUSYYHGR5EJEMD8IQVSG7\" target=\"_new\">3VBEN272MQUSYYHGR5EJEMD8IQVSG7</a> (0.67) <a href=\"http://127.0.0.1:8080/annotate/4286064/3ZOTGHDK5O6GQBYEFORRJVMA9C8OSC\" target=\"_new\">3ZOTGHDK5O6GQBYEFORRJVMA9C8OSC</a><br /><a href=\"http://127.0.0.1:8080/annotate/4286064/3VNXK88KKIDTBGBC7UDEXSBSDGEV96\" target=\"_new\">3VNXK88KKIDTBGBC7UDEXSBSDGEV96</a> (0.50) <a href=\"http://127.0.0.1:8080/annotate/4286064/3ZOTGHDK5O6GQBYEFORRJVMA9C8OSC\" target=\"_new\">3ZOTGHDK5O6GQBYEFORRJVMA9C8OSC</a><br /><h2>222712</h2><br /><a href=\"http://127.0.0.1:8080/annotate/4286064/338JKRMM2CU2YYQXUBAAEMV3BK1HAZ\" target=\"_new\">338JKRMM2CU2YYQXUBAAEMV3BK1HAZ</a> (0.56) <a href=\"http://127.0.0.1:8080/annotate/4286064/3OWEPKL08F7CPSEAQ6T39FQ9WOS7NV\" target=\"_new\">3OWEPKL08F7CPSEAQ6T39FQ9WOS7NV</a><br /><a href=\"http://127.0.0.1:8080/annotate/4286064/338JKRMM2CU2YYQXUBAAEMV3BK1HAZ\" target=\"_new\">338JKRMM2CU2YYQXUBAAEMV3BK1HAZ</a> (0.42) <a href=\"http://127.0.0.1:8080/annotate/4286064/3SEPORI8WTUOPJQR0XGHETZ87AGAZG\" target=\"_new\">3SEPORI8WTUOPJQR0XGHETZ87AGAZG</a><br /><a href=\"http://127.0.0.1:8080/annotate/4286064/338JKRMM2CU2YYQXUBAAEMV3BK1HAZ\" target=\"_new\">338JKRMM2CU2YYQXUBAAEMV3BK1HAZ</a> (0.65) <a href=\"http://127.0.0.1:8080/annotate/4286064/3TU5ZICBRJW1S3WLG3DQR9H9CIHQ8I\" target=\"_new\">3TU5ZICBRJW1S3WLG3DQR9H9CIHQ8I</a><br /><a href=\"http://127.0.0.1:8080/annotate/4286064/338JKRMM2CU2YYQXUBAAEMV3BK1HAZ\" target=\"_new\">338JKRMM2CU2YYQXUBAAEMV3BK1HAZ</a> (0.49) <a href=\"http://127.0.0.1:8080/annotate/4286064/3VNXK88KKIDTBGBC7UDEXSBSDG8V90\" target=\"_new\">3VNXK88KKIDTBGBC7UDEXSBSDG8V90</a><br /><a href=\"http://127.0.0.1:8080/annotate/4286064/3OWEPKL08F7CPSEAQ6T39FQ9WOS7NV\" target=\"_new\">3OWEPKL08F7CPSEAQ6T39FQ9WOS7NV</a> (0.46) <a href=\"http://127.0.0.1:8080/annotate/4286064/3SEPORI8WTUOPJQR0XGHETZ87AGAZG\" target=\"_new\">3SEPORI8WTUOPJQR0XGHETZ87AGAZG</a><br /><a href=\"http://127.0.0.1:8080/annotate/4286064/3OWEPKL08F7CPSEAQ6T39FQ9WOS7NV\" target=\"_new\">3OWEPKL08F7CPSEAQ6T39FQ9WOS7NV</a> (0.62) <a href=\"http://127.0.0.1:8080/annotate/4286064/3TU5ZICBRJW1S3WLG3DQR9H9CIHQ8I\" target=\"_new\">3TU5ZICBRJW1S3WLG3DQR9H9CIHQ8I</a><br /><a href=\"http://127.0.0.1:8080/annotate/4286064/3OWEPKL08F7CPSEAQ6T39FQ9WOS7NV\" target=\"_new\">3OWEPKL08F7CPSEAQ6T39FQ9WOS7NV</a> (0.47) <a href=\"http://127.0.0.1:8080/annotate/4286064/3VNXK88KKIDTBGBC7UDEXSBSDG8V90\" target=\"_new\">3VNXK88KKIDTBGBC7UDEXSBSDG8V90</a><br /><a href=\"http://127.0.0.1:8080/annotate/4286064/3SEPORI8WTUOPJQR0XGHETZ87AGAZG\" target=\"_new\">3SEPORI8WTUOPJQR0XGHETZ87AGAZG</a> (0.55) <a href=\"http://127.0.0.1:8080/annotate/4286064/3TU5ZICBRJW1S3WLG3DQR9H9CIHQ8I\" target=\"_new\">3TU5ZICBRJW1S3WLG3DQR9H9CIHQ8I</a><br /><a href=\"http://127.0.0.1:8080/annotate/4286064/3SEPORI8WTUOPJQR0XGHETZ87AGAZG\" target=\"_new\">3SEPORI8WTUOPJQR0XGHETZ87AGAZG</a> (0.66) <a href=\"http://127.0.0.1:8080/annotate/4286064/3VNXK88KKIDTBGBC7UDEXSBSDG8V90\" target=\"_new\">3VNXK88KKIDTBGBC7UDEXSBSDG8V90</a><br /><a href=\"http://127.0.0.1:8080/annotate/4286064/3TU5ZICBRJW1S3WLG3DQR9H9CIHQ8I\" target=\"_new\">3TU5ZICBRJW1S3WLG3DQR9H9CIHQ8I</a> (0.60) <a href=\"http://127.0.0.1:8080/annotate/4286064/3VNXK88KKIDTBGBC7UDEXSBSDG8V90\" target=\"_new\">3VNXK88KKIDTBGBC7UDEXSBSDG8V90</a><br /><h2>236697</h2><br /><a href=\"http://127.0.0.1:8080/annotate/4286064/34S6N1K2Z1EJUHH1R2Z0N0BE5VFHLU\" target=\"_new\">34S6N1K2Z1EJUHH1R2Z0N0BE5VFHLU</a> (0.70) <a href=\"http://127.0.0.1:8080/annotate/4286064/3C44YUNSI7KS9MRXXY9HDW50ID0PD4\" target=\"_new\">3C44YUNSI7KS9MRXXY9HDW50ID0PD4</a><br /><a href=\"http://127.0.0.1:8080/annotate/4286064/34S6N1K2Z1EJUHH1R2Z0N0BE5VFHLU\" target=\"_new\">34S6N1K2Z1EJUHH1R2Z0N0BE5VFHLU</a> (0.80) <a href=\"http://127.0.0.1:8080/annotate/4286064/3G5W44VEUDDUAF48MW5HN0MY1WGGKC\" target=\"_new\">3G5W44VEUDDUAF48MW5HN0MY1WGGKC</a><br /><a href=\"http://127.0.0.1:8080/annotate/4286064/34S6N1K2Z1EJUHH1R2Z0N0BE5VFHLU\" target=\"_new\">34S6N1K2Z1EJUHH1R2Z0N0BE5VFHLU</a> (0.86) <a href=\"http://127.0.0.1:8080/annotate/4286064/3VD82FOHKWJ0JU9II21R4QISN90COK\" target=\"_new\">3VD82FOHKWJ0JU9II21R4QISN90COK</a><br /><a href=\"http://127.0.0.1:8080/annotate/4286064/3C44YUNSI7KS9MRXXY9HDW50ID0PD4\" target=\"_new\">3C44YUNSI7KS9MRXXY9HDW50ID0PD4</a> (0.63) <a href=\"http://127.0.0.1:8080/annotate/4286064/3G5W44VEUDDUAF48MW5HN0MY1WGGKC\" target=\"_new\">3G5W44VEUDDUAF48MW5HN0MY1WGGKC</a><br /><a href=\"http://127.0.0.1:8080/annotate/4286064/3C44YUNSI7KS9MRXXY9HDW50ID0PD4\" target=\"_new\">3C44YUNSI7KS9MRXXY9HDW50ID0PD4</a> (0.69) <a href=\"http://127.0.0.1:8080/annotate/4286064/3VD82FOHKWJ0JU9II21R4QISN90COK\" target=\"_new\">3VD82FOHKWJ0JU9II21R4QISN90COK</a><br /><a href=\"http://127.0.0.1:8080/annotate/4286064/3G5W44VEUDDUAF48MW5HN0MY1WGGKC\" target=\"_new\">3G5W44VEUDDUAF48MW5HN0MY1WGGKC</a> (0.92) <a href=\"http://127.0.0.1:8080/annotate/4286064/3VD82FOHKWJ0JU9II21R4QISN90COK\" target=\"_new\">3VD82FOHKWJ0JU9II21R4QISN90COK</a><br /><h2>256036</h2><br /><a href=\"http://127.0.0.1:8080/annotate/4286064/3HYA4D452XETFZ4NM6TV5J0SJHM2F5\" target=\"_new\">3HYA4D452XETFZ4NM6TV5J0SJHM2F5</a> (0.43) <a href=\"http://127.0.0.1:8080/annotate/4286064/3LS2AMNW5LL4DVJ1NK2MOV79RO1OQ1\" target=\"_new\">3LS2AMNW5LL4DVJ1NK2MOV79RO1OQ1</a><br /><a href=\"http://127.0.0.1:8080/annotate/4286064/3HYA4D452XETFZ4NM6TV5J0SJHM2F5\" target=\"_new\">3HYA4D452XETFZ4NM6TV5J0SJHM2F5</a> (0.43) <a href=\"http://127.0.0.1:8080/annotate/4286064/3RGU30DZTG3ZR5UCFE30ZQ6IITRMJQ\" target=\"_new\">3RGU30DZTG3ZR5UCFE30ZQ6IITRMJQ</a><br /><a href=\"http://127.0.0.1:8080/annotate/4286064/3HYA4D452XETFZ4NM6TV5J0SJHM2F5\" target=\"_new\">3HYA4D452XETFZ4NM6TV5J0SJHM2F5</a> (0.49) <a href=\"http://127.0.0.1:8080/annotate/4286064/3SB5N7Y3O9ZSXPX4I3VZ4G7PNY1G0X\" target=\"_new\">3SB5N7Y3O9ZSXPX4I3VZ4G7PNY1G0X</a><br /><a href=\"http://127.0.0.1:8080/annotate/4286064/3HYA4D452XETFZ4NM6TV5J0SJHM2F5\" target=\"_new\">3HYA4D452XETFZ4NM6TV5J0SJHM2F5</a> (0.52) <a href=\"http://127.0.0.1:8080/annotate/4286064/3TR2532VIVPX229KSYWJAU9WSTJJ6K\" target=\"_new\">3TR2532VIVPX229KSYWJAU9WSTJJ6K</a><br /><a href=\"http://127.0.0.1:8080/annotate/4286064/3LS2AMNW5LL4DVJ1NK2MOV79RO1OQ1\" target=\"_new\">3LS2AMNW5LL4DVJ1NK2MOV79RO1OQ1</a> (0.57) <a href=\"http://127.0.0.1:8080/annotate/4286064/3RGU30DZTG3ZR5UCFE30ZQ6IITRMJQ\" target=\"_new\">3RGU30DZTG3ZR5UCFE30ZQ6IITRMJQ</a><br /><a href=\"http://127.0.0.1:8080/annotate/4286064/3LS2AMNW5LL4DVJ1NK2MOV79RO1OQ1\" target=\"_new\">3LS2AMNW5LL4DVJ1NK2MOV79RO1OQ1</a> (0.54) <a href=\"http://127.0.0.1:8080/annotate/4286064/3SB5N7Y3O9ZSXPX4I3VZ4G7PNY1G0X\" target=\"_new\">3SB5N7Y3O9ZSXPX4I3VZ4G7PNY1G0X</a><br /><a href=\"http://127.0.0.1:8080/annotate/4286064/3LS2AMNW5LL4DVJ1NK2MOV79RO1OQ1\" target=\"_new\">3LS2AMNW5LL4DVJ1NK2MOV79RO1OQ1</a> (0.56) <a href=\"http://127.0.0.1:8080/annotate/4286064/3TR2532VIVPX229KSYWJAU9WSTJJ6K\" target=\"_new\">3TR2532VIVPX229KSYWJAU9WSTJJ6K</a><br /><a href=\"http://127.0.0.1:8080/annotate/4286064/3RGU30DZTG3ZR5UCFE30ZQ6IITRMJQ\" target=\"_new\">3RGU30DZTG3ZR5UCFE30ZQ6IITRMJQ</a> (0.77) <a href=\"http://127.0.0.1:8080/annotate/4286064/3SB5N7Y3O9ZSXPX4I3VZ4G7PNY1G0X\" target=\"_new\">3SB5N7Y3O9ZSXPX4I3VZ4G7PNY1G0X</a><br /><a href=\"http://127.0.0.1:8080/annotate/4286064/3RGU30DZTG3ZR5UCFE30ZQ6IITRMJQ\" target=\"_new\">3RGU30DZTG3ZR5UCFE30ZQ6IITRMJQ</a> (0.54) <a href=\"http://127.0.0.1:8080/annotate/4286064/3TR2532VIVPX229KSYWJAU9WSTJJ6K\" target=\"_new\">3TR2532VIVPX229KSYWJAU9WSTJJ6K</a><br /><a href=\"http://127.0.0.1:8080/annotate/4286064/3SB5N7Y3O9ZSXPX4I3VZ4G7PNY1G0X\" target=\"_new\">3SB5N7Y3O9ZSXPX4I3VZ4G7PNY1G0X</a> (0.53) <a href=\"http://127.0.0.1:8080/annotate/4286064/3TR2532VIVPX229KSYWJAU9WSTJJ6K\" target=\"_new\">3TR2532VIVPX229KSYWJAU9WSTJJ6K</a>"
      ],
      "text/plain": [
       "<IPython.core.display.HTML object>"
      ]
     },
     "metadata": {},
     "output_type": "display_data"
    }
   ],
   "source": [
    "html = []\n",
    "for recipe_id in annotations:\n",
    "    html.append(f\"<h2>{recipe_id}</h2>\")\n",
    "    for p1,p2 in itertools.combinations(annotations[recipe_id],2):\n",
    "        sim = annotator_agreement(read_annotation(p1, mturk_batch),read_annotation(p2, mturk_batch))\n",
    "        line = f'<a href=\"http://127.0.0.1:8080/annotate/{mturk_batch}/{p1}\" target=\"_new\">{p1}</a>'\n",
    "        line += ' ({s:0.2f}) '.format(s=sim)\n",
    "        line += f'<a href=\"http://127.0.0.1:8080/annotate/{mturk_batch}/{p2}\" target=\"_new\">{p2}</a>'\n",
    "        html.append(line)\n",
    "html = (\"<br />\".join(html))\n",
    "display_html(html)"
   ]
  },
  {
   "cell_type": "code",
   "execution_count": null,
   "metadata": {},
   "outputs": [],
   "source": [
    "for a,b in zip(annotations[\"103308\"], annotations[\"103308\"][1:]):\n",
    "    last = str(max(map(int,a.keys())))\n",
    "    last = set(filter(lambda t: t[1].startswith('I'),map(tuple, a[last])))\n",
    "    first = set(filter(lambda t: t[1].startswith('I'),map(tuple, b['0'])))\n",
    "    print (last-first)"
   ]
  },
  {
   "cell_type": "code",
   "execution_count": null,
   "metadata": {},
   "outputs": [],
   "source": [
    "program_step(annotations[\"103308\"][1])"
   ]
  },
  {
   "cell_type": "code",
   "execution_count": null,
   "metadata": {},
   "outputs": [],
   "source": [
    "s=set()\n",
    "s.add('a')\n",
    "s.remove('a')"
   ]
  },
  {
   "cell_type": "code",
   "execution_count": 31,
   "metadata": {},
   "outputs": [
    {
     "data": {
      "text/plain": [
       "0.5"
      ]
     },
     "execution_count": 31,
     "metadata": {},
     "output_type": "execute_result"
    }
   ],
   "source": [
    "edit_similarity([1,2,4,5,6,7],[1,2])"
   ]
  },
  {
   "cell_type": "code",
   "execution_count": null,
   "metadata": {},
   "outputs": [],
   "source": []
  }
 ],
 "metadata": {
  "kernelspec": {
   "display_name": "Python 3",
   "language": "python",
   "name": "python3"
  },
  "language_info": {
   "codemirror_mode": {
    "name": "ipython",
    "version": 3
   },
   "file_extension": ".py",
   "mimetype": "text/x-python",
   "name": "python",
   "nbconvert_exporter": "python",
   "pygments_lexer": "ipython3",
   "version": "3.8.5"
  }
 },
 "nbformat": 4,
 "nbformat_minor": 4
}
