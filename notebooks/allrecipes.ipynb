{
 "cells": [
  {
   "cell_type": "code",
   "execution_count": 1,
   "metadata": {},
   "outputs": [],
   "source": [
    "import json, random, re, collections, itertools,base64,hashlib\n",
    "from pathlib import Path\n",
    "from tqdm.notebook import tqdm\n",
    "import pandas as pd\n",
    "from operator import itemgetter as at\n",
    "from IPython.core.display import display, HTML\n",
    "from ipywidgets import interact\n",
    "display_html = lambda x: display(HTML(x))\n",
    "data_path = Path(\"../data\")\n",
    "annot_path = Path(\"../annotations\")"
   ]
  },
  {
   "cell_type": "code",
   "execution_count": 2,
   "metadata": {},
   "outputs": [
    {
     "data": {
      "text/plain": [
       "'oIfAVH2w'"
      ]
     },
     "execution_count": 2,
     "metadata": {},
     "output_type": "execute_result"
    }
   ],
   "source": [
    "def simple_hash(s, length=8):\n",
    "    md5bytes = hashlib.md5(s.encode('ascii',errors=\"ignore\")).digest()\n",
    "    ret = base64.urlsafe_b64encode(md5bytes).decode('ascii')\n",
    "    return ret[:length]\n",
    "\n",
    "simple_hash(\"baked potato\")"
   ]
  },
  {
   "cell_type": "code",
   "execution_count": 3,
   "metadata": {},
   "outputs": [],
   "source": [
    "import spacy\n",
    "nlp = spacy.load(\"en_core_web_sm\")"
   ]
  },
  {
   "cell_type": "markdown",
   "metadata": {},
   "source": [
    "# Normalize ingredients"
   ]
  },
  {
   "cell_type": "code",
   "execution_count": 4,
   "metadata": {},
   "outputs": [],
   "source": [
    "fname = data_path / \"normalized_top_ingredients.csv\"\n",
    "normalized_top_ingredients = dict()\n",
    "if fname.exists():\n",
    "    normalized_top_ingredients = dict(pd.read_csv(str(fname)).dropna()[[\"ingredient\", \"normalized\"]].values)"
   ]
  },
  {
   "cell_type": "code",
   "execution_count": 5,
   "metadata": {},
   "outputs": [],
   "source": [
    "units=[\"teaspoon\", \"tablespoon\", \"ounce\", \"inch\", \"inche\", \"cup\", \"pound\", \"kg\", \"tbsp\", \"ml\", \"pint\",\n",
    "       \"quarts\", \"slices\", \"squares\", \"oz\", \"can\", \"package\", \"dash\", \"to taste\"]\n",
    "adjs = [\"large\", \"small\", \"medium\", \"fresh[\\s.,;]\", r\"[\\s.,;]+[a-z]{2,10}ed\", \"[a-z]{3,7}less\", r\"[\\s,.-][a-z]{2,10}[eh]ly\"]\n",
    "no_units_pattern = re.compile(r\"^[\\d\\s(/)]*(?:{units})?\\s?(?:{adjs}[,\\s]?){twice}[\\s(/)]*(.+)$\".format(\n",
    "    twice=\"{0,2}\",\n",
    "    units=\"|\".join([u+'s' for u in units]+units),\n",
    "    adjs=\"|\".join(adjs)),\n",
    "                             )\n",
    "\n",
    "def remove_units(s):\n",
    "    ret = s.lower()\n",
    "    ret = re.sub(r\"\\d[\\d/.\\s]+\", \"#\", ret)\n",
    "    ret = re.sub(r\"{units}\".format(units=\"|\".join([u+'s' for u in units]+units)), \" # \", ret)\n",
    "    ret = re.sub(r\"#[\\s#]{0,2}\", \"\", ret)\n",
    "    return ret.strip()\n",
    "\n",
    "def remove_adj(s):\n",
    "    ret = \" \"+s.lower()\n",
    "    ret = re.sub(r\"{adjs}\".format(adjs=\"|\".join(adjs)), \"\", ret)\n",
    "    return ret.strip(' ,-;.')\n",
    "\n",
    "def remove_parenthesis(s):\n",
    "    s=s.translate({ord(\"\\n\"):\" \", ord(\"½\"): \"1\", ord(\"¾\"): \"1\", ord(\"¼\"): \"1\"})\n",
    "    return re.sub(r\"\\([^()]+\\)\",\"\", s)\n",
    "\n",
    "def normalize_ingredient(s):\n",
    "    ret = remove_adj(remove_units(remove_parenthesis(s)))\n",
    "    #ret=ret.rsplit(\",\", 1)[0]\n",
    "    return normalized_top_ingredients.get(ret,ret)\n",
    "\n",
    "\n",
    "def normalize_ingredients(lst):\n",
    "    ret = [normalize_ingredient(s) for s in lst]\n",
    "    ret = [s for s in ret if s is not None]\n",
    "    return ret"
   ]
  },
  {
   "cell_type": "code",
   "execution_count": 6,
   "metadata": {},
   "outputs": [],
   "source": [
    "if 'data' in globals():\n",
    "    # regenerate top ingredients\n",
    "    c = collections.Counter([normalize_ingredient(ing) for d in data for ing in d[\"ingredients\"]])\n",
    "    with (data_path / \"top_ingredients.csv\").open('w') as f:\n",
    "        f.write(\"count,ingredient,normalized\\n\")\n",
    "        for ing, cnt in c.most_common():\n",
    "            f.write('{c},\"{i}\",\"\"\\n'.format(c=cnt,i=ing.replace('\"', '\"\"')))"
   ]
  },
  {
   "cell_type": "code",
   "execution_count": 17,
   "metadata": {},
   "outputs": [
    {
     "data": {
      "application/vnd.jupyter.widget-view+json": {
       "model_id": "e0e0c20e82c94d428d67dfca7cca1403",
       "version_major": 2,
       "version_minor": 0
      },
      "text/plain": [
       "HBox(children=(FloatProgress(value=0.0, max=71148.0), HTML(value='')))"
      ]
     },
     "metadata": {},
     "output_type": "display_data"
    },
    {
     "name": "stdout",
     "output_type": "stream",
     "text": [
      "\n"
     ]
    }
   ],
   "source": [
    "# raw_ingredients = sum((collections.Counter(map(lambda s: s.translate({i:'#' for i in range(48,58)}),d[\"ingredients\"])) for d in tqdm(data)),collections.Counter())\n",
    "# with (data_path / \"raw_top_ingredients.csv\").open('w') as f:\n",
    "#     f.write(\"count,ingredient\\n\")\n",
    "#     for ing, cnt in raw_ingredients.most_common():\n",
    "#         f.write('{c},\"{i}\"\\n'.format(c=cnt,i=ing.replace('\"', '\"\"')))"
   ]
  },
  {
   "cell_type": "markdown",
   "metadata": {},
   "source": [
    "# Data"
   ]
  },
  {
   "cell_type": "code",
   "execution_count": 7,
   "metadata": {},
   "outputs": [],
   "source": [
    "with (data_path / \"allrecipes-recipes.jsonl\").open('r') as f:\n",
    "    data = [json.loads(l) for l in f if '\\\\u00ae' not in l]"
   ]
  },
  {
   "cell_type": "code",
   "execution_count": 8,
   "metadata": {},
   "outputs": [
    {
     "data": {
      "application/vnd.jupyter.widget-view+json": {
       "model_id": "180db614c3f64e1abf99d710c3eadd77",
       "version_major": 2,
       "version_minor": 0
      },
      "text/plain": [
       "interactive(children=(IntSlider(value=3, description='lb', max=10, min=1), IntSlider(value=10, description='ub…"
      ]
     },
     "metadata": {},
     "output_type": "display_data"
    }
   ],
   "source": [
    "@interact(lb=(1,10),ub=(2,20), show_top_ingredients=False, show_sample=False)\n",
    "def filter_by_num_of_ingredients(lb=3, ub=10, show_top_ingredients=False, show_sample=False):\n",
    "    if show_top_ingredients:\n",
    "        c = collections.Counter([ing for d in data if lb<=len(d[\"ingredients\"])<=ub for ing in map(normalize_ingredient, d[\"ingredients\"])])\n",
    "        df = pd.DataFrame(c.most_common(), columns=[\"Ingredient\", \"#\"])\n",
    "        df[\"%\"] = df[\"#\"]/df[\"#\"].sum()\n",
    "        return df.head(20)\n",
    "    if show_sample:\n",
    "        return pd.DataFrame(random.sample([d[\"title\"] for d in data], 20), columns=[\"title\"])\n",
    "    return len([d[\"ingredients\"] for d in data if lb<=len(d[\"ingredients\"])<=ub])"
   ]
  },
  {
   "cell_type": "markdown",
   "metadata": {},
   "source": [
    "# Create sample"
   ]
  },
  {
   "cell_type": "code",
   "execution_count": 9,
   "metadata": {},
   "outputs": [],
   "source": [
    "def get_id(recipe):\n",
    "    return int(recipe[\"url\"].rstrip('/').split('/')[-1])"
   ]
  },
  {
   "cell_type": "code",
   "execution_count": 10,
   "metadata": {},
   "outputs": [
    {
     "data": {
      "text/plain": [
       "992"
      ]
     },
     "execution_count": 10,
     "metadata": {},
     "output_type": "execute_result"
    }
   ],
   "source": [
    "lookup_ingredients = {\"beef\", \"pork\", \"chicken\", \"tuna\", \"salmon\", \"lamb\", \"egg\", \"butter\", \"garlic\", \"onion\", \"avocado\", \"tomato\", \"soy\", \"honey\", \"chili\", \"feta\", \"corn\", \"mayonnaise\", \"sauce\", \"noodles\", \"carrot\", \"bread\"}\n",
    "sampled_data = [d for d in data if (not d[\"error\"]) and \"®\" not in \"\".join(d[\"ingredients\"])]\n",
    "sampled_data = [d for d in sampled_data if 3<len(d[\"ingredients\"])<10]\n",
    "sampled_data = [d for d in sampled_data if len(lookup_ingredients&set(\" \".join(d[\"ingredients\"]).lower().split()))>3]\n",
    "sampled_data = [random.choice(list(recipes)) for author, recipes in itertools.groupby(sorted(sampled_data, key=at(\"author\")), at(\"author\"))]\n",
    "len(sampled_data)"
   ]
  },
  {
   "cell_type": "code",
   "execution_count": 11,
   "metadata": {},
   "outputs": [
    {
     "data": {
      "text/plain": [
       "[(2, 5), (1, 4), (3, 2)]"
      ]
     },
     "execution_count": 11,
     "metadata": {},
     "output_type": "execute_result"
    }
   ],
   "source": [
    "collections.Counter([1,1,1,1,2,3,2,3,2,2,2]).most_common()"
   ]
  },
  {
   "cell_type": "code",
   "execution_count": 12,
   "metadata": {},
   "outputs": [
    {
     "data": {
      "application/vnd.jupyter.widget-view+json": {
       "model_id": "480afd7524de4f9aaf636327c6bca574",
       "version_major": 2,
       "version_minor": 0
      },
      "text/plain": [
       "HBox(children=(FloatProgress(value=0.0, max=992.0), HTML(value='')))"
      ]
     },
     "metadata": {},
     "output_type": "display_data"
    },
    {
     "name": "stdout",
     "output_type": "stream",
     "text": [
      "\n",
      "We have 524 recipes, with 1016 ingredients\n"
     ]
    }
   ],
   "source": [
    "min_num_of_steps = 3\n",
    "normalized_data = []\n",
    "ingredients_map = collections.Counter()\n",
    "for datum in tqdm(sampled_data):\n",
    "    if len(datum[\"instructions\"])<min_num_of_steps:\n",
    "        continue\n",
    "    d = dict()\n",
    "    for k in [\"ingredients\", \"instructions\", \"title\", \"photo_url\", \"url\"]:\n",
    "        d[k] = datum[k]\n",
    "    d[\"normalized_ingredients\"] = normalize_ingredients(datum[\"ingredients\"])\n",
    "    assert len(d[\"normalized_ingredients\"]) == len(d[\"ingredients\"])\n",
    "    ingredients_map += collections.Counter(d[\"normalized_ingredients\"])\n",
    "    d[\"status\"]=0\n",
    "    normalized_data.append(d)\n",
    "    \n",
    "ingredients_map={ing: \"I\"+simple_hash(ing) for ing, c in ingredients_map.most_common()}\n",
    "for datum in normalized_data:\n",
    "    datum[\"normalized_ingredients\"]=dict(zip(map(ingredients_map.get,datum[\"normalized_ingredients\"]),\n",
    "                                        datum[\"normalized_ingredients\"]))\n",
    "    datum[\"sentences\"]=[str(sent) for step in datum[\"instructions\"] for sent in nlp(step).sents]\n",
    "    datum[\"labels\"]=[[] for _ in range(len(datum[\"instructions\"]))]\n",
    "    datum[\"sentence_labels\"]=[[] for _ in range(len(datum[\"sentences\"]))]\n",
    "    \n",
    "with (data_path / \"ingredients_map.json\").open('w') as f:\n",
    "    json.dump(ingredients_map, f)\n",
    "print (\"We have {n} recipes, with {m} ingredients\".format(n=len(normalized_data), m=len(ingredients_map)))"
   ]
  },
  {
   "cell_type": "code",
   "execution_count": 13,
   "metadata": {},
   "outputs": [
    {
     "data": {
      "text/plain": [
       "Counter({3: 271, 5: 57, 4: 174, 6: 19, 9: 1, 7: 2})"
      ]
     },
     "execution_count": 13,
     "metadata": {},
     "output_type": "execute_result"
    }
   ],
   "source": [
    "collections.Counter(map(lambda x: len(x[\"instructions\"]), normalized_data))"
   ]
  },
  {
   "cell_type": "markdown",
   "metadata": {},
   "source": [
    "### Check ingredients that map to single normalized ingredients"
   ]
  },
  {
   "cell_type": "code",
   "execution_count": 14,
   "metadata": {},
   "outputs": [
    {
     "data": {
      "text/html": [
       "<b>Easy Garlic Broiled Chicken</b><br><table><br><tr><td>1/2 cup butter</td><td>butter</td></tr><br><tr><td>3 tablespoons minced garlic</td><td>garlic</td></tr><br><tr><td>3 tablespoons soy sauce</td><td>soy sauce</td></tr><br><tr><td>1/4 teaspoon black pepper</td><td>pepper</td></tr><br><tr><td>1 tablespoon dried parsley</td><td>parsley</td></tr><br><tr><td>6 boneless chicken thighs, with skin</td><td>chicken thighs, with skin</td></tr><br><tr><td>dried parsley, to taste</td><td><font color=\"red\">parsley</font></td></tr><br></table><br><b>Green Bell Peppers stuffed with Tomato Lentil Couscous</b><br><table><br><tr><td>5 green bell peppers</td><td>green bell peppers</td></tr><br><tr><td>2 pounds ground beef</td><td>ground beef</td></tr><br><tr><td>1 1/2 cups chopped onion</td><td>onion</td></tr><br><tr><td>1 green bell pepper, chopped</td><td>bell pepper</td></tr><br><tr><td>6 cloves garlic, minced</td><td>garlic</td></tr><br><tr><td>1 (16 ounce) jar chunky pasta sauce</td><td>jar chunky pasta sauce</td></tr><br><tr><td>1/2 cup chopped onion</td><td><font color=\"red\">onion</font></td></tr><br><tr><td>1 (6 ounce) package tomato lentil couscous mix</td><td>tomato lentil couscous mix</td></tr><br><tr><td>8 ounces shredded sharp Cheddar cheese</td><td>sharpdar cheese</td></tr><br></table><br><b>Best Ever Brisket</b><br><table><br><tr><td>2 tablespoons chili powder</td><td>chili powder</td></tr><br><tr><td>1 tablespoon salt</td><td>salt</td></tr><br><tr><td>1 tablespoon garlic powder</td><td>garlic powder</td></tr><br><tr><td>1 tablespoon onion powder</td><td>onion powder</td></tr><br><tr><td>1 tablespoon ground black pepper</td><td>pepper</td></tr><br><tr><td>1 tablespoon white sugar</td><td>sugar</td></tr><br><tr><td>1 tablespoon seasoned salt</td><td><font color=\"red\">salt</font></td></tr><br><tr><td>1 (4 pound) beef brisket</td><td>beef brisket</td></tr><br><tr><td>1 1/2 cups beef broth</td><td>broth</td></tr><br></table><br><b>Crixxie's Ranch Chicken Nuggets</b><br><table><br><tr><td>1 cup Italian-seasoned bread crumbs</td><td>italian-seasoned bread crumbs</td></tr><br><tr><td>1/2 cup grated Parmesan cheese</td><td>parmesan cheese</td></tr><br><tr><td>1/2 teaspoon salt</td><td>salt</td></tr><br><tr><td>1/4 teaspoon ground black pepper</td><td>pepper</td></tr><br><tr><td>1/8 teaspoon garlic powder</td><td>garlic powder</td></tr><br><tr><td>1 egg</td><td>egg</td></tr><br><tr><td>1/4 cup prepared ranch dressing</td><td>ranch dressing</td></tr><br><tr><td>1 pound skinless, boneless chicken breasts, cut into 1-inch cubes</td><td>chicken breasts, cut into 1- cubes</td></tr><br><tr><td>1/4 cup ranch dressing</td><td><font color=\"red\">ranch dressing</font></td></tr><br></table><br><b>Grandma's Heavenly Onions</b><br><table><br><tr><td>1 tablespoon butter</td><td>butter</td></tr><br><tr><td>4 large sweet onions, sliced</td><td>sweet onions</td></tr><br><tr><td>1/2 pound Swiss cheese, shredded</td><td>swiss cheese</td></tr><br><tr><td>10 slices Italian bread</td><td>italian bread</td></tr><br><tr><td>1/4 cup butter, softened</td><td><font color=\"red\">butter</font></td></tr><br><tr><td>1/2 cup milk</td><td>milk</td></tr><br><tr><td>1 (10.75 ounce) can condensed cream of mushroom soup</td><td>cream of mushroom soup</td></tr><br><tr><td>3 teaspoons soy sauce</td><td>soy sauce</td></tr><br><tr><td>salt and pepper to taste</td><td>salt</td></tr><br></table><br><b>Italian Portuguese Meat Loaf Fusion</b><br><table><br><tr><td>1 pound ground beef</td><td>ground beef</td></tr><br><tr><td>2 links chorizo sausage, casings removed</td><td>links chorizo sausage, casings</td></tr><br><tr><td>1 cup plain bread crumbs</td><td>plain bread crumbs</td></tr><br><tr><td>1/2 cup prepared pasta sauce</td><td>pasta sauce</td></tr><br><tr><td>1 egg, beaten</td><td>egg, beaten</td></tr><br><tr><td>2 teaspoons jarred minced garlic</td><td>garlic</td></tr><br><tr><td>1 teaspoon Italian seasoning</td><td>italian seasoning</td></tr><br><tr><td>salt and ground black pepper to taste</td><td>salt and ground black pepper</td></tr><br><tr><td>1 tablespoon prepared pasta sauce</td><td><font color=\"red\">pasta sauce</font></td></tr><br></table><br><b>Sesame Chicken Strips with Sweet Sauce</b><br><table><br><tr><td>1 cup mayonnaise</td><td>mayonnaise</td></tr><br><tr><td>2 teaspoons dried minced onion</td><td>onion</td></tr><br><tr><td>2 teaspoons dry mustard</td><td>mustard</td></tr><br><tr><td>1 cup crushed buttery round cracker crumbs</td><td>buttery round cracker crumbs</td></tr><br><tr><td>1/2 cup sesame seeds</td><td>sesames</td></tr><br><tr><td>2 pounds skinless, boneless chicken breast halves</td><td>chicken breast halves</td></tr><br><tr><td>SAUCE:</td><td>sauce:</td></tr><br><tr><td>1 cup mayonnaise</td><td><font color=\"red\">mayonnaise</font></td></tr><br><tr><td>2 tablespoons honey</td><td>honey</td></tr><br></table><br><b>Sassy Steak Marinade and Sauce</b><br><table><br><tr><td>1 pound beef sirloin steaks</td><td>beef sirloin steaks</td></tr><br><tr><td>1 tablespoon olive oil</td><td>olive oil</td></tr><br><tr><td>2/3 cup cocktail sauce</td><td>cocktail sauce</td></tr><br><tr><td>1/4 cup honey</td><td>honey</td></tr><br><tr><td>3 tablespoons soy sauce</td><td>soy sauce</td></tr><br><tr><td>3 cloves garlic, crushed</td><td>garlic</td></tr><br><tr><td>1/4 teaspoon seasoning salt, or to taste</td><td>seasoning salt, or</td></tr><br><tr><td>1 tablespoon olive oil</td><td><font color=\"red\">olive oil</font></td></tr><br><tr><td>8 ounces sliced fresh mushrooms</td><td>mushroom</td></tr><br></table><br><b>Wasabi Yellowfin Tuna</b><br><table><br><tr><td>2 tablespoons reduced-fat mayonnaise</td><td>fat mayonnaise</td></tr><br><tr><td>1 1/2 teaspoons wasabi paste</td><td>wasabi paste</td></tr><br><tr><td>1 teaspoon Chinese five-spice powder</td><td>chinese five-spice powder</td></tr><br><tr><td>1 tablespoon low-sodium soy sauce</td><td>low-sodium soy sauce</td></tr><br><tr><td>4 (6 ounce) yellowfin tuna fillets</td><td>yellowfin tuna fillets</td></tr><br><tr><td>1 tablespoon rice vinegar</td><td>vinegar</td></tr><br><tr><td>1 tablespoon low-sodium soy sauce</td><td><font color=\"red\">low-sodium soy sauce</font></td></tr><br><tr><td>2 tablespoons toasted sesame seeds</td><td>sesames</td></tr><br></table><br><b>Swedish Meatballs I</b><br><table><br><tr><td>1 egg</td><td>egg</td></tr><br><tr><td>1/4 cup milk</td><td>milk</td></tr><br><tr><td>1 pound ground beef</td><td>ground beef</td></tr><br><tr><td>1/4 cup dry cream of wheat cereal</td><td>dry cream of wheat cereal</td></tr><br><tr><td>1/4 cup minced onion</td><td>onion</td></tr><br><tr><td>1 (10.75 ounce) can condensed cream of chicken soup</td><td>cream of chicken soup</td></tr><br><tr><td>1 (10.75 ounce) can condensed cream of mushroom soup</td><td>cream of mushroom soup</td></tr><br><tr><td>1 (12 fluid ounce) can evaporated milk</td><td><font color=\"red\">milk</font></td></tr><br><tr><td>1 tablespoon chopped fresh parsley</td><td>parsley</td></tr><br></table><br><b>Noodles Romanoff II</b><br><table><br><tr><td>1 (8 ounce) package wide egg noodles</td><td>wide egg noodles</td></tr><br><tr><td>2 cups sour cream</td><td>sour cream</td></tr><br><tr><td>1/4 cup grated Parmesan cheese</td><td>parmesan cheese</td></tr><br><tr><td>1 tablespoon chopped fresh chives</td><td>chives</td></tr><br><tr><td>1 teaspoon salt</td><td>salt</td></tr><br><tr><td>1/8 teaspoon ground black pepper</td><td>pepper</td></tr><br><tr><td>1 clove crushed garlic</td><td>garlic</td></tr><br><tr><td>2 tablespoons butter</td><td>butter</td></tr><br><tr><td>1/4 cup grated Parmesan cheese</td><td><font color=\"red\">parmesan cheese</font></td></tr><br></table><br><b>Brown Sugar Glazed Pork Chops</b><br><table><br><tr><td>1/2 cup chopped celery</td><td>celery</td></tr><br><tr><td>1/2 cup chopped onion</td><td>onion</td></tr><br><tr><td>1/2 tablespoon butter</td><td>butter</td></tr><br><tr><td>15 slices day-old bread, torn into small pieces</td><td>day-old bread, torn into  pieces</td></tr><br><tr><td>1/2 tablespoon Greek-style seasoning</td><td>greek-style seasoning</td></tr><br><tr><td>1 (14 ounce) can chicken broth</td><td>chicken broth</td></tr><br><tr><td>6 pork chops</td><td>pork chops</td></tr><br><tr><td>1 cup packed brown sugar</td><td>sugar</td></tr><br><tr><td>1/2 cup butter, melted</td><td><font color=\"red\">butter</font></td></tr><br></table><br><b>Basic Chicken Stock</b><br><table><br><tr><td>1 pound chicken parts</td><td>chicken parts</td></tr><br><tr><td>1 large onion</td><td>onion</td></tr><br><tr><td>3 stalks celery, including some leaves</td><td>stalks celery, including some leaves</td></tr><br><tr><td>1 large carrot</td><td>carrot</td></tr><br><tr><td>1 1/2 teaspoons salt</td><td>salt</td></tr><br><tr><td>3 whole cloves</td><td>whole cloves</td></tr><br><tr><td>6 cups water</td><td>water</td></tr><br><tr><td>1/4 cup cold water (optional)</td><td><font color=\"red\">water</font></td></tr><br><tr><td>1 egg</td><td>egg</td></tr><br></table><br><b>Cajun Style Burgers</b><br><table><br><tr><td>1 pound ground beef</td><td>ground beef</td></tr><br><tr><td>3 tablespoons dry bread crumbs</td><td>bread crumbs</td></tr><br><tr><td>1 egg</td><td>egg</td></tr><br><tr><td>3 green onions, chopped</td><td>green onion</td></tr><br><tr><td>1 tablespoon Cajun seasoning</td><td>cajun seasoning</td></tr><br><tr><td>1 tablespoon prepared mustard</td><td>mustard</td></tr><br><tr><td>1/4 cup barbeque sauce</td><td>barbeque sauce</td></tr><br><tr><td>1 teaspoon Cajun seasoning</td><td><font color=\"red\">cajun seasoning</font></td></tr><br><tr><td>4 slices Cheddar cheese</td><td>dar cheese</td></tr><br></table><br><b>Krista's Sticky Honey Garlic Wings</b><br><table><br><tr><td>24 chicken wings, split and tips discarded</td><td>chicken wings, split and tips</td></tr><br><tr><td>3/4 cup packed brown sugar</td><td>sugar</td></tr><br><tr><td>5 cloves garlic, minced</td><td>garlic</td></tr><br><tr><td>1 teaspoon minced fresh ginger root</td><td>ginger root</td></tr><br><tr><td>2 1/2 cups water</td><td>water</td></tr><br><tr><td>5 tablespoons honey</td><td>honey</td></tr><br><tr><td>1/4 cup reduced-sodium soy sauce</td><td>sodium soy sauce</td></tr><br><tr><td>3 tablespoons cornstarch</td><td>cornstarch</td></tr><br><tr><td>3/4 cup water</td><td><font color=\"red\">water</font></td></tr><br></table><br><b>Slow Cooker Sweet and Sour Chicken</b><br><table><br><tr><td>1 onion, chopped</td><td>onion</td></tr><br><tr><td>1 red bell pepper, chopped</td><td>bell pepper</td></tr><br><tr><td>1 green bell pepper, chopped</td><td><font color=\"red\">bell pepper</font></td></tr><br><tr><td>1 pound skinless, boneless chicken tenders</td><td>chicken tenders</td></tr><br><tr><td>1 (18 ounce) bottle barbeque sauce</td><td>bottle barbeque sauce</td></tr><br><tr><td>1 cup chili sauce</td><td>chili sauce</td></tr><br><tr><td>2 tablespoons minced garlic</td><td>garlic</td></tr><br><tr><td>1 (8 ounce) can pineapple chunks, drained</td><td>pineapple chunks</td></tr><br></table><br><b>Aunt Jinny's Tangy Beef Brisket</b><br><table><br><tr><td>2 pounds beef brisket</td><td>beef brisket</td></tr><br><tr><td>15 gingersnap cookies, crushed</td><td>gingersnap cookies</td></tr><br><tr><td>2 (1 ounce) packages dry onion soup mix</td><td>dry onion soup mix</td></tr><br><tr><td>2 cups water</td><td>water</td></tr><br><tr><td>1 (12 fluid ounce) can or bottle chili sauce</td><td>or bottle chili sauce</td></tr><br><tr><td>1 pound baby carrots</td><td>baby carrots</td></tr><br><tr><td>15 small red potatoes, cubed</td><td>red potatoes</td></tr><br><tr><td>1 onion, chopped</td><td>onion</td></tr><br><tr><td>2 cups water</td><td><font color=\"red\">water</font></td></tr><br></table><br><b>Grilled Lime Cilantro Chicken with Sweet Chili Sauce</b><br><table><br><tr><td>2 (8 ounce) skinless, boneless chicken breasts</td><td>chicken breasts</td></tr><br><tr><td>1/4 cup minced fresh cilantro</td><td>cilantro</td></tr><br><tr><td>2 tablespoons lime juice</td><td>lime juice</td></tr><br><tr><td>1 tablespoon low-sodium soy sauce</td><td>low-sodium soy sauce</td></tr><br><tr><td>1 tablespoon olive oil</td><td>olive oil</td></tr><br><tr><td>2 cloves garlic, minced</td><td>garlic</td></tr><br><tr><td>1/4 cup sweet chili sauce</td><td>sweet chili sauce</td></tr><br><tr><td>1 teaspoon minced fresh cilantro</td><td><font color=\"red\">cilantro</font></td></tr><br></table><br><b>Stacey's Chicken and Stuffing Casserole</b><br><table><br><tr><td>1 pound skinless, boneless chicken breast halves</td><td>chicken breast halves</td></tr><br><tr><td>1 tablespoon butter</td><td>butter</td></tr><br><tr><td>1 small onion, chopped</td><td>onion</td></tr><br><tr><td>1 (10.75 ounce) can cream of celery soup</td><td>cream of celery soup</td></tr><br><tr><td>1 (5 ounce) can evaporated milk</td><td>milk</td></tr><br><tr><td>1 cup chicken broth</td><td>chicken broth</td></tr><br><tr><td>1/4 cup melted butter</td><td><font color=\"red\">butter</font></td></tr><br><tr><td>8 ounces corn bread stuffing mix</td><td>corn bread stuffing mix</td></tr><br></table>"
      ],
      "text/plain": [
       "<IPython.core.display.HTML object>"
      ]
     },
     "metadata": {},
     "output_type": "display_data"
    }
   ],
   "source": [
    "output = []\n",
    "normalizing_errors=[]\n",
    "for idx, datum in enumerate(normalized_data):\n",
    "    if len(datum[\"normalized_ingredients\"])==len(datum[\"ingredients\"]):\n",
    "        continue\n",
    "    normalizing_errors.append(idx)\n",
    "    output.append(\"<b>{t}</b>\".format(t=datum[\"title\"]))\n",
    "    output.append(\"<table>\")\n",
    "    already_mapped_ings=set()\n",
    "    for i in datum[\"ingredients\"]:\n",
    "        n=normalize_ingredient(i)\n",
    "        if n in already_mapped_ings:\n",
    "            n=\"<font color=\\\"red\\\">{n}</font>\".format(n=n)\n",
    "        output.append(\"<tr><td>{i}</td><td>{n}</td></tr>\".format(i=i,n=n))\n",
    "        already_mapped_ings.add(n)\n",
    "    output.append(\"</table>\")\n",
    "display_html(\"<br>\".join(output))"
   ]
  },
  {
   "cell_type": "code",
   "execution_count": 15,
   "metadata": {},
   "outputs": [],
   "source": [
    "for idx in reversed(normalizing_errors):\n",
    "    del normalized_data[idx]\n",
    "normalizing_errors=[]"
   ]
  },
  {
   "cell_type": "code",
   "execution_count": 16,
   "metadata": {},
   "outputs": [
    {
     "data": {
      "text/plain": [
       "['Alice Chicken',\n",
       " 'All Protein Meatloaf',\n",
       " \"Amber's Super Stuffing\",\n",
       " \"Amber's Super Stuffing\",\n",
       " 'Amish Casserole',\n",
       " 'Amish Yumazuti',\n",
       " \"Ann's Sister's Meatloaf Recipe\",\n",
       " 'Apple and Orange Chicken',\n",
       " 'Asian Barbecue Burgers',\n",
       " 'Asian Crock Pot',\n",
       " 'Asian Marinated Pork Chops',\n",
       " 'Asian Sugar Snap Pea Appetizer',\n",
       " 'Asian-Inspired Vegetable Noodle Bowl ',\n",
       " 'Asparagus Beef Lo Mein',\n",
       " \"Aunt Ro's Baked Beans\",\n",
       " 'Australian Deep Fried Chicken Wings',\n",
       " 'BBQ Beef Brisket Sandwiches',\n",
       " 'BBQ Fried Chicken',\n",
       " 'Backyard Cooper Burgers',\n",
       " 'Bacon Pork Tenderloin',\n",
       " 'Baked Aloha Chicken',\n",
       " 'Baked Asian-Style Honey Chicken',\n",
       " 'Baked Coconut Cayenne Chicken Nuggets',\n",
       " 'Baked Mushroom Thighs',\n",
       " 'Baked Penne with Italian Sausage',\n",
       " 'Baked Turkey Meatballs',\n",
       " 'Baked Zesty Carrots',\n",
       " 'Bar Stool Pretzels',\n",
       " 'Barbecued Meatballs',\n",
       " 'Barbeque Beef Casserole',\n",
       " 'Barbeque Pork Fajitas',\n",
       " 'Barbequed Marinated Flank Steak',\n",
       " 'Basic Salisbury Steaks',\n",
       " 'Bat Wings',\n",
       " \"Becca's Barbequed Beans\",\n",
       " \"Becki's Oven Barbecue Chicken\",\n",
       " 'Beef Bulgogi',\n",
       " 'Beef Burgundy Casserole',\n",
       " 'Beef Tips and Noodles',\n",
       " 'Beef and Noodle Casserole',\n",
       " 'Beefaroni',\n",
       " 'Beefy Cheesy Pasta',\n",
       " 'Beer Cheese Soup II',\n",
       " 'Best Bacon Wrapped Water Chestnuts',\n",
       " 'Best Baked Chicken',\n",
       " 'Best Ever Meatloaf I',\n",
       " 'Best Grilled Pork Chops',\n",
       " 'Best Life Blackened Ahi Tuna',\n",
       " 'Best-Ever Cornbread-Sausage Stuffing',\n",
       " \"Bev's Orange Chicken\",\n",
       " \"Big Ray's Tropical Island Chicken\",\n",
       " 'Black Bean Lasagna I',\n",
       " 'Black Lung Braised Brisket',\n",
       " 'Blue Cheese, Spinach Meat Loaf Muffins',\n",
       " \"Bob's Awesome Lasagna\",\n",
       " 'Bombay Chicken Wings',\n",
       " 'Bourbon Chicken',\n",
       " \"Brandi's Best Burgers\",\n",
       " 'Breaded Hamburgers',\n",
       " \"Bren's Italian Meatballs\",\n",
       " 'Buffalo Blue Cheese Chicken Burgers',\n",
       " 'Buffalo Chicken Fingers',\n",
       " 'Buffalo Chicken Wings III',\n",
       " 'Buffalo Ranch Pasta',\n",
       " 'Buffalo Wontons',\n",
       " 'Cabbage Roll Casserole',\n",
       " 'Cabbage and Noodles',\n",
       " 'Cabbage, Potato and Baked Bean Soup',\n",
       " 'Candied Curried Pecans',\n",
       " 'Caramelized Baked Chicken',\n",
       " 'Caramelized Frog Legs',\n",
       " 'Cardamom Chicken with Salt and Pepper Crust',\n",
       " \"Carol's Chow Mein Noodle Casserole\",\n",
       " 'Cedar Planked Salmon',\n",
       " 'Char Siu (Chinese BBQ Pork)',\n",
       " 'Char Siu Pork',\n",
       " \"Cheater's Thanksgiving Turkey\",\n",
       " 'Cheddar Chicken Soup',\n",
       " 'Cheese Corn Casserole',\n",
       " 'Cheesy Cornbread Casserole',\n",
       " 'Cheesy Goulash',\n",
       " 'Cheesy Meatloaf',\n",
       " 'Chex BBQ Snack Mix',\n",
       " 'Chicken Livers Stroganoff',\n",
       " 'Chicken Lollipops',\n",
       " 'Chicken Nepiev',\n",
       " 'Chicken Noodle Casserole I',\n",
       " 'Chicken Noodle Casserole II',\n",
       " 'Chicken Noodle Soup III',\n",
       " 'Chicken Patties',\n",
       " 'Chicken Piccata II',\n",
       " 'Chicken Satay',\n",
       " 'Chicken Stroganoff II',\n",
       " 'Chicken Thighs with Crispy Prosciutto and Foie Gras Pate',\n",
       " 'Chicken Wings Pacifica',\n",
       " 'Chicken Wontons',\n",
       " 'Chicken and Corn Chili',\n",
       " 'Chilaquiles II',\n",
       " 'Chili Casserole',\n",
       " 'Chili Chicken',\n",
       " 'Chili Chicken I',\n",
       " 'Chili Liver',\n",
       " 'Chili-Crusted Tri-Tip Roast',\n",
       " 'China Moon Salmon',\n",
       " 'Chinese Chicken Wings',\n",
       " 'Chinese Chicken Wings',\n",
       " 'Chinese Noodle Chicken',\n",
       " 'Chinese Pork Chops',\n",
       " 'Chinese Steamed Buns with BBQ Pork Filling',\n",
       " 'Chipotle Honey Roasted Peanuts',\n",
       " 'Chow Mein Noodle Casserole',\n",
       " \"Chris' Best Burgers\",\n",
       " 'Cilantro Burgers',\n",
       " 'Classic Bangers and Mash',\n",
       " 'Cocktail Meatballs',\n",
       " 'Cocktail Meatballs III',\n",
       " 'Corn Balls',\n",
       " 'Corn Bread Stuffed Turkey',\n",
       " 'Corned Beef Noodle Casserole',\n",
       " 'Cowboy Macaroni',\n",
       " 'Cowboy Skillet Casserole',\n",
       " 'Cream of Broccoli Cheese Soup I',\n",
       " 'Creamy Beef Tips with Egg Noodles',\n",
       " 'Creamy Garlic Mushroom Chicken',\n",
       " 'Creamy Mushroom Soup',\n",
       " 'Creamy Potato and Corn Soup',\n",
       " 'Crispix*  Krispies* Original Mix',\n",
       " 'Crunchy Walnut Coated Chicken Strips',\n",
       " 'Crusted Salmon with Honey-Mustard Sauce',\n",
       " \"Daddy's Sloppy Soup\",\n",
       " 'Deep Fried Tripe',\n",
       " 'Deer Jerky',\n",
       " 'Dog Biscuits II',\n",
       " 'Double Cheese Casserole',\n",
       " 'Double-Cheese Chicken Bake',\n",
       " 'Dynamite Bourbon Ribs',\n",
       " 'Easy Bake Brisket',\n",
       " 'Easy Chicken Fajita Marinade',\n",
       " 'Easy Deviled Chicken',\n",
       " 'Easy Garlic Chicken',\n",
       " 'Easy Grilled Spicy Shrimp',\n",
       " 'Easy Maple Pork Chops',\n",
       " 'Easy Marinated Pork Tenderloin',\n",
       " 'Easy Mexican Casserole',\n",
       " 'Easy Oven-Fried Pork Chops',\n",
       " 'Easy Raspberry Chicken',\n",
       " 'Easy Stroganoff',\n",
       " 'Easy Taco Casserole',\n",
       " 'Easy Tater Tot Hot Dish',\n",
       " 'Easy Teriyaki Chops',\n",
       " 'Easy and Hearty Slow Cooker Beef Stew',\n",
       " 'Egg Noodle Lasagna',\n",
       " 'Eggs Served in Greece',\n",
       " 'Elk Steak Marinade',\n",
       " \"Emily's Pizza Burgers\",\n",
       " 'Enchiladas',\n",
       " 'English Tea Cucumber Sandwiches',\n",
       " 'Fairy Godmother Rice',\n",
       " 'Fiery Beef Satay Skewers',\n",
       " \"Firemen's Meat Loaf\",\n",
       " 'Five Spice Chicken',\n",
       " 'Flank Steak Barbecue',\n",
       " 'Flank Steak a la Willyboy',\n",
       " 'Forfar Bridies',\n",
       " 'French Dip Sandwiches',\n",
       " 'Fried meatballs in tomato sauce',\n",
       " \"G's Flank Steak Marinade\",\n",
       " 'Garden Meatloaf',\n",
       " 'Garlic Ginger Chops',\n",
       " 'Garlic Lime Roasted Chicken Drumsticks',\n",
       " 'German Currywurst',\n",
       " 'Gingery Fish Kabobs',\n",
       " 'Glazed Grilled Pork Chops',\n",
       " 'Glazed Tofu Meatloaf',\n",
       " 'Gluten-Free Chicken Pizza',\n",
       " 'Good Burger',\n",
       " 'Good Chicken',\n",
       " 'Goulash I',\n",
       " \"Grandma Winnie's Turkey Stuffing\",\n",
       " \"Grandma's Corn Bread Dressing\",\n",
       " \"Grandma's Swedish Meatballs\",\n",
       " 'Grapefruit Salmon',\n",
       " 'Greek Chicken Burgers with Feta',\n",
       " 'Green Bean Bundles',\n",
       " 'Green Sauce Enchiladas',\n",
       " \"Grilled 'Fusion' Pork Chops\",\n",
       " 'Grilled Asian Chicken',\n",
       " 'Grilled Asian Ginger Pork Chops',\n",
       " 'Grilled Asian Honey Garlic Pork Tenderloin',\n",
       " 'Grilled Chicken Adobo',\n",
       " 'Grilled Chicken Marinade',\n",
       " 'Grilled Chicken with Peach Sauce',\n",
       " 'Grilled Ginger-Soy Chicken',\n",
       " 'Grilled Hawaiian Chicken',\n",
       " 'Grilled Italian Burgers',\n",
       " 'Grilled Mushroom Swiss Burgers',\n",
       " 'Grilled Peanut Chicken',\n",
       " 'Grilled Salmon I',\n",
       " 'Grilled Tofu Sandwich',\n",
       " 'Grilled Turkey Reubens',\n",
       " 'Ground Beef Jerky',\n",
       " 'Ground Pork Cake with Salty Egg (Haam Daan Ju Yoke Beng)',\n",
       " 'Ground Turkey Casserole',\n",
       " 'Gyros',\n",
       " 'Halloween Black Bat Wings',\n",
       " 'Halushki',\n",
       " 'Ham Loaf II',\n",
       " 'Ham and Cheese Pasta Bake',\n",
       " 'Ham and Noodle Casserole',\n",
       " 'Hamburger Noodle Casserole',\n",
       " 'Hamburger Vegetable Soup',\n",
       " 'Hamburger and Macaroni Hot Dish',\n",
       " 'Hamburgers Chili Dog Style',\n",
       " 'Hamburgers by Eddie',\n",
       " 'Happy Hour Mushrooms',\n",
       " 'Hash Brown Casserole III',\n",
       " 'Haviland Glop',\n",
       " 'Hawaiian Chicken Kabobs',\n",
       " 'Hawaiian-Style Meatballs',\n",
       " 'Healthier BBQ Pork for Sandwiches',\n",
       " 'Hearty Egg Rolls',\n",
       " 'Hearty Meatball Sandwich',\n",
       " \"Heather's Grilled Salmon\",\n",
       " 'Hillbilly Casserole',\n",
       " 'Hoisin-Glazed Salmon',\n",
       " 'Holiday Roast Turkey with Herb Stuffing',\n",
       " \"Holly's Texas Brisket\",\n",
       " 'Home-Style Buffalo Wings',\n",
       " 'Home-Style Chicken Piccata',\n",
       " 'Homemade Black Bean Veggie Burgers',\n",
       " 'Honey Garlic Chicken Wings',\n",
       " 'Honey Garlic Chicken Wraps',\n",
       " 'Honey Garlic Chicken with Rosemary',\n",
       " 'Honey Garlic Glazed Salmon',\n",
       " 'Honey Garlic Ribs',\n",
       " 'Honey Glazed Brussels Sprouts',\n",
       " 'Honey Glazed Pork Tenderloin',\n",
       " 'Honey Mustard BBQ Pork Chops',\n",
       " 'Honey Mustard Grilled Chicken',\n",
       " 'Honey Mustard Pork Chops',\n",
       " 'Honey Sesame Wings',\n",
       " 'Honey Soy Tilapia',\n",
       " 'Honey-Garlic Moose Meatballs',\n",
       " 'Honey-Garlic Slow Cooker Chicken Thighs',\n",
       " 'Honey-Ginger Grilled Salmon',\n",
       " 'Honey-Grilled Pork Chops',\n",
       " 'Honey-Lime Chicken Enchiladas',\n",
       " 'Honey-Mustard Baked Chicken',\n",
       " 'Honey-Soy Pork Chops from the Bradshaw Family',\n",
       " 'Honeyed Pork Chops',\n",
       " 'Hot and Tasty Bites',\n",
       " 'Irish Egg Rolls',\n",
       " 'Italian Grilled Cheese Sandwiches',\n",
       " 'Italian Meatballs',\n",
       " 'Italian Paleo Chicken Meat Loaf',\n",
       " \"Jackie's Special Meatloaf\",\n",
       " 'Jaeger Schnitzel',\n",
       " 'Jalapeno-Blue Cheese Burgers',\n",
       " \"Janet's Appetizer\",\n",
       " 'Japanese Deviled Eggs',\n",
       " \"Jill's Sweet and Tangy Meatloaf\",\n",
       " 'Johnny Appleseed Meatballs',\n",
       " 'Johnny Marzetti III',\n",
       " 'Juicy Chicken',\n",
       " 'KRAFT RECIPE MAKERS Asian Style Chili Steak and String Beans',\n",
       " \"Kari's Delicious Drummettes\",\n",
       " 'Kentucky Garlic Cheese Grits',\n",
       " \"Kevin's Teriyaki Chicken\",\n",
       " 'Key West Chicken',\n",
       " 'Killer Fried Pork Chops',\n",
       " \"Kim's Prime Rib\",\n",
       " \"Kimberly's Meaty Meatloaf\",\n",
       " 'Korean Marinated Flank Steak',\n",
       " 'Krautburger',\n",
       " \"Kristy's Lasagna\",\n",
       " 'Lancashire Hot Pot',\n",
       " \"Lazygirl's Ground Turkey Stroganoff\",\n",
       " \"Lea's Hamburgers\",\n",
       " \"Lee's Salmon Baste\",\n",
       " 'Lemon Butter Chicken',\n",
       " 'Lemonade Pork Chops',\n",
       " \"Leslie's Strawberry Breakfast Chops\",\n",
       " \"Lisa's Adobo\",\n",
       " 'Lobster Bisque',\n",
       " 'London Broil with Marsala Sauce',\n",
       " 'Long Soup',\n",
       " 'Mahogany Chicken Wings',\n",
       " 'Malaysian Barbecue Chicken Wings',\n",
       " \"Mama Yev's Bread dip\",\n",
       " 'Manhattan Meatballs',\n",
       " 'Maple Salmon',\n",
       " 'Maple Teriyaki Salmon Barbeque',\n",
       " 'Marchetti',\n",
       " 'Marinated Pork Strips',\n",
       " 'Marinated Pork Tenderloin',\n",
       " 'Marinated Spicy Pork Chops',\n",
       " 'Marinated Teriyaki Chicken',\n",
       " 'Marinated, Breaded Lamb Chops with Rosemary and Garlic',\n",
       " 'Marmalade Soy Wings',\n",
       " 'Maryland Crab Cakes II',\n",
       " 'Meat Loaf Pie',\n",
       " 'Meat and Spinach Ravioli Filling',\n",
       " 'Meatball Sub Sandwiches',\n",
       " 'Meatless Loaf',\n",
       " 'Meatloaf Supreme',\n",
       " 'Meatloaf for Tomato Haters',\n",
       " 'Mediterranean Puff Pastry Chicken',\n",
       " 'Mediterranean Stuffed Chicken',\n",
       " 'Mexican Rice Casserole',\n",
       " 'Mexican Stuffed Shells with Ground Beef',\n",
       " \"Michael's Chicken\",\n",
       " \"Michelle's Ultimate Beef Stroganoff Casserole\",\n",
       " 'Microwave Chicken Parmesan/Chicken Breast Cacciato',\n",
       " 'Middle Eastern Pasta With Yogurt and Pine Nuts',\n",
       " 'Midwest Brisket',\n",
       " \"Miss May's Tuna Casserole\",\n",
       " 'Mixture for Meatballs, Meatloaf or Burgers',\n",
       " 'Mock Lobster',\n",
       " \"Mom's Casserole\",\n",
       " \"Mom's Great Green Beans\",\n",
       " \"Mumze's Sticky Chicken\",\n",
       " 'Mushroom-Stuffed Tenderloin',\n",
       " 'My Chili',\n",
       " 'Nacho Pie II',\n",
       " \"Nadine's Delicious Tilapia\",\n",
       " 'Never Fail Meatloaf',\n",
       " 'Noodles Romanoff',\n",
       " 'Noodles Romanoff I',\n",
       " 'Noodles Romanoff III',\n",
       " 'Not So Stuffed Peppers',\n",
       " 'One Bowl Rice',\n",
       " 'Onion Baked Chicken',\n",
       " 'Onion Strips',\n",
       " 'Orange Honey Garlic Chicken',\n",
       " 'Orange Island Chicken',\n",
       " 'Orange Marinated Pork Tenderloin',\n",
       " 'Orange Pork Chops',\n",
       " 'Orange Soy Pork Loin',\n",
       " 'Oregano Chicken',\n",
       " 'Oriental Pork Cabbage Stir-Fry',\n",
       " 'Oriental Spicy Chicken Wings',\n",
       " 'Oven Roasted Ribs',\n",
       " 'PDQ Hot Beef Sandwiches',\n",
       " 'Party Beans',\n",
       " 'Party Pizzas',\n",
       " 'Peanut Butter and Jelly Burger',\n",
       " 'Peppered Flank Steak',\n",
       " 'Perfect Marinated Chicken Breasts',\n",
       " 'Picky-Eater Sloppy Joes',\n",
       " 'Pineapple Grilled Pork Chops',\n",
       " 'Pineapple Pork Chops',\n",
       " 'Pineapple Sirloin Skewers',\n",
       " 'Pizza Casserole',\n",
       " 'Polish Mistakes',\n",
       " \"Poor Man's Shepherd's Pie\",\n",
       " 'Porcupine Meatballs in Tomato Sauce',\n",
       " 'Pork Dumplings',\n",
       " 'Pork Scaloppini with Mushrooms',\n",
       " 'Pork Tenderloin with Mustard Sauce',\n",
       " 'Pretty Chicken Marinade',\n",
       " 'Puerto Rican Meat Patties',\n",
       " 'Pulled Chicken Sandwiches',\n",
       " 'Putzwutz',\n",
       " 'Queso Fundido',\n",
       " 'Quick Asian Beef Noodle Soup',\n",
       " 'Quick Bean and Turkey Italian Meatballs',\n",
       " 'Quick Thai Chicken Salad',\n",
       " 'Quick and Easy Chicken and Stuffing Casserole',\n",
       " 'Quick and Easy Goulash',\n",
       " 'Quick and Easy Green Chile Chicken Enchilada Casserole',\n",
       " 'Quick and Easy Ramen Soup',\n",
       " 'Quickie French Onion Soup',\n",
       " \"R. B. Miller's Gyro Meat\",\n",
       " \"RC's Baked Peanut Chicken\",\n",
       " 'Raspberry Glazed Wings',\n",
       " 'Raspberry Marinade',\n",
       " 'Remiscitti',\n",
       " 'Reuben Noodle Bake',\n",
       " 'Roast Beef Sandwich Roll',\n",
       " 'Roast Beef and Cheese Roll Ups',\n",
       " 'Roasted Pork Tenderloin with Sage Corn Bread Crust',\n",
       " 'Root Beer Raisin Meat Loaf',\n",
       " \"Rudechack's Franks and Noodles\",\n",
       " 'Rusty Chicken Thighs',\n",
       " 'Rye Bread Party Pizzas',\n",
       " 'Salmon Casserole Surprise',\n",
       " 'Salmon Patties I',\n",
       " \"Sara's Beef Jerky\",\n",
       " \"Sarah's Easy Shredded Chicken Taco Filling\",\n",
       " 'Saucy Chops II',\n",
       " 'Sausage and Apple Stuffing',\n",
       " 'Sausages in Onion Gravy',\n",
       " 'Savory Hamburger Supper',\n",
       " 'Seared Pork Cutlets with Asian Pan Sauce',\n",
       " 'Seasoned Turkey Burgers',\n",
       " 'Semi-Homemade Stuffing',\n",
       " 'Sesame Beef Bites',\n",
       " 'Sesame Chicken and Soba Noodles',\n",
       " 'Sesame Grilled Salmon',\n",
       " 'Sesame Seared Tuna',\n",
       " 'Seven Spiced Shark Steaks',\n",
       " \"Sheila's Grilled Pork Tenderloin\",\n",
       " 'Shredded Beef',\n",
       " 'Shrimp and Peanut Butter Noodles',\n",
       " 'Simple Beef Stroganoff',\n",
       " 'Simple Chicken Stroganoff',\n",
       " 'Simple Marinated Chicken Wings ',\n",
       " 'Simple Meatballs with Zoodles',\n",
       " 'Simple Sassy Salmon',\n",
       " 'Simple Spare Ribs',\n",
       " 'Simply Divine Meat Loaf with Spinach',\n",
       " 'Sissy Casserole',\n",
       " 'Sitta Soup',\n",
       " 'Skippy Burgers',\n",
       " \"Slow Cooker Sausage 'n' Grits Meatloaf\",\n",
       " 'Slow Cooker Spare Ribs',\n",
       " 'Slow-Cooker Hearty Beef Chili',\n",
       " 'Slumgullion',\n",
       " 'Slumgullion',\n",
       " 'Smoky Mountain Chicken',\n",
       " 'Smothered Hamburger Steak',\n",
       " 'Snoogy Chicken',\n",
       " 'Soy Ginger Salmon',\n",
       " 'Soy Sauce Chicken',\n",
       " 'Soy and Honey Pork Chops',\n",
       " 'Spaghetti With Peanut Butter Sauce',\n",
       " 'Spaghetti with Corned Beef',\n",
       " 'Spiced Nuts I',\n",
       " 'Spicy Blue Cheese Hamburgers',\n",
       " 'Spicy Chicken Orecchiette',\n",
       " 'Spicy Honey-Roasted Chicken',\n",
       " 'Spicy Kimchi Chicken Rotini',\n",
       " 'Spicy Slow Cooker Black Bean Soup',\n",
       " 'Spicy Tequila Sunrise Chicken Wings',\n",
       " 'Spicy-Sweet Pork Tenderloin',\n",
       " 'Spinach And Tomato Filo Pastry Parcels',\n",
       " 'Sriracha Honey Chicken',\n",
       " 'Steak Rolls ',\n",
       " 'Sticky Sesame Chicken',\n",
       " 'Stuffed Acorn Squash',\n",
       " \"Stuffed Mega 'Shrooms\",\n",
       " 'Sunshine Chicken',\n",
       " 'Surprise Pasta ',\n",
       " \"Sweet 'n' Hot Glazed Salmon\",\n",
       " \"Sweet 'n' Spicy Roasted Corn\",\n",
       " 'Sweet Grilled Steak Bites',\n",
       " 'Sweet Smothered Pork Chops',\n",
       " 'Sweet Spicy Wings',\n",
       " 'Sweet and Gooey Chicken Wings',\n",
       " 'Sweet and Spicy Green Beans',\n",
       " 'Sweet, Sticky and Spicy Chicken',\n",
       " \"T Bird's Beef Jerky\",\n",
       " 'Taco Lasagna',\n",
       " 'Taiwanese Pork Chops',\n",
       " 'Talerine',\n",
       " 'Talerini',\n",
       " 'Tangy Grilled Beef',\n",
       " 'Tantalizingly Tangy Meatloaf',\n",
       " 'Tender Italian Baked Chicken',\n",
       " 'Teriyaki Beef Jerky',\n",
       " 'Teriyaki Chicken Cordon Bleu',\n",
       " 'Teriyaki Chicken Pizza',\n",
       " 'Teriyaki Chicken Wings',\n",
       " 'Teriyaki Marinated Chicken',\n",
       " 'Teriyaki Salmon',\n",
       " 'Teriyaki Tuna with Pineapple',\n",
       " \"Terry's Beer Chicken\",\n",
       " 'Tex-Mex Patty Melts',\n",
       " 'Thai Chicken Balls',\n",
       " 'Thai Chicken Pizza',\n",
       " 'Thai Fried Chicken',\n",
       " 'Thai Grilled Chicken',\n",
       " 'Thai-Style Chicken Satay',\n",
       " 'The Best Barbequed Chicken Ever',\n",
       " 'The Best Sweet and Sour Meatballs',\n",
       " 'The Juiciest Hamburgers Ever',\n",
       " 'The Real Deal Korean Beef Ribs',\n",
       " 'Thirty-Minute Baked Tuna Burgers',\n",
       " 'Three Bean Casserole',\n",
       " \"Todd's Famous Thai Peanut Sauce\",\n",
       " 'Tomato Chicken Parmesan - Low Fat Version',\n",
       " 'Tomato Chops II',\n",
       " 'Tomato Pork Chops I',\n",
       " 'Toscana Soup',\n",
       " 'Traditional Stuffed Peppers',\n",
       " 'Tuna Noodle Casserole I',\n",
       " 'Twenty Minute Lasagna',\n",
       " \"Ty's Barbequed Chicken\",\n",
       " 'Uglies',\n",
       " 'Venison Pot Roast and Gravy',\n",
       " 'Vietnamese Grilled Lemongrass Chicken',\n",
       " 'Weenieladas',\n",
       " 'Wings In Cola',\n",
       " 'Wings with Mint Leaves and Honey',\n",
       " 'Won Ton Snacks',\n",
       " 'Wonnie Burgers!',\n",
       " 'Wontons for Wonton Noodle Soup',\n",
       " \"World's Best Honey Garlic Pork Chops\",\n",
       " 'Yellowfin Tuna with Scallions and Ginger',\n",
       " 'Yogurt Chicken',\n",
       " 'Yummy Honey Chicken Kabobs',\n",
       " 'Zesty Carrots',\n",
       " 'Zesty Porcupine Meatballs',\n",
       " 'Zucchini Bake',\n",
       " 'Zurkey Burgers']"
      ]
     },
     "execution_count": 16,
     "metadata": {},
     "output_type": "execute_result"
    }
   ],
   "source": [
    "sorted(map(at(\"title\"),normalized_data))"
   ]
  },
  {
   "cell_type": "code",
   "execution_count": 17,
   "metadata": {},
   "outputs": [
    {
     "data": {
      "text/plain": [
       "{'ingredients': ['1/2 cup uncooked brown rice',\n",
       "  '1 3/8 cups water',\n",
       "  '1 pound ground beef',\n",
       "  '1 (10.75 ounce) can condensed cream of mushroom soup',\n",
       "  '1/2 cup chopped green onion',\n",
       "  '1 tablespoon Worcestershire sauce',\n",
       "  '1 teaspoon soy sauce',\n",
       "  '1/4 teaspoon ground black pepper'],\n",
       " 'instructions': ['In a medium saucepan, bring water and brown rice to a boil. Reduce heat, cover and simmer for 45 to 50 minutes.',\n",
       "  'Meanwhile, in a medium skillet over high heat, brown the ground beef and drain fat.',\n",
       "  'Stir the mushroom soup, green onion, Worcestershire sauce, soy sauce and pepper into the skillet with the beef. Simmer on medium low heat for 10 minutes. Serve over the rice.'],\n",
       " 'title': \"Poor Man's Shepherd's Pie\",\n",
       " 'photo_url': 'http://images.media-allrecipes.com/userphotos/560x315/1610513.jpg',\n",
       " 'url': 'http://allrecipes.com/Recipe/26639/',\n",
       " 'normalized_ingredients': {'IeLJalKYK': 'brown rice',\n",
       "  'IlGA3C7DK': 'water',\n",
       "  'INzU_lxpu': 'ground beef',\n",
       "  'ICvNMkhaQ': 'cream of mushroom soup',\n",
       "  'IIPGLrn7i': 'green onion',\n",
       "  'IjfDnu7na': 'worcestershire sauce',\n",
       "  'ILAT-xDbX': 'soy sauce',\n",
       "  'Is_lS1dmt': 'pepper'},\n",
       " 'status': 0,\n",
       " 'sentences': ['In a medium saucepan, bring water and brown rice to a boil.',\n",
       "  'Reduce heat, cover and simmer for 45 to 50 minutes.',\n",
       "  'Meanwhile, in a medium skillet over high heat, brown the ground beef and drain fat.',\n",
       "  'Stir the mushroom soup, green onion, Worcestershire sauce, soy sauce and pepper into the skillet with the beef.',\n",
       "  'Simmer on medium low heat for 10 minutes.',\n",
       "  'Serve over the rice.'],\n",
       " 'labels': [[], [], []],\n",
       " 'sentence_labels': [[], [], [], [], [], []]}"
      ]
     },
     "execution_count": 17,
     "metadata": {},
     "output_type": "execute_result"
    }
   ],
   "source": [
    "random.choice(normalized_data)"
   ]
  },
  {
   "cell_type": "code",
   "execution_count": 18,
   "metadata": {},
   "outputs": [
    {
     "data": {
      "application/vnd.jupyter.widget-view+json": {
       "model_id": "ae02c55652984d6a8c43e5dd26552f87",
       "version_major": 2,
       "version_minor": 0
      },
      "text/plain": [
       "HBox(children=(FloatProgress(value=0.0, max=505.0), HTML(value='')))"
      ]
     },
     "metadata": {},
     "output_type": "display_data"
    },
    {
     "name": "stdout",
     "output_type": "stream",
     "text": [
      "\n"
     ]
    }
   ],
   "source": [
    "!rm -rf ../annotations\n",
    "annot_path.mkdir()\n",
    "for datum in tqdm(normalized_data):\n",
    "    id = get_id(datum)\n",
    "    with (annot_path/ f\"{id}.json\").open('w') as f:\n",
    "        json.dump(datum, f, indent=4)"
   ]
  },
  {
   "cell_type": "code",
   "execution_count": null,
   "metadata": {},
   "outputs": [],
   "source": []
  }
 ],
 "metadata": {
  "kernelspec": {
   "display_name": "Python 3",
   "language": "python",
   "name": "python3"
  },
  "language_info": {
   "codemirror_mode": {
    "name": "ipython",
    "version": 3
   },
   "file_extension": ".py",
   "mimetype": "text/x-python",
   "name": "python",
   "nbconvert_exporter": "python",
   "pygments_lexer": "ipython3",
   "version": "3.8.5"
  }
 },
 "nbformat": 4,
 "nbformat_minor": 4
}
