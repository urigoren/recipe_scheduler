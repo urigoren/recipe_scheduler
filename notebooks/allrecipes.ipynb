{
 "cells": [
  {
   "cell_type": "code",
   "execution_count": 1,
   "metadata": {},
   "outputs": [],
   "source": [
    "import json, random, re, collections, itertools\n",
    "from pathlib import Path\n",
    "from tqdm.notebook import tqdm\n",
    "import pandas as pd\n",
    "from operator import itemgetter as at\n",
    "from IPython.core.display import display, HTML\n",
    "display_html = lambda x: display(HTML(x))\n",
    "data_path = Path(\"../data\")\n",
    "annot_path = Path(\"../annotations\")"
   ]
  },
  {
   "cell_type": "markdown",
   "metadata": {},
   "source": [
    "# Normalize ingredients"
   ]
  },
  {
   "cell_type": "code",
   "execution_count": 2,
   "metadata": {},
   "outputs": [],
   "source": [
    "fname = data_path / \"normalized_top_ingredients.csv\"\n",
    "normalized_top_ingredients = dict()\n",
    "if fname.exists():\n",
    "    normalized_top_ingredients = dict(pd.read_csv(str(fname)).dropna()[[\"ingredient\", \"normalized\"]].values)"
   ]
  },
  {
   "cell_type": "code",
   "execution_count": 3,
   "metadata": {},
   "outputs": [],
   "source": [
    "units=[\"teaspoon\", \"tablespoon\", \"ounce\", \"inch\", \"inche\", \"cup\", \"pound\", \"kg\", \"tbsp\", \"ml\", \"pint\", \"oz\", \"can\", \"package\"]\n",
    "adjs = [\"large\", \"small\", \"medium\", \"fresh\", \"chopped\"]\n",
    "no_units_pattern = re.compile(r\"^[\\d\\s(/)]*(?:{units})?\\s?(?:{adjs}){twice}[\\s(/)]*(.+)$\".format(\n",
    "    twice=\"{0,2}\",\n",
    "    units=\"|\".join([u+'s' for u in units]+units),\n",
    "    adjs=\"|\".join(adjs)),\n",
    "                             )\n",
    "\n",
    "def remove_parenthesis(s):\n",
    "    s=s.translate({ord(\"\\n\"):\" \", ord(\"½\"): \"1\", ord(\"¾\"): \"1\", ord(\"¼\"): \"1\"})\n",
    "    return re.sub(r\"\\([^()]+\\)\",\"\", s)\n",
    "\n",
    "def normalize_ingredient(s):\n",
    "    ret = no_units_pattern.findall(remove_parenthesis(s))\n",
    "    if len(ret)==0:\n",
    "        raise Exception(\"'{s}' returned en empty string\".format(s=s))\n",
    "    ret=ret[0].rsplit(\",\", 1)[0]\n",
    "    return normalized_top_ingredients.get(ret,ret)\n",
    "\n",
    "\n",
    "def normalize_ingredients(lst):\n",
    "    ret = [normalize_ingredient(s) for s in lst]\n",
    "    ret = [s for s in ret if s is not None]\n",
    "    return ret"
   ]
  },
  {
   "cell_type": "markdown",
   "metadata": {},
   "source": [
    "# Create sample"
   ]
  },
  {
   "cell_type": "code",
   "execution_count": 4,
   "metadata": {},
   "outputs": [],
   "source": [
    "with (data_path / \"allrecipes-recipes.jsonl\").open('r') as f:\n",
    "    data = [json.loads(l) for l in f]"
   ]
  },
  {
   "cell_type": "code",
   "execution_count": 5,
   "metadata": {},
   "outputs": [],
   "source": [
    "def get_id(recipe):\n",
    "    return int(recipe[\"url\"].rstrip('/').split('/')[-1])"
   ]
  },
  {
   "cell_type": "code",
   "execution_count": 6,
   "metadata": {},
   "outputs": [
    {
     "data": {
      "text/plain": [
       "306"
      ]
     },
     "execution_count": 6,
     "metadata": {},
     "output_type": "execute_result"
    }
   ],
   "source": [
    "lookup_ingredients = {\"beef\", \"pork\", \"chicken\", \"tuna\", \"salmon\", \"lamb\", \"egg\", \"butter\", \"garlic\", \"onion\", \"avocado\", \"tomato\", \"soy\", \"honey\", \"chili\", \"feta\", \"corn\"}\n",
    "sampled_data = [d for d in data if (not d[\"error\"]) and \"®\" not in \"\".join(d[\"ingredients\"])]\n",
    "sampled_data = [d for d in sampled_data if 3<len(d[\"ingredients\"])<10]\n",
    "sampled_data = [d for d in sampled_data if len(lookup_ingredients&set(\" \".join(d[\"ingredients\"]).lower().split()))>3]\n",
    "sampled_data = [random.choice(list(recipes)) for author, recipes in itertools.groupby(sorted(sampled_data, key=at(\"author\")), at(\"author\"))]\n",
    "len(sampled_data)"
   ]
  },
  {
   "cell_type": "code",
   "execution_count": 7,
   "metadata": {},
   "outputs": [
    {
     "data": {
      "application/vnd.jupyter.widget-view+json": {
       "model_id": "733dc2f66b174e2691ac4b6ed75df494",
       "version_major": 2,
       "version_minor": 0
      },
      "text/plain": [
       "HBox(children=(FloatProgress(value=0.0, max=306.0), HTML(value='')))"
      ]
     },
     "metadata": {},
     "output_type": "display_data"
    },
    {
     "name": "stdout",
     "output_type": "stream",
     "text": [
      "\n",
      "We have 306 recipes, with 778 ingredients\n"
     ]
    }
   ],
   "source": [
    "normalized_data = []\n",
    "ingredients_map = set()\n",
    "for datum in tqdm(sampled_data):\n",
    "    d = dict()\n",
    "    for k in [\"ingredients\", \"instructions\", \"title\", \"photo_url\", \"url\"]:\n",
    "        d[k] = datum[k]\n",
    "    d[\"normalized_ingredients\"] = normalize_ingredients(datum[\"ingredients\"])\n",
    "    assert len(d[\"normalized_ingredients\"]) == len(d[\"ingredients\"])\n",
    "    ingredients_map |= set(d[\"normalized_ingredients\"])\n",
    "    d[\"status\"]=0\n",
    "    d[\"labels\"]=[[] for _ in range(len(datum[\"instructions\"]))]\n",
    "    normalized_data.append(d)\n",
    "    \n",
    "ingredients_map=sorted(ingredients_map)\n",
    "for datum in normalized_data:\n",
    "    datum[\"normalized_ingredients\"]=dict(zip(map(ingredients_map.index,datum[\"normalized_ingredients\"]),\n",
    "                                        datum[\"normalized_ingredients\"]))\n",
    "    \n",
    "with (data_path / \"ingredients_map.json\").open('w') as f:\n",
    "    json.dump(ingredients_map, f)\n",
    "print (\"We have {n} recipes, with {m} ingredients\".format(n=len(normalized_data), m=len(ingredients_map)))"
   ]
  },
  {
   "cell_type": "markdown",
   "metadata": {},
   "source": [
    "### Check ingredients that map to single normalized ingredients"
   ]
  },
  {
   "cell_type": "code",
   "execution_count": 8,
   "metadata": {},
   "outputs": [
    {
     "data": {
      "text/html": [
       "<b>Easy Garlic Broiled Chicken</b><br><table><br><tr><td>1/2 cup butter</td><td>butter</td></tr><br><tr><td>3 tablespoons minced garlic</td><td>minced garlic</td></tr><br><tr><td>3 tablespoons soy sauce</td><td>soy sauce</td></tr><br><tr><td>1/4 teaspoon black pepper</td><td>black pepper</td></tr><br><tr><td>1 tablespoon dried parsley</td><td>dried parsley</td></tr><br><tr><td>6 boneless chicken thighs, with skin</td><td>boneless chicken thighs</td></tr><br><tr><td>dried parsley, to taste</td><td><font color=\"red\">dried parsley</font></td></tr><br></table><br><b>Brown Sugar Glazed Pork Chops</b><br><table><br><tr><td>1/2 cup chopped celery</td><td>celery</td></tr><br><tr><td>1/2 cup chopped onion</td><td>onion</td></tr><br><tr><td>1/2 tablespoon butter</td><td>butter</td></tr><br><tr><td>15 slices day-old bread, torn into small pieces</td><td>slices day-old bread</td></tr><br><tr><td>1/2 tablespoon Greek-style seasoning</td><td>Greek-style seasoning</td></tr><br><tr><td>1 (14 ounce) can chicken broth</td><td>chicken broth</td></tr><br><tr><td>6 pork chops</td><td>pork chops</td></tr><br><tr><td>1 cup packed brown sugar</td><td>packed brown sugar</td></tr><br><tr><td>1/2 cup butter, melted</td><td><font color=\"red\">butter</font></td></tr><br></table><br><b>Zucchini Lunchixa</b><br><table><br><tr><td>2 tablespoons butter</td><td>butter</td></tr><br><tr><td>2 tablespoons chopped garlic</td><td>garlic</td></tr><br><tr><td>1 cup thinly sliced zucchini</td><td>thinly sliced zucchini</td></tr><br><tr><td>1/4 cup chopped onion</td><td>onion</td></tr><br><tr><td>1 skinless, boneless chicken breast, cut into 1/2 inch slices</td><td>skinless, boneless chicken breast</td></tr><br><tr><td>1 tablespoon butter</td><td><font color=\"red\">butter</font></td></tr><br></table>"
      ],
      "text/plain": [
       "<IPython.core.display.HTML object>"
      ]
     },
     "metadata": {},
     "output_type": "display_data"
    }
   ],
   "source": [
    "output = []\n",
    "normalizing_errors=[]\n",
    "for idx, datum in enumerate(normalized_data):\n",
    "    if len(datum[\"normalized_ingredients\"])==len(datum[\"ingredients\"]):\n",
    "        continue\n",
    "    normalizing_errors.append(idx)\n",
    "    output.append(\"<b>{t}</b>\".format(t=datum[\"title\"]))\n",
    "    output.append(\"<table>\")\n",
    "    already_mapped_ings=set()\n",
    "    for i in datum[\"ingredients\"]:\n",
    "        n=normalize_ingredient(i)\n",
    "        if n in already_mapped_ings:\n",
    "            n=\"<font color=\\\"red\\\">{n}</font>\".format(n=n)\n",
    "        output.append(\"<tr><td>{i}</td><td>{n}</td></tr>\".format(i=i,n=n))\n",
    "        already_mapped_ings.add(n)\n",
    "    output.append(\"</table>\")\n",
    "display_html(\"<br>\".join(output))"
   ]
  },
  {
   "cell_type": "code",
   "execution_count": 9,
   "metadata": {},
   "outputs": [],
   "source": [
    "for idx in reversed(normalizing_errors):\n",
    "    del normalized_data[idx]\n",
    "normalizing_errors=[]"
   ]
  },
  {
   "cell_type": "code",
   "execution_count": 10,
   "metadata": {},
   "outputs": [
    {
     "data": {
      "text/plain": [
       "['A Good Easy Garlic Chicken',\n",
       " 'A Homemade San Francisco Treat: Chicken Vermicelli Rice',\n",
       " 'All Protein Meatloaf',\n",
       " 'Amazing Pork Tenderloin in the Slow Cooker',\n",
       " \"Amber's Super Stuffing\",\n",
       " \"Amber's Super Stuffing\",\n",
       " 'Amish Casserole',\n",
       " 'Apple and Orange Chicken',\n",
       " 'Asian Citrus-Grilled Salmon',\n",
       " 'Asian Ginger Catfish',\n",
       " 'Asian Ginger Grill Marinade',\n",
       " 'Asian Turkey Burgers',\n",
       " \"Aunt Ro's Baked Beans\",\n",
       " 'Avocado Side Dish',\n",
       " 'Bacon Pork Tenderloin',\n",
       " 'Baked Asian-Style Honey Chicken',\n",
       " 'Barbeque Sauce for Meat Sandwiches',\n",
       " 'Barbeque Shredded Beef',\n",
       " 'Basic Beef Starter',\n",
       " 'Beef Noodle Bake',\n",
       " 'Beefy Tomato Soup',\n",
       " 'Best Ever Brisket',\n",
       " 'Best Ever Meatloaf I',\n",
       " 'Best-Ever Cornbread-Sausage Stuffing',\n",
       " \"Bev's Orange Chicken\",\n",
       " \"Big Ray's Tropical Island Chicken\",\n",
       " 'Bourbon Chicken',\n",
       " 'Braised Pork Chops',\n",
       " 'Breaded Chicken Wings',\n",
       " 'Breaded Pork Chops',\n",
       " 'Breakfast Sausage',\n",
       " 'Broccoli Beef Noodles',\n",
       " 'Broccoli-Beef Noodles',\n",
       " 'Bunkhouse Beans',\n",
       " 'Cajun Buttered Corn',\n",
       " 'Campfire Stew',\n",
       " 'Candied Curried Pecans',\n",
       " 'Caramelized Chicken Wings',\n",
       " 'Cheesy Corn',\n",
       " 'Chicken Liver and Pistachio Nut Pate',\n",
       " 'Chicken Lollipops',\n",
       " 'Chicken Nepiev',\n",
       " 'Chicken Piccata II',\n",
       " 'Chicken Salad with Grapes and Apples',\n",
       " 'Chicken Sausage Marinara over Polenta',\n",
       " 'Chicken Stroganoff II',\n",
       " 'Chicken and Corn Chili',\n",
       " 'Chili Chicken',\n",
       " 'Chili For Two',\n",
       " 'Chili Soup',\n",
       " 'Chili Style Coney Sauce',\n",
       " 'Chili-Crusted Tri-Tip Roast',\n",
       " 'Chinese Chicken Fried Rice II',\n",
       " 'Chinese Chicken Wings',\n",
       " 'Chinese Five Spice Spare Ribs',\n",
       " 'Chipotle Honey Roasted Peanuts',\n",
       " \"Chris' Best Burgers\",\n",
       " \"Christoph's Mediterranean Spinach and Sun Dried Tomato Dish\",\n",
       " 'Cinnamon Pork Tenderloin',\n",
       " 'Classic Bangers and Mash',\n",
       " 'Cocktail Meatballs',\n",
       " 'Coffee Marinated Steak',\n",
       " 'Coney Sauce',\n",
       " 'Corn Bread Casserole',\n",
       " 'Corned Beef Noodle Casserole',\n",
       " \"Cousin David's Slow Cooker Brisket\",\n",
       " 'Cowboy Stew I',\n",
       " 'Creamed Beef for SOS',\n",
       " 'Creamy Cheese Wontons',\n",
       " 'Creamy Mushroom Soup',\n",
       " 'Creamy Peanut Stir-Fried Chicken',\n",
       " 'Creamy Potato and Corn Soup',\n",
       " 'Creamy Spinach Soup',\n",
       " 'Crescent-Topped Casserole',\n",
       " 'Crunchy Walnut Coated Chicken Strips',\n",
       " \"Daddy's Sloppy Soup\",\n",
       " \"Debdoozie's Blue Ribbon Chili\",\n",
       " 'Dilly Chicken Sandwiches',\n",
       " 'Easy Bake Brisket',\n",
       " 'Easy Barbecued Pork Chops',\n",
       " 'Easy Blender Red Pepper Sauce',\n",
       " 'Easy Chicken Fajita Marinade',\n",
       " 'Easy Chicken and Bell Pepper Fajitas',\n",
       " 'Easy Homemade Chili',\n",
       " 'Easy Mexican Casserole',\n",
       " 'Easy Oven-Fried Pork Chops',\n",
       " 'Easy Raspberry Chicken',\n",
       " 'Easy Tater Tot Hot Dish',\n",
       " 'Easy Teriyaki Chops',\n",
       " 'Easy Thai Peanut Chicken',\n",
       " 'Egg Foo Yung with Mushroom Sauce',\n",
       " 'Egg Rolls a la Paye',\n",
       " \"Emily's Pizza Burgers\",\n",
       " 'Fairy Godmother Rice',\n",
       " 'Faken (Veggie Bacon)',\n",
       " 'Fiery Beef Satay Skewers',\n",
       " 'Fish Friday Tuna Burgers',\n",
       " 'Flavorful Flank Steak',\n",
       " 'Flavorful Tomato Soup',\n",
       " 'Foil-Pack Oriental Chicken Dinner',\n",
       " 'Franks in Peanut Butter and Chutney',\n",
       " 'Fried meatballs in tomato sauce',\n",
       " 'Garlic Lime Roasted Chicken Drumsticks',\n",
       " 'Garlic Mustard Ground Beef',\n",
       " 'Garlic Soup',\n",
       " 'Gluten-Free Teriyaki Sauce',\n",
       " 'Goulash I',\n",
       " 'Goulash Supreme',\n",
       " \"Grandma's Corn Bread Dressing\",\n",
       " 'Green Bean Bundles',\n",
       " 'Grilled Chicken Adobo',\n",
       " 'Grilled Ginger-Soy Chicken',\n",
       " 'Grilled Honey-Soy Pork Steaks',\n",
       " 'Grilled Southwestern Chicken Sandwiches',\n",
       " 'Grilled Tri Tip Roast',\n",
       " 'Ground Beef Jerky',\n",
       " 'Gyros',\n",
       " 'Halushki',\n",
       " 'Hamburger Hot Dish',\n",
       " 'Hamburger Mac Skillet',\n",
       " 'Hamburger Stew',\n",
       " 'Hamburger Vegetable Soup',\n",
       " 'Hamburger and Macaroni Hot Dish',\n",
       " 'Hash Brown Casserole III',\n",
       " 'Hawaiian-Style Meatballs',\n",
       " 'Herbed Rice Pilaf',\n",
       " 'Hibachi-Style Fried Rice',\n",
       " 'Hoisin Sauce',\n",
       " 'Hoisin-Glazed Salmon',\n",
       " 'Holiday Roast Turkey with Herb Stuffing',\n",
       " \"Holly's Texas Brisket\",\n",
       " 'Home-Style Buffalo Wings',\n",
       " 'Home-Style Chicken Piccata',\n",
       " 'Homemade Beef Jerky',\n",
       " 'Homemade Chili Sauce',\n",
       " 'Honey BBQ-Marinated Chicken Drumsticks',\n",
       " 'Honey Baked Ribs',\n",
       " 'Honey Garlic Chicken Wings',\n",
       " 'Honey Garlic Chicken with Rosemary',\n",
       " 'Honey Garlic Ribs',\n",
       " 'Honey Mustard Pork Chops',\n",
       " 'Honey Ribs',\n",
       " 'Honey-Garlic Moose Meatballs',\n",
       " 'Honey-Garlic Pork Ribs',\n",
       " 'Honey-Ginger Grilled Salmon',\n",
       " 'Honey-Grilled Pork Chops',\n",
       " 'Honey-Lime Chicken Enchiladas',\n",
       " 'Honey-Pecan Chicken Breasts',\n",
       " 'Honey-Soy Chicken Kabobs',\n",
       " 'Hot Dog Chili Sauce',\n",
       " 'Incredibly Easy Chicken and Noodles',\n",
       " 'Inside-Out Pork Chops',\n",
       " 'Italian Paleo Chicken Meat Loaf',\n",
       " 'Jalapeno-Blue Cheese Burgers',\n",
       " 'Jerked Balsamic Pork Tenderloin',\n",
       " \"Jill's Sweet and Tangy Meatloaf\",\n",
       " 'Jimmy Dean Mini Sausage Chimichangas',\n",
       " \"Joan's Quick Chili\",\n",
       " 'KRAFT RECIPE MAKERS Asian Style Chili Steak and String Beans',\n",
       " \"Kari's Delicious Drummettes\",\n",
       " 'Key West Chicken',\n",
       " 'Killer Fried Pork Chops',\n",
       " 'Lancashire Hot Pot',\n",
       " 'Lemon Butter Chicken',\n",
       " \"Leslie's Strawberry Breakfast Chops\",\n",
       " 'Low Carb Lamb Burgers',\n",
       " 'Low-Cal Chicken',\n",
       " 'Malaysian Barbecue Chicken Wings',\n",
       " 'Maple Pork Slices',\n",
       " 'Maple Salmon with Mushroom Couscous',\n",
       " 'Maple Teriyaki Salmon Fillets',\n",
       " 'Marchetti',\n",
       " 'Marinated Flank Steak',\n",
       " 'Marinated Pork Tenderloin',\n",
       " 'Marinated Sirloin Steaks',\n",
       " 'Marinated Spicy Pork Chops',\n",
       " 'Mediterranean Puff Pastry Chicken',\n",
       " 'Mediterranean Stuffed Chicken',\n",
       " \"Melanie's Chili\",\n",
       " 'Mexican Manicotti',\n",
       " 'Mexican Rice II',\n",
       " \"Michael's Chicken\",\n",
       " 'Middle Eastern Pasta With Yogurt and Pine Nuts',\n",
       " \"Mom's Great Green Beans\",\n",
       " \"Mumze's Sticky Chicken\",\n",
       " 'Muscle Burger',\n",
       " 'Mushroom-Stuffed Tenderloin',\n",
       " 'Nacho Pie II',\n",
       " 'No-Fuss Beef Roast',\n",
       " 'One-Pan Roast Pork with Parmesan Fries',\n",
       " 'Onion Strips',\n",
       " 'Orange, Honey and Soy Chicken',\n",
       " 'Oriental Pork Chops',\n",
       " 'Oven Roasted Ribs',\n",
       " 'Oven-Dried Beef Jerky',\n",
       " 'Pan-Barbecued Pork',\n",
       " 'Peanut Butter Sauce Chicken',\n",
       " 'Peanut Butter and Jelly Burger',\n",
       " 'Peanut Dipping Sauce',\n",
       " 'Peanut Noodles with Shredded Chicken and Vegetables',\n",
       " 'Pork Chop Tonkotsu Broth',\n",
       " 'Pork Chops in Tomato Sauce',\n",
       " 'Pork Scaloppini with Mushrooms',\n",
       " 'Pork Tenderloin with Orange Marmalade Glaze',\n",
       " 'Potato Corn Casserole',\n",
       " 'Potato Soup with Spinach Dumplings',\n",
       " 'Pronto Beef and Rice',\n",
       " 'Putzwutz',\n",
       " 'Quick Bean and Turkey Italian Meatballs',\n",
       " 'Quick Enchilada Sauce',\n",
       " 'Quickie French Onion Soup',\n",
       " \"R. B. Miller's Gyro Meat\",\n",
       " \"RC's Baked Peanut Chicken\",\n",
       " 'Rice-a-Phoney',\n",
       " 'Roast Beef and Cheese Roll Ups',\n",
       " 'Roasted Pork Tenderloin with Sage Corn Bread Crust',\n",
       " 'Romaine with Chipotle Vinaigrette and Queso Fresco',\n",
       " \"Ryan's Gourmet BBQ Sauce\",\n",
       " 'Salisbury Steak',\n",
       " 'Santa Fe Corn on the Cob',\n",
       " 'Santa Fe Hatch Chile Green Sauce',\n",
       " \"Sarah's Easy Shredded Chicken Taco Filling\",\n",
       " \"Sarah's Feta Rice Pilaf\",\n",
       " 'Saucy Apple Pork Chops',\n",
       " 'Sausage and Apple Stuffing',\n",
       " 'Sausage and Zucchini Soup',\n",
       " 'Savory Hamburger Supper',\n",
       " 'Seasoned Couscous',\n",
       " 'Seasoned Noodle Mix',\n",
       " 'Sesame Beef Tenderloin',\n",
       " 'Sesame Pork',\n",
       " 'Seven Spiced Shark Steaks',\n",
       " \"Sheila's Grilled Pork Tenderloin\",\n",
       " 'Simple Mexican Rice',\n",
       " 'Simple Sloppy Joes',\n",
       " 'Simple Spare Ribs',\n",
       " 'Sissy Casserole',\n",
       " 'Skillet Chicken Bulgogi',\n",
       " 'Slow Cooker Barbecue Beef',\n",
       " 'Slow Cooker Beef Barbacoa',\n",
       " 'Slow Cooker Casserole',\n",
       " 'Slow Cooker Maple Country Style Ribs',\n",
       " \"Slow Cooker Sausage 'n' Grits Meatloaf\",\n",
       " 'Slow Cooker Tamale Pie',\n",
       " 'Slow Cooker Thai Pork with Peppers',\n",
       " 'Slumgullion',\n",
       " 'Snoogy Chicken',\n",
       " 'Southwestern Chicken Soup',\n",
       " 'Spaghetti Sauce III',\n",
       " 'Spaghetti With Peanut Butter Sauce',\n",
       " 'Spaghetti with Corned Beef',\n",
       " 'Special Strip Steaks',\n",
       " 'Spiced Honey Pretzels',\n",
       " 'Spicy Beijing Pecans',\n",
       " 'Spicy Chinese Chicken Wings',\n",
       " 'Spicy Honey-Roasted Chicken',\n",
       " 'Spicy Kimchi Chicken Rotini',\n",
       " 'Sriracha Honey Chicken',\n",
       " 'Steak Marinade Extraordinaire',\n",
       " 'Stout Steak',\n",
       " 'Sunshine Chicken',\n",
       " 'Surprise Pasta ',\n",
       " \"Sweet 'n' Spicy Roasted Corn\",\n",
       " 'Sweet Grilled Steak Bites',\n",
       " 'Sweet Spicy Wings',\n",
       " 'Sweet and Sour Pork Chops',\n",
       " 'Sweet and Spicy Green Beans',\n",
       " 'Sweet and Tangy Apple Pork Chops',\n",
       " 'Sweet, Sticky and Spicy Chicken',\n",
       " 'Taco Bell® Seasoning Copycat',\n",
       " 'Taco Soup VIII',\n",
       " 'Talerine',\n",
       " 'Talerini',\n",
       " 'Tallerine',\n",
       " \"Tami's Red Sauce: Bolognese Tomato Sauce with Ground Beef\",\n",
       " 'Ten Minute Enchilada Sauce',\n",
       " 'Tenderloin with Herb Sauce',\n",
       " 'Teriyaki Finger Steaks',\n",
       " 'Teriyaki Tuna Steaks',\n",
       " \"Terry's Beer Chicken\",\n",
       " 'Texas-Style Baked Beans',\n",
       " 'Thai Grilled Chicken',\n",
       " 'Thirty-Minute Baked Tuna Burgers',\n",
       " 'Three Bean Casserole',\n",
       " 'Toscana Soup',\n",
       " 'Traditional Stuffed Peppers',\n",
       " 'Tuna Noodle Casserole I',\n",
       " 'Turkey Florentine',\n",
       " 'Turkey Noodle Soup Mix',\n",
       " 'Venison Pot Roast and Gravy',\n",
       " \"ViVi's Bacon and Tomato Soup\",\n",
       " 'Weenieladas',\n",
       " 'Wild Rice Turkey Dish',\n",
       " 'Wings In Cola',\n",
       " 'Wings with Mint Leaves and Honey',\n",
       " \"Wolf's Bourbon Chicken\",\n",
       " \"Women's Club Sloppy Joes\",\n",
       " 'Yankee-Doodle Sirloin Roast',\n",
       " 'Yummy Honey Chicken Kabobs',\n",
       " 'Zesty Chicken Wings',\n",
       " 'Zesty Porcupine Meatballs',\n",
       " 'Zucchini Beef Casserole',\n",
       " 'eDiets Low Carb Tangy Pork Chop']"
      ]
     },
     "execution_count": 10,
     "metadata": {},
     "output_type": "execute_result"
    }
   ],
   "source": [
    "sorted(map(at(\"title\"),normalized_data))"
   ]
  },
  {
   "cell_type": "code",
   "execution_count": 11,
   "metadata": {},
   "outputs": [
    {
     "data": {
      "text/plain": [
       "{'ingredients': ['2 1/4 cups chicken stock',\n",
       "  '1/4 cup wild rice',\n",
       "  '4 tablespoons butter',\n",
       "  '2 cups fresh sliced mushrooms',\n",
       "  '2 cups chopped celery',\n",
       "  '1 cup chopped onion',\n",
       "  '4 cups corn bread stuffing mix',\n",
       "  '1 tablespoon poultry seasoning'],\n",
       " 'instructions': ['Combine chicken stock and wild rice in a saucepan. Cover and bring to a boil over high heat. Reduce heat and simmer until rice is tender, about 45 minutes. Remove from heat.',\n",
       "  'Melt the butter in a large skillet. Add the mushrooms, celery, and onion. Cook and stir until the vegetables are soft, about 5 minutes.',\n",
       "  'In a large bowl, mix the crumbled cornbread and poultry seasoning. Add the rice with chicken broth and the vegetables and mix well. Use to stuff a turkey or bake on its own. More chicken stock can be added if stuffing is dry.'],\n",
       " 'title': \"Amber's Super Stuffing\",\n",
       " 'photo_url': 'http://images.media-allrecipes.com/userphotos/560x315/1001108.jpg',\n",
       " 'url': 'http://allrecipes.com/Recipe/9068/',\n",
       " 'normalized_ingredients': {171: 'chicken stock',\n",
       "  771: 'wild rice',\n",
       "  132: 'butter',\n",
       "  664: 'sliced mushrooms',\n",
       "  150: 'celery',\n",
       "  517: 'onion',\n",
       "  222: 'corn bread stuffing mix',\n",
       "  577: 'poultry seasoning'},\n",
       " 'status': 0,\n",
       " 'labels': [[], [], []]}"
      ]
     },
     "execution_count": 11,
     "metadata": {},
     "output_type": "execute_result"
    }
   ],
   "source": [
    "random.choice(normalized_data)"
   ]
  },
  {
   "cell_type": "code",
   "execution_count": 12,
   "metadata": {},
   "outputs": [
    {
     "data": {
      "application/vnd.jupyter.widget-view+json": {
       "model_id": "608c7c9051644add93a5505fd416a455",
       "version_major": 2,
       "version_minor": 0
      },
      "text/plain": [
       "HBox(children=(FloatProgress(value=0.0, max=303.0), HTML(value='')))"
      ]
     },
     "metadata": {},
     "output_type": "display_data"
    },
    {
     "name": "stdout",
     "output_type": "stream",
     "text": [
      "\n"
     ]
    }
   ],
   "source": [
    "!rm -rf ../annotations\n",
    "annot_path.mkdir()\n",
    "for datum in tqdm(normalized_data):\n",
    "    id = get_id(datum)\n",
    "    with (annot_path/ f\"{id}.json\").open('w') as f:\n",
    "        json.dump(datum, f, indent=4)"
   ]
  },
  {
   "cell_type": "code",
   "execution_count": null,
   "metadata": {},
   "outputs": [],
   "source": []
  }
 ],
 "metadata": {
  "kernelspec": {
   "display_name": "Python 3",
   "language": "python",
   "name": "python3"
  },
  "language_info": {
   "codemirror_mode": {
    "name": "ipython",
    "version": 3
   },
   "file_extension": ".py",
   "mimetype": "text/x-python",
   "name": "python",
   "nbconvert_exporter": "python",
   "pygments_lexer": "ipython3",
   "version": "3.8.2"
  }
 },
 "nbformat": 4,
 "nbformat_minor": 4
}
