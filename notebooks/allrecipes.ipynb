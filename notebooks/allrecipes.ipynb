{
 "cells": [
  {
   "cell_type": "code",
   "execution_count": 1,
   "metadata": {},
   "outputs": [],
   "source": [
    "import json, random, re, collections, itertools,base64,hashlib\n",
    "from pathlib import Path\n",
    "from tqdm.notebook import tqdm\n",
    "import pandas as pd\n",
    "from operator import itemgetter as at\n",
    "from IPython.core.display import display, HTML\n",
    "from ipywidgets import interact\n",
    "display_html = lambda x: display(HTML(x))\n",
    "data_path = Path(\"../data\")\n",
    "annot_path = Path(\"../annotations\")"
   ]
  },
  {
   "cell_type": "code",
   "execution_count": 2,
   "metadata": {},
   "outputs": [
    {
     "data": {
      "text/plain": [
       "'oIfAVH2w'"
      ]
     },
     "execution_count": 2,
     "metadata": {},
     "output_type": "execute_result"
    }
   ],
   "source": [
    "def simple_hash(s, length=8):\n",
    "    md5bytes = hashlib.md5(s.encode('ascii',errors=\"ignore\")).digest()\n",
    "    ret = base64.urlsafe_b64encode(md5bytes).decode('ascii')\n",
    "    return ret[:length]\n",
    "\n",
    "simple_hash(\"baked potato\")"
   ]
  },
  {
   "cell_type": "code",
   "execution_count": 3,
   "metadata": {},
   "outputs": [],
   "source": [
    "import spacy\n",
    "nlp = spacy.load(\"en_core_web_sm\")"
   ]
  },
  {
   "cell_type": "markdown",
   "metadata": {},
   "source": [
    "# Normalize ingredients"
   ]
  },
  {
   "cell_type": "code",
   "execution_count": 4,
   "metadata": {},
   "outputs": [],
   "source": [
    "fname = data_path / \"normalized_top_ingredients.csv\"\n",
    "normalized_top_ingredients = dict()\n",
    "if fname.exists():\n",
    "    normalized_top_ingredients = dict(pd.read_csv(str(fname)).dropna()[[\"ingredient\", \"normalized\"]].values)"
   ]
  },
  {
   "cell_type": "code",
   "execution_count": 5,
   "metadata": {},
   "outputs": [],
   "source": [
    "units=[\"teaspoon\", \"tablespoon\", \"ounce\", \"inch\", \"inche\", \"cup\", \"pound\", \"kg\", \"tbsp\", \"ml\", \"pint\", \"oz\", \"can\", \"package\"]\n",
    "adjs = [\"large\", \"small\", \"medium\", \"fresh\", \"chopped\", \"minced\", \"sliced\"]\n",
    "no_units_pattern = re.compile(r\"^[\\d\\s(/)]*(?:{units})?\\s?(?:{adjs}){twice}[\\s(/)]*(.+)$\".format(\n",
    "    twice=\"{0,2}\",\n",
    "    units=\"|\".join([u+'s' for u in units]+units),\n",
    "    adjs=\"|\".join(adjs)),\n",
    "                             )\n",
    "\n",
    "def remove_parenthesis(s):\n",
    "    s=s.translate({ord(\"\\n\"):\" \", ord(\"½\"): \"1\", ord(\"¾\"): \"1\", ord(\"¼\"): \"1\"})\n",
    "    return re.sub(r\"\\([^()]+\\)\",\"\", s)\n",
    "\n",
    "def normalize_ingredient(s):\n",
    "    ret = no_units_pattern.findall(remove_parenthesis(s))\n",
    "    if len(ret)==0:\n",
    "        return None\n",
    "        raise Exception(\"'{s}' returned en empty string\".format(s=s))\n",
    "    ret=ret[0].rsplit(\",\", 1)[0]\n",
    "    return normalized_top_ingredients.get(ret,ret)\n",
    "\n",
    "\n",
    "def normalize_ingredients(lst):\n",
    "    ret = [normalize_ingredient(s) for s in lst]\n",
    "    ret = [s for s in ret if s is not None]\n",
    "    return ret"
   ]
  },
  {
   "cell_type": "markdown",
   "metadata": {},
   "source": [
    "# Data"
   ]
  },
  {
   "cell_type": "code",
   "execution_count": 6,
   "metadata": {},
   "outputs": [],
   "source": [
    "with (data_path / \"allrecipes-recipes.jsonl\").open('r') as f:\n",
    "    data = [json.loads(l) for l in f if '\\\\u00ae' not in l]"
   ]
  },
  {
   "cell_type": "code",
   "execution_count": 7,
   "metadata": {},
   "outputs": [
    {
     "data": {
      "application/vnd.jupyter.widget-view+json": {
       "model_id": "42c92ef36e7146b0bc4540d195be981f",
       "version_major": 2,
       "version_minor": 0
      },
      "text/plain": [
       "interactive(children=(IntSlider(value=3, description='lb', max=10, min=1), IntSlider(value=10, description='ub…"
      ]
     },
     "metadata": {},
     "output_type": "display_data"
    }
   ],
   "source": [
    "@interact(lb=(1,10),ub=(2,20), show_top_ingredients=False, show_sample=False)\n",
    "def filter_by_num_of_ingredients(lb=3, ub=10, show_top_ingredients=False, show_sample=False):\n",
    "    if show_top_ingredients:\n",
    "        c = collections.Counter([ing for d in data if lb<=len(d[\"ingredients\"])<=ub for ing in map(normalize_ingredient, d[\"ingredients\"])])\n",
    "        df = pd.DataFrame(c.most_common(), columns=[\"Ingredient\", \"#\"])\n",
    "        df[\"%\"] = df[\"#\"]/df[\"#\"].sum()\n",
    "        return df.head(20)\n",
    "    if show_sample:\n",
    "        return pd.DataFrame(random.sample([d[\"title\"] for d in data], 20), columns=[\"title\"])\n",
    "    return len([d[\"ingredients\"] for d in data if lb<=len(d[\"ingredients\"])<=ub])"
   ]
  },
  {
   "cell_type": "markdown",
   "metadata": {},
   "source": [
    "# Create sample"
   ]
  },
  {
   "cell_type": "code",
   "execution_count": 8,
   "metadata": {},
   "outputs": [],
   "source": [
    "def get_id(recipe):\n",
    "    return int(recipe[\"url\"].rstrip('/').split('/')[-1])"
   ]
  },
  {
   "cell_type": "code",
   "execution_count": 9,
   "metadata": {},
   "outputs": [
    {
     "data": {
      "text/plain": [
       "287"
      ]
     },
     "execution_count": 9,
     "metadata": {},
     "output_type": "execute_result"
    }
   ],
   "source": [
    "lookup_ingredients = {\"beef\", \"pork\", \"chicken\", \"tuna\", \"salmon\", \"lamb\", \"egg\", \"butter\", \"garlic\", \"onion\", \"avocado\", \"tomato\", \"soy\", \"honey\", \"chili\", \"feta\", \"corn\"}\n",
    "sampled_data = [d for d in data if (not d[\"error\"]) and \"®\" not in \"\".join(d[\"ingredients\"])]\n",
    "sampled_data = [d for d in sampled_data if 3<len(d[\"ingredients\"])<10]\n",
    "sampled_data = [d for d in sampled_data if len(lookup_ingredients&set(\" \".join(d[\"ingredients\"]).lower().split()))>3]\n",
    "sampled_data = [random.choice(list(recipes)) for author, recipes in itertools.groupby(sorted(sampled_data, key=at(\"author\")), at(\"author\"))]\n",
    "len(sampled_data)"
   ]
  },
  {
   "cell_type": "code",
   "execution_count": 10,
   "metadata": {},
   "outputs": [
    {
     "data": {
      "text/plain": [
       "[(2, 5), (1, 4), (3, 2)]"
      ]
     },
     "execution_count": 10,
     "metadata": {},
     "output_type": "execute_result"
    }
   ],
   "source": [
    "collections.Counter([1,1,1,1,2,3,2,3,2,2,2]).most_common()"
   ]
  },
  {
   "cell_type": "code",
   "execution_count": 11,
   "metadata": {},
   "outputs": [
    {
     "data": {
      "application/vnd.jupyter.widget-view+json": {
       "model_id": "ce3ed90abea8478b8ba943cd4b04506c",
       "version_major": 2,
       "version_minor": 0
      },
      "text/plain": [
       "HBox(children=(FloatProgress(value=0.0, max=287.0), HTML(value='')))"
      ]
     },
     "metadata": {},
     "output_type": "display_data"
    },
    {
     "name": "stdout",
     "output_type": "stream",
     "text": [
      "\n",
      "We have 287 recipes, with 734 ingredients\n"
     ]
    }
   ],
   "source": [
    "normalized_data = []\n",
    "ingredients_map = collections.Counter()\n",
    "for datum in tqdm(sampled_data):\n",
    "    d = dict()\n",
    "    for k in [\"ingredients\", \"instructions\", \"title\", \"photo_url\", \"url\"]:\n",
    "        d[k] = datum[k]\n",
    "    d[\"normalized_ingredients\"] = normalize_ingredients(datum[\"ingredients\"])\n",
    "    assert len(d[\"normalized_ingredients\"]) == len(d[\"ingredients\"])\n",
    "    ingredients_map += collections.Counter(d[\"normalized_ingredients\"])\n",
    "    d[\"status\"]=0\n",
    "    normalized_data.append(d)\n",
    "    \n",
    "ingredients_map={ing: \"I\"+simple_hash(ing) for ing, c in ingredients_map.most_common()}\n",
    "for datum in normalized_data:\n",
    "    datum[\"normalized_ingredients\"]=dict(zip(map(ingredients_map.get,datum[\"normalized_ingredients\"]),\n",
    "                                        datum[\"normalized_ingredients\"]))\n",
    "    datum[\"steps\"]=datum[\"instructions\"]\n",
    "    datum[\"instructions\"]=[str(sent) for step in datum[\"steps\"] for sent in nlp(step).sents]\n",
    "    datum[\"labels\"]=[[] for _ in range(len(datum[\"instructions\"]))]\n",
    "    \n",
    "with (data_path / \"ingredients_map.json\").open('w') as f:\n",
    "    json.dump(ingredients_map, f)\n",
    "print (\"We have {n} recipes, with {m} ingredients\".format(n=len(normalized_data), m=len(ingredients_map)))"
   ]
  },
  {
   "cell_type": "markdown",
   "metadata": {},
   "source": [
    "### Check ingredients that map to single normalized ingredients"
   ]
  },
  {
   "cell_type": "code",
   "execution_count": 12,
   "metadata": {},
   "outputs": [
    {
     "data": {
      "text/html": [
       "<b>Easy Garlic Broiled Chicken</b><br><table><br><tr><td>1/2 cup butter</td><td>butter</td></tr><br><tr><td>3 tablespoons minced garlic</td><td>garlic</td></tr><br><tr><td>3 tablespoons soy sauce</td><td>soy sauce</td></tr><br><tr><td>1/4 teaspoon black pepper</td><td>black pepper</td></tr><br><tr><td>1 tablespoon dried parsley</td><td>dried parsley</td></tr><br><tr><td>6 boneless chicken thighs, with skin</td><td>boneless chicken thighs</td></tr><br><tr><td>dried parsley, to taste</td><td><font color=\"red\">dried parsley</font></td></tr><br></table><br><b>Brown Sugar Glazed Pork Chops</b><br><table><br><tr><td>1/2 cup chopped celery</td><td>celery</td></tr><br><tr><td>1/2 cup chopped onion</td><td>onion</td></tr><br><tr><td>1/2 tablespoon butter</td><td>butter</td></tr><br><tr><td>15 slices day-old bread, torn into small pieces</td><td>slices day-old bread</td></tr><br><tr><td>1/2 tablespoon Greek-style seasoning</td><td>Greek-style seasoning</td></tr><br><tr><td>1 (14 ounce) can chicken broth</td><td>chicken broth</td></tr><br><tr><td>6 pork chops</td><td>pork chops</td></tr><br><tr><td>1 cup packed brown sugar</td><td>packed brown sugar</td></tr><br><tr><td>1/2 cup butter, melted</td><td><font color=\"red\">butter</font></td></tr><br></table><br><b>Zucchini Lunchixa</b><br><table><br><tr><td>2 tablespoons butter</td><td>butter</td></tr><br><tr><td>2 tablespoons chopped garlic</td><td>garlic</td></tr><br><tr><td>1 cup thinly sliced zucchini</td><td>thinly sliced zucchini</td></tr><br><tr><td>1/4 cup chopped onion</td><td>onion</td></tr><br><tr><td>1 skinless, boneless chicken breast, cut into 1/2 inch slices</td><td>skinless, boneless chicken breast</td></tr><br><tr><td>1 tablespoon butter</td><td><font color=\"red\">butter</font></td></tr><br></table>"
      ],
      "text/plain": [
       "<IPython.core.display.HTML object>"
      ]
     },
     "metadata": {},
     "output_type": "display_data"
    }
   ],
   "source": [
    "output = []\n",
    "normalizing_errors=[]\n",
    "for idx, datum in enumerate(normalized_data):\n",
    "    if len(datum[\"normalized_ingredients\"])==len(datum[\"ingredients\"]):\n",
    "        continue\n",
    "    normalizing_errors.append(idx)\n",
    "    output.append(\"<b>{t}</b>\".format(t=datum[\"title\"]))\n",
    "    output.append(\"<table>\")\n",
    "    already_mapped_ings=set()\n",
    "    for i in datum[\"ingredients\"]:\n",
    "        n=normalize_ingredient(i)\n",
    "        if n in already_mapped_ings:\n",
    "            n=\"<font color=\\\"red\\\">{n}</font>\".format(n=n)\n",
    "        output.append(\"<tr><td>{i}</td><td>{n}</td></tr>\".format(i=i,n=n))\n",
    "        already_mapped_ings.add(n)\n",
    "    output.append(\"</table>\")\n",
    "display_html(\"<br>\".join(output))"
   ]
  },
  {
   "cell_type": "code",
   "execution_count": 13,
   "metadata": {},
   "outputs": [],
   "source": [
    "for idx in reversed(normalizing_errors):\n",
    "    del normalized_data[idx]\n",
    "normalizing_errors=[]"
   ]
  },
  {
   "cell_type": "code",
   "execution_count": 14,
   "metadata": {},
   "outputs": [
    {
     "data": {
      "text/plain": [
       "['A Good Easy Garlic Chicken',\n",
       " 'A Homemade San Francisco Treat: Chicken Vermicelli Rice',\n",
       " 'All Protein Meatloaf',\n",
       " 'Amazing Pork Tenderloin in the Slow Cooker',\n",
       " \"Amber's Super Stuffing\",\n",
       " \"Amber's Super Stuffing\",\n",
       " 'Amish Casserole',\n",
       " 'Apple and Orange Chicken',\n",
       " 'Asian Citrus-Grilled Salmon',\n",
       " 'Asian Ginger Catfish',\n",
       " 'Asian Ginger Grill Marinade',\n",
       " 'Asian Turkey Burgers',\n",
       " \"Aunt Ro's Baked Beans\",\n",
       " 'Bacon Pork Tenderloin',\n",
       " 'Barbeque Sauce for Meat Sandwiches',\n",
       " 'Basic Beef Starter',\n",
       " 'Beef Noodle Bake',\n",
       " 'Beefy Tomato Soup',\n",
       " 'Best Ever Brisket',\n",
       " 'Best Ever Meatloaf I',\n",
       " 'Best-Ever Cornbread-Sausage Stuffing',\n",
       " \"Bev's Orange Chicken\",\n",
       " \"Big Ray's Tropical Island Chicken\",\n",
       " 'Bourbon Chicken',\n",
       " 'Braised Pork Chops',\n",
       " 'Breaded Chicken Wings',\n",
       " 'Breaded Pork Chops',\n",
       " 'Breakfast Sausage',\n",
       " 'Broccoli Beef Noodles',\n",
       " 'Bunkhouse Beans',\n",
       " 'Cajun Buttered Corn',\n",
       " 'Campfire Stew',\n",
       " 'Candied Curried Pecans',\n",
       " 'Caramelized Chicken Wings',\n",
       " 'Cheesy Corn',\n",
       " 'Chicken Liver and Pistachio Nut Pate',\n",
       " 'Chicken Lollipops',\n",
       " 'Chicken Nepiev',\n",
       " 'Chicken Piccata II',\n",
       " 'Chicken Salad with Grapes and Apples',\n",
       " 'Chicken Sausage Marinara over Polenta',\n",
       " 'Chicken Stroganoff II',\n",
       " 'Chicken and Corn Chili',\n",
       " 'Chili Chicken',\n",
       " 'Chili For Two',\n",
       " 'Chili Soup',\n",
       " 'Chili Style Coney Sauce',\n",
       " 'Chili-Crusted Tri-Tip Roast',\n",
       " 'Chinese Chicken Fried Rice II',\n",
       " 'Chinese Chicken Wings',\n",
       " 'Chipotle Honey Roasted Peanuts',\n",
       " \"Chris' Best Burgers\",\n",
       " \"Christoph's Mediterranean Spinach and Sun Dried Tomato Dish\",\n",
       " 'Cinnamon Pork Tenderloin',\n",
       " 'Classic Bangers and Mash',\n",
       " 'Cocktail Meatballs',\n",
       " 'Coffee Marinated Steak',\n",
       " 'Coney Sauce',\n",
       " 'Corned Beef Noodle Casserole',\n",
       " \"Cousin David's Slow Cooker Brisket\",\n",
       " 'Cowboy Stew I',\n",
       " 'Creamed Beef for SOS',\n",
       " 'Creamy Mushroom Soup',\n",
       " 'Creamy Peanut Stir-Fried Chicken',\n",
       " 'Creamy Potato and Corn Soup',\n",
       " 'Creamy Spinach Soup',\n",
       " 'Crescent-Topped Casserole',\n",
       " 'Crunchy Walnut Coated Chicken Strips',\n",
       " \"Daddy's Sloppy Soup\",\n",
       " \"Debdoozie's Blue Ribbon Chili\",\n",
       " 'Dilly Chicken Sandwiches',\n",
       " 'Easy Bake Brisket',\n",
       " 'Easy Barbecued Pork Chops',\n",
       " 'Easy Blender Red Pepper Sauce',\n",
       " 'Easy Chicken Fajita Marinade',\n",
       " 'Easy Chicken and Bell Pepper Fajitas',\n",
       " 'Easy Homemade Chili',\n",
       " 'Easy Mexican Casserole',\n",
       " 'Easy Oven-Fried Pork Chops',\n",
       " 'Easy Tater Tot Hot Dish',\n",
       " 'Easy Teriyaki Chops',\n",
       " 'Egg Foo Yung with Mushroom Sauce',\n",
       " 'Egg Rolls a la Paye',\n",
       " \"Emily's Pizza Burgers\",\n",
       " 'Fairy Godmother Rice',\n",
       " 'Faken (Veggie Bacon)',\n",
       " 'Fiery Beef Satay Skewers',\n",
       " 'Fish Friday Tuna Burgers',\n",
       " \"Fit-To-Be-Thai'd Peanut Chicken\",\n",
       " 'Flavorful Flank Steak',\n",
       " 'Flavorful Tomato Soup',\n",
       " 'Foil-Pack Oriental Chicken Dinner',\n",
       " 'Franks in Peanut Butter and Chutney',\n",
       " 'Fried meatballs in tomato sauce',\n",
       " 'Garlic Lime Roasted Chicken Drumsticks',\n",
       " 'Garlic Mustard Ground Beef',\n",
       " 'Garlic Soup',\n",
       " 'Gluten-Free Teriyaki Sauce',\n",
       " 'Goulash I',\n",
       " 'Goulash Supreme',\n",
       " \"Grandma's Corn Bread Dressing\",\n",
       " 'Green Bean Bundles',\n",
       " 'Grilled Chicken Adobo',\n",
       " 'Grilled Ginger-Soy Chicken',\n",
       " 'Grilled Honey-Soy Pork Steaks',\n",
       " 'Ground Beef Jerky',\n",
       " 'Gyros',\n",
       " 'Halushki',\n",
       " 'Hamburger Hot Dish',\n",
       " 'Hamburger Mac Skillet',\n",
       " 'Hamburger Stew',\n",
       " 'Hamburger Vegetable Soup',\n",
       " 'Hamburger and Macaroni Hot Dish',\n",
       " 'Hash Brown Casserole III',\n",
       " 'Hawaiian-Style Meatballs',\n",
       " 'Herbed Rice Pilaf',\n",
       " 'Hibachi-Style Fried Rice',\n",
       " 'Hoisin Sauce',\n",
       " 'Hoisin-Glazed Salmon',\n",
       " 'Holiday Roast Turkey with Herb Stuffing',\n",
       " \"Holly's Texas Brisket\",\n",
       " 'Home-Style Buffalo Wings',\n",
       " 'Home-Style Chicken Piccata',\n",
       " 'Homemade Beef Jerky',\n",
       " 'Homemade Chili Sauce',\n",
       " 'Honey BBQ-Marinated Chicken Drumsticks',\n",
       " 'Honey Baked Ribs',\n",
       " 'Honey Garlic Chicken Wings',\n",
       " 'Honey Garlic Chicken with Rosemary',\n",
       " 'Honey Garlic Ribs',\n",
       " 'Honey Mustard Pork Chops',\n",
       " 'Honey-Garlic Moose Meatballs',\n",
       " 'Honey-Garlic Pork Ribs',\n",
       " 'Honey-Ginger Grilled Salmon',\n",
       " 'Honey-Grilled Pork Chops',\n",
       " 'Honey-Lime Chicken Enchiladas',\n",
       " 'Honey-Pecan Chicken Breasts',\n",
       " 'Hot Dog Chili Sauce',\n",
       " 'Incredibly Easy Chicken and Noodles',\n",
       " 'Inside-Out Pork Chops',\n",
       " 'Italian Paleo Chicken Meat Loaf',\n",
       " 'Jalapeno-Blue Cheese Burgers',\n",
       " 'Jerked Balsamic Pork Tenderloin',\n",
       " \"Jill's Sweet and Tangy Meatloaf\",\n",
       " 'Jimmy Dean Mini Sausage Chimichangas',\n",
       " \"Joan's Quick Chili\",\n",
       " 'KRAFT RECIPE MAKERS Asian Style Chili Steak and String Beans',\n",
       " \"Kari's Delicious Drummettes\",\n",
       " 'Key West Chicken',\n",
       " 'Killer Fried Pork Chops',\n",
       " 'Lancashire Hot Pot',\n",
       " 'Lemon Butter Chicken',\n",
       " \"Leslie's Strawberry Breakfast Chops\",\n",
       " 'Low Carb Lamb Burgers',\n",
       " 'Macaroni with Beef',\n",
       " 'Malaysian Barbecue Chicken Wings',\n",
       " 'Maple Pork Slices',\n",
       " 'Maple Salmon with Mushroom Couscous',\n",
       " 'Maple Teriyaki Salmon Fillets',\n",
       " 'Marchetti',\n",
       " 'Marinated Flank Steak',\n",
       " 'Marinated Pork Tenderloin',\n",
       " 'Marinated Sirloin Steaks',\n",
       " 'Marinated Spicy Pork Chops',\n",
       " 'Mediterranean Puff Pastry Chicken',\n",
       " 'Mediterranean Stuffed Chicken',\n",
       " \"Melanie's Chili\",\n",
       " 'Mexican Manicotti',\n",
       " 'Mexican Rice II',\n",
       " \"Michael's Chicken\",\n",
       " 'Middle Eastern Pasta With Yogurt and Pine Nuts',\n",
       " \"Mom's Great Green Beans\",\n",
       " \"Mumze's Sticky Chicken\",\n",
       " 'Nacho Pie II',\n",
       " 'No-Fuss Beef Roast',\n",
       " 'Onion Strips',\n",
       " 'Orange, Honey and Soy Chicken',\n",
       " 'Oriental Pork Chops',\n",
       " 'Oven Roasted Ribs',\n",
       " 'Oven-Dried Beef Jerky',\n",
       " 'Pan-Barbecued Pork',\n",
       " 'Peanut Butter Sauce Chicken',\n",
       " 'Peanut Butter and Jelly Burger',\n",
       " 'Peanut Dipping Sauce',\n",
       " 'Peanut Noodles with Shredded Chicken and Vegetables',\n",
       " 'Pork Chop Tonkotsu Broth',\n",
       " 'Pork Chops in Tomato Sauce',\n",
       " 'Pork Chops with Tangy Honey Sauce',\n",
       " 'Potato Corn Casserole',\n",
       " 'Potato Soup with Spinach Dumplings',\n",
       " 'Pronto Beef and Rice',\n",
       " 'Putzwutz',\n",
       " 'Quick Bean and Turkey Italian Meatballs',\n",
       " 'Quick Enchilada Sauce',\n",
       " 'Quickie French Onion Soup',\n",
       " \"R. B. Miller's Gyro Meat\",\n",
       " \"RC's Baked Peanut Chicken\",\n",
       " 'Ribs with Plum Sauce',\n",
       " 'Rice Pie',\n",
       " 'Roast Beef and Cheese Roll Ups',\n",
       " 'Roasted Pork Tenderloin with Sage Corn Bread Crust',\n",
       " 'Romaine with Chipotle Vinaigrette and Queso Fresco',\n",
       " \"Ryan's Gourmet BBQ Sauce\",\n",
       " 'Salisbury Steak',\n",
       " 'Santa Fe Corn on the Cob',\n",
       " \"Sarah's Easy Shredded Chicken Taco Filling\",\n",
       " \"Sarah's Feta Rice Pilaf\",\n",
       " 'Saucy Apple Pork Chops',\n",
       " 'Sausage Bean Soup',\n",
       " 'Sausage and Apple Stuffing',\n",
       " 'Sausage and Zucchini Soup',\n",
       " 'Savory Hamburger Supper',\n",
       " 'Seasoned Couscous',\n",
       " 'Seasoned Noodle Mix',\n",
       " 'Sesame Beef Tenderloin',\n",
       " 'Sesame Pork',\n",
       " 'Seven Spiced Shark Steaks',\n",
       " \"Sheila's Grilled Pork Tenderloin\",\n",
       " 'Simple Sloppy Joes',\n",
       " 'Simple Spare Ribs',\n",
       " 'Sissy Casserole',\n",
       " 'Skillet Chicken Bulgogi',\n",
       " 'Slow Cooker Beef Barbacoa',\n",
       " 'Slow Cooker Maple Country Style Ribs',\n",
       " \"Slow Cooker Sausage 'n' Grits Meatloaf\",\n",
       " 'Slumgullion',\n",
       " 'Snoogy Chicken',\n",
       " 'Southwestern Chicken Soup',\n",
       " 'Spaghetti Sauce III',\n",
       " 'Spaghetti With Peanut Butter Sauce',\n",
       " 'Spaghetti with Corned Beef',\n",
       " 'Special Strip Steaks',\n",
       " 'Spiced Honey Pretzels',\n",
       " 'Spicy Beijing Pecans',\n",
       " 'Spicy Chinese Chicken Wings',\n",
       " 'Spicy Honey-Roasted Chicken',\n",
       " 'Spicy Kimchi Chicken Rotini',\n",
       " 'Sriracha Honey Chicken',\n",
       " 'Steak Marinade Extraordinaire',\n",
       " 'Stout Steak',\n",
       " 'Stuffing Balls',\n",
       " 'Sunshine Chicken',\n",
       " 'Surprise Pasta ',\n",
       " 'Swedish Meatballs I',\n",
       " \"Sweet 'n' Spicy Roasted Corn\",\n",
       " 'Sweet Grilled Steak Bites',\n",
       " 'Sweet Spicy Wings',\n",
       " 'Sweet and Nutty Pork Chops',\n",
       " 'Sweet and Sour Pork Chops',\n",
       " 'Sweet and Spicy Green Beans',\n",
       " 'Sweet and Tangy Apple Pork Chops',\n",
       " 'Sweet, Sticky and Spicy Chicken',\n",
       " 'Talerine',\n",
       " 'Talerini',\n",
       " 'Tallerine',\n",
       " \"Tami's Red Sauce: Bolognese Tomato Sauce with Ground Beef\",\n",
       " 'Tangy Ginger Lime Salad Dressing',\n",
       " 'Ten Minute Enchilada Sauce',\n",
       " 'Tenderloin with Herb Sauce',\n",
       " 'Teriyaki Finger Steaks',\n",
       " 'Teriyaki Tuna Steaks',\n",
       " \"Terry's Beer Chicken\",\n",
       " 'Texas-Style Baked Beans',\n",
       " 'Thai Grilled Chicken',\n",
       " 'Thirty-Minute Baked Tuna Burgers',\n",
       " 'Three Bean Casserole',\n",
       " 'Toscana Soup',\n",
       " 'Traditional Stuffed Peppers',\n",
       " 'Tuna Noodle Casserole I',\n",
       " 'Turkey Florentine',\n",
       " 'Turkey Noodle Soup Mix',\n",
       " 'Venison Pot Roast and Gravy',\n",
       " \"ViVi's Bacon and Tomato Soup\",\n",
       " 'Weenieladas',\n",
       " 'Wild Rice Turkey Dish',\n",
       " 'Wings In Cola',\n",
       " 'Wings with Mint Leaves and Honey',\n",
       " \"Women's Club Sloppy Joes\",\n",
       " 'Yankee-Doodle Sirloin Roast',\n",
       " 'Yummy Honey Chicken Kabobs',\n",
       " 'Zesty Chicken Wings',\n",
       " 'Zesty Porcupine Meatballs',\n",
       " 'Zucchini Beef Casserole',\n",
       " 'eDiets Low Carb Tangy Pork Chop']"
      ]
     },
     "execution_count": 14,
     "metadata": {},
     "output_type": "execute_result"
    }
   ],
   "source": [
    "sorted(map(at(\"title\"),normalized_data))"
   ]
  },
  {
   "cell_type": "code",
   "execution_count": 15,
   "metadata": {},
   "outputs": [
    {
     "data": {
      "text/plain": [
       "{'ingredients': ['1 pound ground beef',\n",
       "  '4 cups chicken broth',\n",
       "  '4 cups water',\n",
       "  '2 (1 ounce) packages dry onion soup mix',\n",
       "  '1 (15 ounce) can tomato sauce',\n",
       "  '2 stalks celery, chopped',\n",
       "  '1 onion, chopped',\n",
       "  '1 (16 ounce) package frozen mixed vegetables',\n",
       "  '3/4 cup elbow macaroni'],\n",
       " 'instructions': ['In a saute pan, brown ground beef, over medium heat.',\n",
       "  'In a large stock pot, combine broth, water, onion soup mix, tomato sauce, celery, onion, frozen vegetables and macaroni.',\n",
       "  'Bring to a boil and then simmer until macaroni is done.',\n",
       "  'Add browned ground beef, mix and serve.'],\n",
       " 'title': 'Hamburger Vegetable Soup',\n",
       " 'photo_url': 'http://images.media-allrecipes.com/userphotos/250x250/160393.jpg',\n",
       " 'url': 'http://allrecipes.com/Recipe/13323/',\n",
       " 'normalized_ingredients': {'INzU_lxpu': 'ground beef',\n",
       "  'INNbMITPe': 'chicken broth',\n",
       "  'IlGA3C7DK': 'water',\n",
       "  'I8IdKkoFz': 'dry onion soup mix',\n",
       "  'I-4q8Lxl1': 'tomato sauce',\n",
       "  'IUW0Gg5k3': 'stalks celery',\n",
       "  'Iz0wiMjVJ': 'onion',\n",
       "  'IstAVOrIO': 'frozen mixed vegetables',\n",
       "  'IfPFKkTKu': 'elbow macaroni'},\n",
       " 'status': 0,\n",
       " 'steps': ['In a saute pan, brown ground beef, over medium heat.',\n",
       "  'In a large stock pot, combine broth, water, onion soup mix, tomato sauce, celery, onion, frozen vegetables and macaroni. Bring to a boil and then simmer until macaroni is done.',\n",
       "  'Add browned ground beef, mix and serve.'],\n",
       " 'labels': [[], [], [], []]}"
      ]
     },
     "execution_count": 15,
     "metadata": {},
     "output_type": "execute_result"
    }
   ],
   "source": [
    "random.choice(normalized_data)"
   ]
  },
  {
   "cell_type": "code",
   "execution_count": 16,
   "metadata": {},
   "outputs": [
    {
     "data": {
      "application/vnd.jupyter.widget-view+json": {
       "model_id": "c8e82cbbc5ea4d8c8a9567ce49079263",
       "version_major": 2,
       "version_minor": 0
      },
      "text/plain": [
       "HBox(children=(FloatProgress(value=0.0, max=284.0), HTML(value='')))"
      ]
     },
     "metadata": {},
     "output_type": "display_data"
    },
    {
     "name": "stdout",
     "output_type": "stream",
     "text": [
      "\n"
     ]
    }
   ],
   "source": [
    "!rm -rf ../annotations\n",
    "annot_path.mkdir()\n",
    "for datum in tqdm(normalized_data):\n",
    "    id = get_id(datum)\n",
    "    with (annot_path/ f\"{id}.json\").open('w') as f:\n",
    "        json.dump(datum, f, indent=4)"
   ]
  }
 ],
 "metadata": {
  "kernelspec": {
   "display_name": "Python 3",
   "language": "python",
   "name": "python3"
  },
  "language_info": {
   "codemirror_mode": {
    "name": "ipython",
    "version": 3
   },
   "file_extension": ".py",
   "mimetype": "text/x-python",
   "name": "python",
   "nbconvert_exporter": "python",
   "pygments_lexer": "ipython3",
   "version": "3.8.2"
  }
 },
 "nbformat": 4,
 "nbformat_minor": 4
}
