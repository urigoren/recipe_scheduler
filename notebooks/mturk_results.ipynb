{
 "cells": [
  {
   "cell_type": "code",
   "execution_count": 1,
   "metadata": {},
   "outputs": [],
   "source": [
    "import json, random, re, collections, itertools, base64, sys\n",
    "from copy import deepcopy\n",
    "from pathlib import Path\n",
    "from tqdm.notebook import tqdm\n",
    "import numpy as np\n",
    "import pandas as pd\n",
    "from operator import itemgetter as at\n",
    "from IPython.core.display import display, HTML\n",
    "from ipywidgets import interact\n",
    "display_html = lambda x: display(HTML(str(x)))\n",
    "from pprint import pprint as pp\n",
    "ls = lambda path: list(map(str, path.iterdir()))\n",
    "\n",
    "sys.path.append('../src')\n",
    "mturk_path = Path(\"../mturk/results\")\n",
    "data_path = Path(\"../data\")\n",
    "preprocessed_path = Path(\"../preprocessed\")\n",
    "\n",
    "%load_ext autoreload\n",
    "%autoreload 2"
   ]
  },
  {
   "cell_type": "code",
   "execution_count": 2,
   "metadata": {},
   "outputs": [
    {
     "data": {
      "text/plain": [
       "['../mturk/results/Batch_4280306_batch_results.csv:Zone.Identifier',\n",
       " '../mturk/results/Batch_4258572_batch_results.csv',\n",
       " '../mturk/results/Batch_4280306_batch_results.csv']"
      ]
     },
     "execution_count": 2,
     "metadata": {},
     "output_type": "execute_result"
    }
   ],
   "source": [
    "ls(mturk_path)"
   ]
  },
  {
   "cell_type": "code",
   "execution_count": 3,
   "metadata": {},
   "outputs": [
    {
     "data": {
      "text/html": [
       "<div>\n",
       "<style scoped>\n",
       "    .dataframe tbody tr th:only-of-type {\n",
       "        vertical-align: middle;\n",
       "    }\n",
       "\n",
       "    .dataframe tbody tr th {\n",
       "        vertical-align: top;\n",
       "    }\n",
       "\n",
       "    .dataframe thead th {\n",
       "        text-align: right;\n",
       "    }\n",
       "</style>\n",
       "<table border=\"1\" class=\"dataframe\">\n",
       "  <thead>\n",
       "    <tr style=\"text-align: right;\">\n",
       "      <th></th>\n",
       "      <th>HITId</th>\n",
       "      <th>HITTypeId</th>\n",
       "      <th>WorkerId</th>\n",
       "      <th>events</th>\n",
       "      <th>feedback</th>\n",
       "      <th>id</th>\n",
       "      <th>status</th>\n",
       "    </tr>\n",
       "    <tr>\n",
       "      <th>AssignmentId</th>\n",
       "      <th></th>\n",
       "      <th></th>\n",
       "      <th></th>\n",
       "      <th></th>\n",
       "      <th></th>\n",
       "      <th></th>\n",
       "      <th></th>\n",
       "    </tr>\n",
       "  </thead>\n",
       "  <tbody>\n",
       "    <tr>\n",
       "      <th>354GIDR5ZH1VMLMJ416WJOK9FKS00Z</th>\n",
       "      <td>32L724R86QF7UDAPZA5RF9PQESGIPI</td>\n",
       "      <td>3PUZG2R74XFTJN1AOYZP8I3IL1754O</td>\n",
       "      <td>A2VRDE2FHCBMF8</td>\n",
       "      <td>[[{\"start\":\"2020-01-01T00:00:00\",\"end\":\"2020-0...</td>\n",
       "      <td>{}</td>\n",
       "      <td>52446</td>\n",
       "      <td>1</td>\n",
       "    </tr>\n",
       "    <tr>\n",
       "      <th>3WMOAN2SRHSE0IF684WJFT6CH9FNVO</th>\n",
       "      <td>3511RHPAE09UWRYAX56TCKHXWEYLRR</td>\n",
       "      <td>3PUZG2R74XFTJN1AOYZP8I3IL1754O</td>\n",
       "      <td>A1KEA2Z47S3UPI</td>\n",
       "      <td>[[{\"start\":\"2020-01-01T00:00:00\",\"end\":\"2020-0...</td>\n",
       "      <td>{}</td>\n",
       "      <td>233689</td>\n",
       "      <td>1</td>\n",
       "    </tr>\n",
       "  </tbody>\n",
       "</table>\n",
       "</div>"
      ],
      "text/plain": [
       "                                                         HITId  \\\n",
       "AssignmentId                                                     \n",
       "354GIDR5ZH1VMLMJ416WJOK9FKS00Z  32L724R86QF7UDAPZA5RF9PQESGIPI   \n",
       "3WMOAN2SRHSE0IF684WJFT6CH9FNVO  3511RHPAE09UWRYAX56TCKHXWEYLRR   \n",
       "\n",
       "                                                     HITTypeId  \\\n",
       "AssignmentId                                                     \n",
       "354GIDR5ZH1VMLMJ416WJOK9FKS00Z  3PUZG2R74XFTJN1AOYZP8I3IL1754O   \n",
       "3WMOAN2SRHSE0IF684WJFT6CH9FNVO  3PUZG2R74XFTJN1AOYZP8I3IL1754O   \n",
       "\n",
       "                                      WorkerId  \\\n",
       "AssignmentId                                     \n",
       "354GIDR5ZH1VMLMJ416WJOK9FKS00Z  A2VRDE2FHCBMF8   \n",
       "3WMOAN2SRHSE0IF684WJFT6CH9FNVO  A1KEA2Z47S3UPI   \n",
       "\n",
       "                                                                           events  \\\n",
       "AssignmentId                                                                        \n",
       "354GIDR5ZH1VMLMJ416WJOK9FKS00Z  [[{\"start\":\"2020-01-01T00:00:00\",\"end\":\"2020-0...   \n",
       "3WMOAN2SRHSE0IF684WJFT6CH9FNVO  [[{\"start\":\"2020-01-01T00:00:00\",\"end\":\"2020-0...   \n",
       "\n",
       "                               feedback      id  status  \n",
       "AssignmentId                                             \n",
       "354GIDR5ZH1VMLMJ416WJOK9FKS00Z       {}   52446       1  \n",
       "3WMOAN2SRHSE0IF684WJFT6CH9FNVO       {}  233689       1  "
      ]
     },
     "execution_count": 3,
     "metadata": {},
     "output_type": "execute_result"
    }
   ],
   "source": [
    "def load_results(batch):\n",
    "    df = pd.read_csv(str(next(mturk_path.rglob(f\"*{batch}*.csv\"))))\n",
    "    df = df[[c for c in df.columns if \"Answer.\" in c or 'Id' in c]]\n",
    "    df = df.rename(columns={c:c.split('.',1)[1] for c in df.columns if '.' in c})\n",
    "    return df.set_index(\"AssignmentId\")\n",
    "batch = 4280306\n",
    "df=load_results(batch)\n",
    "df"
   ]
  },
  {
   "cell_type": "code",
   "execution_count": 4,
   "metadata": {},
   "outputs": [],
   "source": [
    " status_map = {\n",
    " \"1\": \"All OK\",\n",
    " \"0\": \"All OK, not finished\",\n",
    " \"-1\": \"Missing Tool\",\n",
    " \"-2\": \"Missing Resource\",\n",
    " \"-3\": \"Missing Ingredient\",\n",
    " \"-4\": \"Redundant unused ingredient\",\n",
    " \"-5\": \"Missing Time Boundry\",\n",
    " \"-6\": \"Activity\",\n",
    "\"-7\": \"Validation Error\",\n",
    " \"-10\": \"Other issue\",\n",
    " }"
   ]
  },
  {
   "cell_type": "code",
   "execution_count": 5,
   "metadata": {},
   "outputs": [
    {
     "data": {
      "text/html": [
       "<a href=\"http://127.0.0.1:8080/annotate/4280306/354GIDR5ZH1VMLMJ416WJOK9FKS00Z\" target=\"_new\">52446 - All OK</a><br /><a href=\"http://127.0.0.1:8080/annotate/4280306/3WMOAN2SRHSE0IF684WJFT6CH9FNVO\" target=\"_new\">233689 - All OK</a><br />"
      ],
      "text/plain": [
       "<IPython.core.display.HTML object>"
      ]
     },
     "metadata": {},
     "output_type": "display_data"
    }
   ],
   "source": [
    "html=\"\"\n",
    "for assignment, row in df.iterrows():\n",
    "    idx = row[\"id\"]\n",
    "    status = status_map[str(row[\"status\"])]\n",
    "    html+=f'<a href=\"http://127.0.0.1:8080/annotate/{batch}/{assignment}\" target=\"_new\">{idx} - {status}</a><br />'\n",
    "display_html(html)"
   ]
  },
  {
   "cell_type": "code",
   "execution_count": null,
   "metadata": {},
   "outputs": [],
   "source": []
  }
 ],
 "metadata": {
  "kernelspec": {
   "display_name": "Python 3",
   "language": "python",
   "name": "python3"
  },
  "language_info": {
   "codemirror_mode": {
    "name": "ipython",
    "version": 3
   },
   "file_extension": ".py",
   "mimetype": "text/x-python",
   "name": "python",
   "nbconvert_exporter": "python",
   "pygments_lexer": "ipython3",
   "version": "3.8.5"
  }
 },
 "nbformat": 4,
 "nbformat_minor": 4
}
