{
 "cells": [
  {
   "cell_type": "code",
   "execution_count": 3,
   "metadata": {},
   "outputs": [
    {
     "name": "stdout",
     "output_type": "stream",
     "text": [
      "The autoreload extension is already loaded. To reload it, use:\n",
      "  %reload_ext autoreload\n"
     ]
    }
   ],
   "source": [
    "import json, random, re, collections, itertools, base64, sys\n",
    "from copy import deepcopy\n",
    "from pathlib import Path\n",
    "from tqdm.notebook import tqdm\n",
    "import numpy as np\n",
    "import pandas as pd\n",
    "from operator import itemgetter as at\n",
    "from IPython.core.display import display, HTML\n",
    "from ipywidgets import interact\n",
    "display_html = lambda x: display(HTML(str(x)))\n",
    "from pprint import pprint as pp\n",
    "ls = lambda path: list(map(str, path.iterdir()))\n",
    "\n",
    "sys.path.append('../src')\n",
    "mturk_path = Path(\"../mturk/results\")\n",
    "data_path = Path(\"../data\")\n",
    "preprocessed_path = Path(\"../preprocessed\")\n",
    "\n",
    "%load_ext autoreload\n",
    "%autoreload 2"
   ]
  },
  {
   "cell_type": "code",
   "execution_count": 4,
   "metadata": {},
   "outputs": [
    {
     "data": {
      "text/plain": [
       "['../mturk/results/Batch_4258572_batch_results.csv:Zone.Identifier',\n",
       " '../mturk/results/Batch_4258572_batch_results.csv']"
      ]
     },
     "execution_count": 4,
     "metadata": {},
     "output_type": "execute_result"
    }
   ],
   "source": [
    "ls(mturk_path)"
   ]
  },
  {
   "cell_type": "code",
   "execution_count": 35,
   "metadata": {},
   "outputs": [
    {
     "data": {
      "text/html": [
       "<div>\n",
       "<style scoped>\n",
       "    .dataframe tbody tr th:only-of-type {\n",
       "        vertical-align: middle;\n",
       "    }\n",
       "\n",
       "    .dataframe tbody tr th {\n",
       "        vertical-align: top;\n",
       "    }\n",
       "\n",
       "    .dataframe thead th {\n",
       "        text-align: right;\n",
       "    }\n",
       "</style>\n",
       "<table border=\"1\" class=\"dataframe\">\n",
       "  <thead>\n",
       "    <tr style=\"text-align: right;\">\n",
       "      <th></th>\n",
       "      <th>HITId</th>\n",
       "      <th>HITTypeId</th>\n",
       "      <th>WorkerId</th>\n",
       "      <th>events</th>\n",
       "      <th>feedback</th>\n",
       "      <th>id</th>\n",
       "      <th>status</th>\n",
       "    </tr>\n",
       "    <tr>\n",
       "      <th>AssignmentId</th>\n",
       "      <th></th>\n",
       "      <th></th>\n",
       "      <th></th>\n",
       "      <th></th>\n",
       "      <th></th>\n",
       "      <th></th>\n",
       "      <th></th>\n",
       "    </tr>\n",
       "  </thead>\n",
       "  <tbody>\n",
       "    <tr>\n",
       "      <th>320DUZ38GDHZZVYQ4B55MLMLILKGJ5</th>\n",
       "      <td>3BVS8WK9R5Q5QJ9FG5NQKPK1W21IBO</td>\n",
       "      <td>3VGR6KHJE749DD8NO6GZS1D2TV0EYE</td>\n",
       "      <td>AORHXBTOCXFUK</td>\n",
       "      <td>[[{\"start\":\"2020-01-01T00:00:00\",\"end\":\"2020-0...</td>\n",
       "      <td>thermometer</td>\n",
       "      <td>223296</td>\n",
       "      <td>-1</td>\n",
       "    </tr>\n",
       "    <tr>\n",
       "      <th>3GNCZX450OIUBFOLDOIFNVXUTKAAPA</th>\n",
       "      <td>3BVS8WK9R5Q5QJ9FG5NQKPK1W21IBO</td>\n",
       "      <td>3VGR6KHJE749DD8NO6GZS1D2TV0EYE</td>\n",
       "      <td>A3BMEVFSETVOUR</td>\n",
       "      <td>[[{\"start\":\"2020-01-01T00:00:00\",\"end\":\"2020-0...</td>\n",
       "      <td>{}</td>\n",
       "      <td>223296</td>\n",
       "      <td>1</td>\n",
       "    </tr>\n",
       "    <tr>\n",
       "      <th>3OS46CRSLLU6TX9E9NA2DIKQJYD6VB</th>\n",
       "      <td>3J94SKDELNKMTSCKNHV2Q64WU17D5G</td>\n",
       "      <td>3VGR6KHJE749DD8NO6GZS1D2TV0EYE</td>\n",
       "      <td>AX8EX2QI5HIQQ</td>\n",
       "      <td>[[{\"start\":\"2020-01-01T00:00:00\",\"end\":\"2020-0...</td>\n",
       "      <td>good</td>\n",
       "      <td>11864</td>\n",
       "      <td>-3</td>\n",
       "    </tr>\n",
       "    <tr>\n",
       "      <th>3HRMW88U1CLSPZTQT6TUHLRMFV1M0H</th>\n",
       "      <td>3D1UCPY6HL47YITPSQWTPHSB5EJ83F</td>\n",
       "      <td>3VGR6KHJE749DD8NO6GZS1D2TV0EYE</td>\n",
       "      <td>A2CKYCHQGXUI10</td>\n",
       "      <td>[[],[],[]]</td>\n",
       "      <td>good</td>\n",
       "      <td>117821</td>\n",
       "      <td>-10</td>\n",
       "    </tr>\n",
       "    <tr>\n",
       "      <th>3RYC5T2D79OMAWA2FZ41ILM4TXXRPG</th>\n",
       "      <td>3UQ1LLR27F32XACTVUK7HUSNVOAALZ</td>\n",
       "      <td>3VGR6KHJE749DD8NO6GZS1D2TV0EYE</td>\n",
       "      <td>A1GGOZPHYU0OC0</td>\n",
       "      <td>[[],[],[],[]]</td>\n",
       "      <td>{}</td>\n",
       "      <td>45580</td>\n",
       "      <td>1</td>\n",
       "    </tr>\n",
       "    <tr>\n",
       "      <th>3TPWUS5F8FW8O3IK9OS1LKVEMMDCWS</th>\n",
       "      <td>3BS6ERDLA82ICWCYS057ICIWQWID6W</td>\n",
       "      <td>3VGR6KHJE749DD8NO6GZS1D2TV0EYE</td>\n",
       "      <td>A2CKYCHQGXUI10</td>\n",
       "      <td>[[],[],[],[]]</td>\n",
       "      <td>{}</td>\n",
       "      <td>13992</td>\n",
       "      <td>-4</td>\n",
       "    </tr>\n",
       "    <tr>\n",
       "      <th>3DBQWDE4YCTX2O0R2DE6BVCD1YJN5A</th>\n",
       "      <td>3XUSYT70JYWNYLQJQBPQ9B85DTW0DI</td>\n",
       "      <td>3VGR6KHJE749DD8NO6GZS1D2TV0EYE</td>\n",
       "      <td>ABMPX2Y2IRBMG</td>\n",
       "      <td>[[],[],[],[],[]]</td>\n",
       "      <td>{}</td>\n",
       "      <td>86245</td>\n",
       "      <td>1</td>\n",
       "    </tr>\n",
       "    <tr>\n",
       "      <th>338JKRMM2CU2YYQXUBAAEMV37VNAHW</th>\n",
       "      <td>3EN4YVUOVHN8YXWM3J08LNQTSKDXJN</td>\n",
       "      <td>3VGR6KHJE749DD8NO6GZS1D2TV0EYE</td>\n",
       "      <td>A2SBN9B6Q3DN2X</td>\n",
       "      <td>[[{\"start\":\"2020-01-01T00:00:00\",\"end\":\"2020-0...</td>\n",
       "      <td>{}</td>\n",
       "      <td>100386</td>\n",
       "      <td>1</td>\n",
       "    </tr>\n",
       "    <tr>\n",
       "      <th>3EKVH9QME4ZWHFQRV0Y5HJX73MGD2B</th>\n",
       "      <td>3EN4YVUOVHN8YXWM3J08LNQTSKDXJN</td>\n",
       "      <td>3VGR6KHJE749DD8NO6GZS1D2TV0EYE</td>\n",
       "      <td>A1AYL5V5GI9HC1</td>\n",
       "      <td>[[{\"start\":\"2020-01-01T00:00:00\",\"end\":\"2020-0...</td>\n",
       "      <td>{}</td>\n",
       "      <td>100386</td>\n",
       "      <td>1</td>\n",
       "    </tr>\n",
       "    <tr>\n",
       "      <th>3S06PH7KSXZPSU8VCWYRC0N2B9LD1Z</th>\n",
       "      <td>3EN4YVUOVHN8YXWM3J08LNQTSKDXJN</td>\n",
       "      <td>3VGR6KHJE749DD8NO6GZS1D2TV0EYE</td>\n",
       "      <td>A5V3ZMQI0PU3F</td>\n",
       "      <td>[[{\"start\":\"2020-01-01T00:00:00\",\"end\":\"2020-0...</td>\n",
       "      <td>{}</td>\n",
       "      <td>100386</td>\n",
       "      <td>1</td>\n",
       "    </tr>\n",
       "  </tbody>\n",
       "</table>\n",
       "</div>"
      ],
      "text/plain": [
       "                                                         HITId  \\\n",
       "AssignmentId                                                     \n",
       "320DUZ38GDHZZVYQ4B55MLMLILKGJ5  3BVS8WK9R5Q5QJ9FG5NQKPK1W21IBO   \n",
       "3GNCZX450OIUBFOLDOIFNVXUTKAAPA  3BVS8WK9R5Q5QJ9FG5NQKPK1W21IBO   \n",
       "3OS46CRSLLU6TX9E9NA2DIKQJYD6VB  3J94SKDELNKMTSCKNHV2Q64WU17D5G   \n",
       "3HRMW88U1CLSPZTQT6TUHLRMFV1M0H  3D1UCPY6HL47YITPSQWTPHSB5EJ83F   \n",
       "3RYC5T2D79OMAWA2FZ41ILM4TXXRPG  3UQ1LLR27F32XACTVUK7HUSNVOAALZ   \n",
       "3TPWUS5F8FW8O3IK9OS1LKVEMMDCWS  3BS6ERDLA82ICWCYS057ICIWQWID6W   \n",
       "3DBQWDE4YCTX2O0R2DE6BVCD1YJN5A  3XUSYT70JYWNYLQJQBPQ9B85DTW0DI   \n",
       "338JKRMM2CU2YYQXUBAAEMV37VNAHW  3EN4YVUOVHN8YXWM3J08LNQTSKDXJN   \n",
       "3EKVH9QME4ZWHFQRV0Y5HJX73MGD2B  3EN4YVUOVHN8YXWM3J08LNQTSKDXJN   \n",
       "3S06PH7KSXZPSU8VCWYRC0N2B9LD1Z  3EN4YVUOVHN8YXWM3J08LNQTSKDXJN   \n",
       "\n",
       "                                                     HITTypeId  \\\n",
       "AssignmentId                                                     \n",
       "320DUZ38GDHZZVYQ4B55MLMLILKGJ5  3VGR6KHJE749DD8NO6GZS1D2TV0EYE   \n",
       "3GNCZX450OIUBFOLDOIFNVXUTKAAPA  3VGR6KHJE749DD8NO6GZS1D2TV0EYE   \n",
       "3OS46CRSLLU6TX9E9NA2DIKQJYD6VB  3VGR6KHJE749DD8NO6GZS1D2TV0EYE   \n",
       "3HRMW88U1CLSPZTQT6TUHLRMFV1M0H  3VGR6KHJE749DD8NO6GZS1D2TV0EYE   \n",
       "3RYC5T2D79OMAWA2FZ41ILM4TXXRPG  3VGR6KHJE749DD8NO6GZS1D2TV0EYE   \n",
       "3TPWUS5F8FW8O3IK9OS1LKVEMMDCWS  3VGR6KHJE749DD8NO6GZS1D2TV0EYE   \n",
       "3DBQWDE4YCTX2O0R2DE6BVCD1YJN5A  3VGR6KHJE749DD8NO6GZS1D2TV0EYE   \n",
       "338JKRMM2CU2YYQXUBAAEMV37VNAHW  3VGR6KHJE749DD8NO6GZS1D2TV0EYE   \n",
       "3EKVH9QME4ZWHFQRV0Y5HJX73MGD2B  3VGR6KHJE749DD8NO6GZS1D2TV0EYE   \n",
       "3S06PH7KSXZPSU8VCWYRC0N2B9LD1Z  3VGR6KHJE749DD8NO6GZS1D2TV0EYE   \n",
       "\n",
       "                                      WorkerId  \\\n",
       "AssignmentId                                     \n",
       "320DUZ38GDHZZVYQ4B55MLMLILKGJ5   AORHXBTOCXFUK   \n",
       "3GNCZX450OIUBFOLDOIFNVXUTKAAPA  A3BMEVFSETVOUR   \n",
       "3OS46CRSLLU6TX9E9NA2DIKQJYD6VB   AX8EX2QI5HIQQ   \n",
       "3HRMW88U1CLSPZTQT6TUHLRMFV1M0H  A2CKYCHQGXUI10   \n",
       "3RYC5T2D79OMAWA2FZ41ILM4TXXRPG  A1GGOZPHYU0OC0   \n",
       "3TPWUS5F8FW8O3IK9OS1LKVEMMDCWS  A2CKYCHQGXUI10   \n",
       "3DBQWDE4YCTX2O0R2DE6BVCD1YJN5A   ABMPX2Y2IRBMG   \n",
       "338JKRMM2CU2YYQXUBAAEMV37VNAHW  A2SBN9B6Q3DN2X   \n",
       "3EKVH9QME4ZWHFQRV0Y5HJX73MGD2B  A1AYL5V5GI9HC1   \n",
       "3S06PH7KSXZPSU8VCWYRC0N2B9LD1Z   A5V3ZMQI0PU3F   \n",
       "\n",
       "                                                                           events  \\\n",
       "AssignmentId                                                                        \n",
       "320DUZ38GDHZZVYQ4B55MLMLILKGJ5  [[{\"start\":\"2020-01-01T00:00:00\",\"end\":\"2020-0...   \n",
       "3GNCZX450OIUBFOLDOIFNVXUTKAAPA  [[{\"start\":\"2020-01-01T00:00:00\",\"end\":\"2020-0...   \n",
       "3OS46CRSLLU6TX9E9NA2DIKQJYD6VB  [[{\"start\":\"2020-01-01T00:00:00\",\"end\":\"2020-0...   \n",
       "3HRMW88U1CLSPZTQT6TUHLRMFV1M0H                                         [[],[],[]]   \n",
       "3RYC5T2D79OMAWA2FZ41ILM4TXXRPG                                      [[],[],[],[]]   \n",
       "3TPWUS5F8FW8O3IK9OS1LKVEMMDCWS                                      [[],[],[],[]]   \n",
       "3DBQWDE4YCTX2O0R2DE6BVCD1YJN5A                                   [[],[],[],[],[]]   \n",
       "338JKRMM2CU2YYQXUBAAEMV37VNAHW  [[{\"start\":\"2020-01-01T00:00:00\",\"end\":\"2020-0...   \n",
       "3EKVH9QME4ZWHFQRV0Y5HJX73MGD2B  [[{\"start\":\"2020-01-01T00:00:00\",\"end\":\"2020-0...   \n",
       "3S06PH7KSXZPSU8VCWYRC0N2B9LD1Z  [[{\"start\":\"2020-01-01T00:00:00\",\"end\":\"2020-0...   \n",
       "\n",
       "                                   feedback      id  status  \n",
       "AssignmentId                                                 \n",
       "320DUZ38GDHZZVYQ4B55MLMLILKGJ5  thermometer  223296      -1  \n",
       "3GNCZX450OIUBFOLDOIFNVXUTKAAPA           {}  223296       1  \n",
       "3OS46CRSLLU6TX9E9NA2DIKQJYD6VB         good   11864      -3  \n",
       "3HRMW88U1CLSPZTQT6TUHLRMFV1M0H         good  117821     -10  \n",
       "3RYC5T2D79OMAWA2FZ41ILM4TXXRPG           {}   45580       1  \n",
       "3TPWUS5F8FW8O3IK9OS1LKVEMMDCWS           {}   13992      -4  \n",
       "3DBQWDE4YCTX2O0R2DE6BVCD1YJN5A           {}   86245       1  \n",
       "338JKRMM2CU2YYQXUBAAEMV37VNAHW           {}  100386       1  \n",
       "3EKVH9QME4ZWHFQRV0Y5HJX73MGD2B           {}  100386       1  \n",
       "3S06PH7KSXZPSU8VCWYRC0N2B9LD1Z           {}  100386       1  "
      ]
     },
     "execution_count": 35,
     "metadata": {},
     "output_type": "execute_result"
    }
   ],
   "source": [
    "def load_results(batch):\n",
    "    df = pd.read_csv(str(next(mturk_path.rglob(f\"*{batch}*.csv\"))))\n",
    "    df = df[[c for c in df.columns if \"Answer.\" in c or 'Id' in c]]\n",
    "    df = df.rename(columns={c:c.split('.',1)[1] for c in df.columns if '.' in c})\n",
    "    return df.set_index(\"AssignmentId\")\n",
    "batch = 4258572\n",
    "df=load_results(batch)\n",
    "df"
   ]
  },
  {
   "cell_type": "code",
   "execution_count": 48,
   "metadata": {},
   "outputs": [
    {
     "data": {
      "text/html": [
       "<a href=\"http://127.0.0.1:8080/annotate/4258572/3HRMW88U1CLSPZTQT6TUHLRMFV1M0H\" target=\"_new\">117821 - -10</a>"
      ],
      "text/plain": [
       "<IPython.core.display.HTML object>"
      ]
     },
     "metadata": {},
     "output_type": "display_data"
    }
   ],
   "source": [
    "assignment=\"3HRMW88U1CLSPZTQT6TUHLRMFV1M0H\"\n",
    "idx = df.loc[assignment, \"id\"]\n",
    "status = df.loc[assignment, \"status\"]\n",
    "display_html(f'<a href=\"http://127.0.0.1:8080/annotate/{batch}/{assignment}\" target=\"_new\">{idx} - {status}</a>')"
   ]
  },
  {
   "cell_type": "code",
   "execution_count": 33,
   "metadata": {},
   "outputs": [
    {
     "data": {
      "text/plain": [
       "'../mturk/results/Batch_4258572_batch_results.csv'"
      ]
     },
     "execution_count": 33,
     "metadata": {},
     "output_type": "execute_result"
    }
   ],
   "source": [
    "str(next(mturk_path.rglob(\"*4258572*.csv\")))"
   ]
  },
  {
   "cell_type": "code",
   "execution_count": null,
   "metadata": {},
   "outputs": [],
   "source": []
  }
 ],
 "metadata": {
  "kernelspec": {
   "display_name": "Python 3",
   "language": "python",
   "name": "python3"
  },
  "language_info": {
   "codemirror_mode": {
    "name": "ipython",
    "version": 3
   },
   "file_extension": ".py",
   "mimetype": "text/x-python",
   "name": "python",
   "nbconvert_exporter": "python",
   "pygments_lexer": "ipython3",
   "version": "3.8.5"
  }
 },
 "nbformat": 4,
 "nbformat_minor": 4
}
