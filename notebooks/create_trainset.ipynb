{
 "cells": [
  {
   "cell_type": "code",
   "execution_count": 1,
   "metadata": {},
   "outputs": [],
   "source": [
    "import json, random, re, collections, itertools, base64, sys,pickle\n",
    "from dataclasses import dataclass\n",
    "from copy import deepcopy\n",
    "from pathlib import Path\n",
    "from tqdm.notebook import tqdm\n",
    "import numpy as np\n",
    "import pandas as pd\n",
    "from operator import itemgetter as at\n",
    "from IPython.core.display import display, HTML\n",
    "from ipywidgets import interact\n",
    "display_html = lambda x: display(HTML(str(x)))\n",
    "from pprint import pprint as pp\n",
    "from edit_distance import edit_distance\n",
    "ls = lambda path: list(map(str, path.iterdir()))\n",
    "\n",
    "sys.path.append('../src')\n",
    "annot_path = Path(\"../annotations\")\n",
    "data_path = Path(\"../data\")\n",
    "preprocessed_path = Path(\"../preprocessed\")\n",
    "mturk_path = Path(\"../mturk/results\")\n",
    "\n",
    "def read_annotation(annotation_id, mturk_batch=None):\n",
    "    if mturk_batch:\n",
    "        annotation = annotation_io.mturk_annotation(mturk_batch, annotation_id)\n",
    "    else:\n",
    "        annotation = annotation_io.get_annotation(annotation_id)\n",
    "    return annotation\n",
    "\n",
    "import annotation_io\n",
    "import read_data\n",
    "from instruction_parsing import program\n",
    "annotation_io.set_recipe_source(\"npn-cooking\")\n",
    "\n",
    "%load_ext autoreload\n",
    "%autoreload 2"
   ]
  },
  {
   "cell_type": "code",
   "execution_count": 2,
   "metadata": {},
   "outputs": [],
   "source": [
    "mturk_batch = 4335716"
   ]
  },
  {
   "cell_type": "code",
   "execution_count": 3,
   "metadata": {},
   "outputs": [],
   "source": [
    "with (mturk_path / f\"{mturk_batch}.json\").open('r') as f:\n",
    "    annotations = json.load(f)"
   ]
  },
  {
   "cell_type": "code",
   "execution_count": 4,
   "metadata": {},
   "outputs": [],
   "source": [
    "assignments = sum(annotations.values(),[])"
   ]
  },
  {
   "cell_type": "code",
   "execution_count": 5,
   "metadata": {},
   "outputs": [
    {
     "data": {
      "application/vnd.jupyter.widget-view+json": {
       "model_id": "7a5b48cf3c9a4df38141af4c6f4009f0",
       "version_major": 2,
       "version_minor": 0
      },
      "text/plain": [
       "HBox(children=(HTML(value=''), FloatProgress(value=0.0, max=157.0), HTML(value='')))"
      ]
     },
     "metadata": {},
     "output_type": "display_data"
    },
    {
     "name": "stdout",
     "output_type": "stream",
     "text": [
      "Cannot read\n",
      "Cannot read\n",
      "Cannot read\n",
      "\n"
     ]
    }
   ],
   "source": [
    "train_set = dict()\n",
    "for annotation_id in tqdm(assignments):\n",
    "    try:\n",
    "        annot = annotation_io.mturk_annotation(mturk_batch, annotation_id)\n",
    "    except:\n",
    "        print (\"Cannot read\")\n",
    "        continue\n",
    "    try:\n",
    "        prog = program(annot)\n",
    "    except:\n",
    "        print (\"Cannot simulate\")\n",
    "        continue\n",
    "    train_set[annotation_id] = {\"program\":prog,\n",
    "                                \"instructions\": annot[\"instructions\"],\n",
    "                                \"ingredients\": annot[\"normalized_ingredients\"],\n",
    "                                \"title\": annot[\"title\"],\n",
    "                                \"status\": annot[\"status\"],\n",
    "                                \"id\": annot[\"id\"],\n",
    "                               }"
   ]
  },
  {
   "cell_type": "code",
   "execution_count": 6,
   "metadata": {},
   "outputs": [],
   "source": [
    "with (preprocessed_path / f\"trainset_{mturk_batch}.json\").open('wb') as f:\n",
    "    pickle.dump(train_set,f)"
   ]
  },
  {
   "cell_type": "code",
   "execution_count": null,
   "metadata": {},
   "outputs": [],
   "source": []
  }
 ],
 "metadata": {
  "kernelspec": {
   "display_name": "Python 3",
   "language": "python",
   "name": "python3"
  },
  "language_info": {
   "codemirror_mode": {
    "name": "ipython",
    "version": 3
   },
   "file_extension": ".py",
   "mimetype": "text/x-python",
   "name": "python",
   "nbconvert_exporter": "python",
   "pygments_lexer": "ipython3",
   "version": "3.8.5"
  }
 },
 "nbformat": 4,
 "nbformat_minor": 4
}
