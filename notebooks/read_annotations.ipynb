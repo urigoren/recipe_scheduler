{
 "cells": [
  {
   "cell_type": "code",
   "execution_count": 1,
   "metadata": {},
   "outputs": [],
   "source": [
    "import json, random, re, collections, itertools, base64, hashlib\n",
    "from datetime import datetime, timedelta\n",
    "from pathlib import Path\n",
    "from tqdm.notebook import tqdm\n",
    "import numpy as np\n",
    "import pandas as pd\n",
    "from operator import itemgetter as at\n",
    "from IPython.core.display import display, HTML\n",
    "from ipywidgets import interact\n",
    "display_html = lambda x: display(HTML(x))\n",
    "annot_path = Path(\"../annotations\")\n",
    "data_path = Path(\"../data\")\n",
    "preprocessed_path = Path(\"../preprocessed\")"
   ]
  },
  {
   "cell_type": "code",
   "execution_count": 2,
   "metadata": {},
   "outputs": [
    {
     "name": "stdout",
     "output_type": "stream",
     "text": [
      "zsh:1: no matches found: ../preprocessed/*\r\n"
     ]
    }
   ],
   "source": [
    "!rm ../preprocessed/*"
   ]
  },
  {
   "cell_type": "markdown",
   "metadata": {},
   "source": [
    "# Read meta data"
   ]
  },
  {
   "cell_type": "code",
   "execution_count": 3,
   "metadata": {},
   "outputs": [
    {
     "data": {
      "text/plain": [
       "[('TSKILLET', 'Skillet'),\n",
       " ('TSTIR', 'Stirring spoon'),\n",
       " ('TSPATULA', 'Spatula'),\n",
       " ('TWOK', 'Wok'),\n",
       " ('TOTHER', 'Other'),\n",
       " ('LIMMEDIATE', 'Ends Immediately'),\n",
       " ('LTIME', 'For X minutes'),\n",
       " ('LCOLOR', 'Until color change'),\n",
       " ('LTEXTURE', 'Until texture change'),\n",
       " ('LTEMPTRATURE', 'Until cool/boil')]"
      ]
     },
     "execution_count": 3,
     "metadata": {},
     "output_type": "execute_result"
    }
   ],
   "source": [
    "ingredients = []\n",
    "# Read ingredients map\n",
    "with (data_path/ \"ingredients_map.json\").open('r') as f:\n",
    "    ingredients.extend([(k,v) for v,k in json.load(f).items()])\n",
    "# Read implicit ingredients\n",
    "with (data_path/ \"implicit_ingredients.json\").open('r') as f:\n",
    "    ingredients.extend(json.load(f).items())\n",
    "# Read tools\n",
    "with (data_path/ \"tools.json\").open('r') as f:\n",
    "    ingredients.extend(json.load(f).items())\n",
    "# Read time_lengths\n",
    "IMMEDIATE = \"LIMMEDIATE\"\n",
    "ingredients.append((IMMEDIATE, \"Ends Immediately\"))\n",
    "with (data_path/ \"time_lengths.json\").open('r') as f:\n",
    "    ingredients.extend(json.load(f).items())    \n",
    "ingredients [-10:]"
   ]
  },
  {
   "cell_type": "code",
   "execution_count": 4,
   "metadata": {},
   "outputs": [
    {
     "data": {
      "text/plain": [
       "[('A1', 'Idle/Unused'),\n",
       " ('A2', 'Idle/Set-Aside'),\n",
       " ('A0', 'Idle/Discarded'),\n",
       " ('A5', 'Idle/Serve'),\n",
       " ('W1', 'Countertop/Combine/Mix'),\n",
       " ('W2', 'Countertop/Roll/Fold'),\n",
       " ('W3', 'Countertop/Massage/Rub/Knead'),\n",
       " ('W4', 'Countertop/Peel/Squeeze'),\n",
       " ('W5', 'Countertop/Coat/Sprinkle'),\n",
       " ('C1', 'Countertop/Cut/chop'),\n",
       " ('GW1', 'Stove/Low'),\n",
       " ('GW2', 'Stove/Medium-Low'),\n",
       " ('GW3', 'Stove/Medium'),\n",
       " ('GW4', 'Stove/Medium-High'),\n",
       " ('GW5', 'Stove/High'),\n",
       " ('BL1', 'Oven/Low'),\n",
       " ('BL2', 'Oven/Medium'),\n",
       " ('BL3', 'Oven/High'),\n",
       " ('R1', 'Regrigerator/Marinade'),\n",
       " ('R2', 'Regrigerator/Chill'),\n",
       " ('R3', 'Regrigerator/Freeze'),\n",
       " ('S1', 'Sink/Wash'),\n",
       " ('S2', 'Sink/Drain'),\n",
       " ('O1', 'Other/Grind'),\n",
       " ('O2', 'Other/Blend')]"
      ]
     },
     "execution_count": 4,
     "metadata": {},
     "output_type": "execute_result"
    }
   ],
   "source": [
    "with (data_path/ \"resources.json\").open('r') as f:\n",
    "    resources=json.load(f)\n",
    "    resources = [(res[\"id\"], res_category[\"name\"] + \"/\" + res[\"name\"]) for res_category in resources for res in res_category[\"children\"]]\n",
    "resources"
   ]
  },
  {
   "cell_type": "code",
   "execution_count": 5,
   "metadata": {},
   "outputs": [
    {
     "name": "stdout",
     "output_type": "stream",
     "text": [
      "# of resources: 25\n",
      "# of ingredients: 755\n",
      "Vector size 18875\n"
     ]
    }
   ],
   "source": [
    "print (f\"# of resources: {len(resources)}\")\n",
    "print (f\"# of ingredients: {len(ingredients)}\")\n",
    "print (f\"Vector size {len(ingredients)*len(resources)}\")"
   ]
  },
  {
   "cell_type": "code",
   "execution_count": 6,
   "metadata": {},
   "outputs": [],
   "source": [
    "idx2label=list(itertools.product(map(at(0), resources), map(at(0), ingredients)))\n",
    "label2idx={r:i for i,r in enumerate(idx2label)}"
   ]
  },
  {
   "cell_type": "markdown",
   "metadata": {},
   "source": [
    "## Save mappings"
   ]
  },
  {
   "cell_type": "code",
   "execution_count": 7,
   "metadata": {},
   "outputs": [],
   "source": [
    "with (preprocessed_path/\"resources.json\").open('w') as f:\n",
    "    json.dump(resources, f)\n",
    "with (preprocessed_path/\"ingredients.json\").open('w') as f:\n",
    "    json.dump(ingredients, f)\n",
    "with (preprocessed_path/\"labels.json\").open('w') as f:\n",
    "    json.dump(idx2label, f)"
   ]
  },
  {
   "cell_type": "code",
   "execution_count": 8,
   "metadata": {},
   "outputs": [],
   "source": [
    "def ing2type(ing_id):\n",
    "    return {\n",
    "        \"I\": \"Ingredient\",\n",
    "        \"M\": \"Unlisted ingredient\",\n",
    "        \"L\": \"Time duration\",\n",
    "        \"T\": \"Tool\",\n",
    "        \n",
    "    }[ing_id[0]]"
   ]
  },
  {
   "cell_type": "markdown",
   "metadata": {},
   "source": [
    "# Read annotations"
   ]
  },
  {
   "cell_type": "code",
   "execution_count": 9,
   "metadata": {},
   "outputs": [
    {
     "data": {
      "text/plain": [
       "{'103308': [{0: [('A1', 'I10_d4pRP'),\n",
       "    ('A1', 'I7oUHHY41'),\n",
       "    ('A1', 'IN0CxTNVh'),\n",
       "    ('A1', 'INNbMITPe'),\n",
       "    ('A1', 'IW2FkWnJk'),\n",
       "    ('A1', 'Itg64O_Uz'),\n",
       "    ('A1', 'IukXkN8DV'),\n",
       "    ('A1', 'Iynxt1P5R'),\n",
       "    ('A1', 'LIMMEDIATE')]},\n",
       "  {1: [('A1', 'IN0CxTNVh'),\n",
       "    ('A1', 'INNbMITPe'),\n",
       "    ('A1', 'IW2FkWnJk'),\n",
       "    ('A1', 'Itg64O_Uz'),\n",
       "    ('A1', 'IukXkN8DV'),\n",
       "    ('A1', 'Iynxt1P5R'),\n",
       "    ('A1', 'LIMMEDIATE'),\n",
       "    ('GW4', 'I10_d4pRP'),\n",
       "    ('GW4', 'I7oUHHY41'),\n",
       "    ('GW4', 'LIMMEDIATE'),\n",
       "    ('GW4', 'TSKILLET')],\n",
       "   0: [('A1', 'I10_d4pRP'),\n",
       "    ('A1', 'I7oUHHY41'),\n",
       "    ('A1', 'IN0CxTNVh'),\n",
       "    ('A1', 'INNbMITPe'),\n",
       "    ('A1', 'IW2FkWnJk'),\n",
       "    ('A1', 'Itg64O_Uz'),\n",
       "    ('A1', 'IukXkN8DV'),\n",
       "    ('A1', 'Iynxt1P5R'),\n",
       "    ('A1', 'LIMMEDIATE')]},\n",
       "  {1: [('A1', 'IN0CxTNVh'),\n",
       "    ('A1', 'INNbMITPe'),\n",
       "    ('A1', 'IW2FkWnJk'),\n",
       "    ('A1', 'Itg64O_Uz'),\n",
       "    ('A1', 'LIMMEDIATE'),\n",
       "    ('GW4', 'I10_d4pRP'),\n",
       "    ('GW4', 'I7oUHHY41'),\n",
       "    ('GW4', 'LIMMEDIATE'),\n",
       "    ('GW4', 'TSKILLET'),\n",
       "    ('W1', 'IukXkN8DV'),\n",
       "    ('W1', 'Iynxt1P5R'),\n",
       "    ('W1', 'LIMMEDIATE')],\n",
       "   2: [('A1', 'IN0CxTNVh'),\n",
       "    ('A1', 'INNbMITPe'),\n",
       "    ('A1', 'Itg64O_Uz'),\n",
       "    ('A1', 'LIMMEDIATE'),\n",
       "    ('GW4', 'I10_d4pRP'),\n",
       "    ('GW4', 'I7oUHHY41'),\n",
       "    ('GW4', 'LIMMEDIATE'),\n",
       "    ('GW4', 'TSKILLET'),\n",
       "    ('W5', 'IW2FkWnJk'),\n",
       "    ('W5', 'IukXkN8DV'),\n",
       "    ('W5', 'Iynxt1P5R'),\n",
       "    ('W5', 'LIMMEDIATE')],\n",
       "   0: [('A1', 'I10_d4pRP'),\n",
       "    ('A1', 'I7oUHHY41'),\n",
       "    ('A1', 'IN0CxTNVh'),\n",
       "    ('A1', 'INNbMITPe'),\n",
       "    ('A1', 'IW2FkWnJk'),\n",
       "    ('A1', 'Itg64O_Uz'),\n",
       "    ('A1', 'IukXkN8DV'),\n",
       "    ('A1', 'Iynxt1P5R'),\n",
       "    ('A1', 'LIMMEDIATE')]},\n",
       "  {1: [('A1', 'IN0CxTNVh'),\n",
       "    ('A1', 'INNbMITPe'),\n",
       "    ('A1', 'Itg64O_Uz'),\n",
       "    ('A1', 'LIMMEDIATE'),\n",
       "    ('GW4', 'I10_d4pRP'),\n",
       "    ('GW4', 'I7oUHHY41'),\n",
       "    ('GW4', 'IW2FkWnJk'),\n",
       "    ('GW4', 'IukXkN8DV'),\n",
       "    ('GW4', 'Iynxt1P5R'),\n",
       "    ('GW4', 'LTIME'),\n",
       "    ('GW4', 'TSKILLET')],\n",
       "   0: [('A1', 'I10_d4pRP'),\n",
       "    ('A1', 'I7oUHHY41'),\n",
       "    ('A1', 'IN0CxTNVh'),\n",
       "    ('A1', 'INNbMITPe'),\n",
       "    ('A1', 'IW2FkWnJk'),\n",
       "    ('A1', 'Itg64O_Uz'),\n",
       "    ('A1', 'IukXkN8DV'),\n",
       "    ('A1', 'Iynxt1P5R'),\n",
       "    ('A1', 'LIMMEDIATE')]},\n",
       "  {1: [('A1', 'IN0CxTNVh'),\n",
       "    ('A1', 'INNbMITPe'),\n",
       "    ('A1', 'Itg64O_Uz'),\n",
       "    ('A1', 'LIMMEDIATE'),\n",
       "    ('BL2', 'I10_d4pRP'),\n",
       "    ('BL2', 'I7oUHHY41'),\n",
       "    ('BL2', 'IW2FkWnJk'),\n",
       "    ('BL2', 'IukXkN8DV'),\n",
       "    ('BL2', 'Iynxt1P5R'),\n",
       "    ('BL2', 'LIMMEDIATE'),\n",
       "    ('BL2', 'TOTHER')],\n",
       "   0: [('A1', 'I10_d4pRP'),\n",
       "    ('A1', 'I7oUHHY41'),\n",
       "    ('A1', 'IN0CxTNVh'),\n",
       "    ('A1', 'INNbMITPe'),\n",
       "    ('A1', 'IW2FkWnJk'),\n",
       "    ('A1', 'Itg64O_Uz'),\n",
       "    ('A1', 'IukXkN8DV'),\n",
       "    ('A1', 'Iynxt1P5R'),\n",
       "    ('A1', 'LIMMEDIATE')]},\n",
       "  {1: [('A1', 'IN0CxTNVh'),\n",
       "    ('A1', 'INNbMITPe'),\n",
       "    ('A1', 'Itg64O_Uz'),\n",
       "    ('A1', 'LIMMEDIATE'),\n",
       "    ('BL2', 'I10_d4pRP'),\n",
       "    ('BL2', 'I7oUHHY41'),\n",
       "    ('BL2', 'IW2FkWnJk'),\n",
       "    ('BL2', 'IukXkN8DV'),\n",
       "    ('BL2', 'Iynxt1P5R'),\n",
       "    ('BL2', 'LTIME'),\n",
       "    ('BL2', 'TOTHER')],\n",
       "   0: [('A1', 'I10_d4pRP'),\n",
       "    ('A1', 'I7oUHHY41'),\n",
       "    ('A1', 'IN0CxTNVh'),\n",
       "    ('A1', 'INNbMITPe'),\n",
       "    ('A1', 'IW2FkWnJk'),\n",
       "    ('A1', 'Itg64O_Uz'),\n",
       "    ('A1', 'IukXkN8DV'),\n",
       "    ('A1', 'Iynxt1P5R'),\n",
       "    ('A1', 'LIMMEDIATE')]},\n",
       "  {1: [('A1', 'IN0CxTNVh'),\n",
       "    ('A1', 'LIMMEDIATE'),\n",
       "    ('BL2', 'I10_d4pRP'),\n",
       "    ('BL2', 'I7oUHHY41'),\n",
       "    ('BL2', 'IW2FkWnJk'),\n",
       "    ('BL2', 'IukXkN8DV'),\n",
       "    ('BL2', 'Iynxt1P5R'),\n",
       "    ('BL2', 'LIMMEDIATE'),\n",
       "    ('BL2', 'TOTHER'),\n",
       "    ('W1', 'INNbMITPe'),\n",
       "    ('W1', 'Itg64O_Uz'),\n",
       "    ('W1', 'LTIME'),\n",
       "    ('W1', 'TBOWL'),\n",
       "    ('W1', 'TSTIR')],\n",
       "   0: [('A1', 'I10_d4pRP'),\n",
       "    ('A1', 'I7oUHHY41'),\n",
       "    ('A1', 'IN0CxTNVh'),\n",
       "    ('A1', 'INNbMITPe'),\n",
       "    ('A1', 'IW2FkWnJk'),\n",
       "    ('A1', 'Itg64O_Uz'),\n",
       "    ('A1', 'IukXkN8DV'),\n",
       "    ('A1', 'Iynxt1P5R'),\n",
       "    ('A1', 'LIMMEDIATE')]},\n",
       "  {1: [('A1', 'IN0CxTNVh'),\n",
       "    ('A1', 'LIMMEDIATE'),\n",
       "    ('W1', 'I10_d4pRP'),\n",
       "    ('W1', 'I7oUHHY41'),\n",
       "    ('W1', 'INNbMITPe'),\n",
       "    ('W1', 'IW2FkWnJk'),\n",
       "    ('W1', 'Itg64O_Uz'),\n",
       "    ('W1', 'IukXkN8DV'),\n",
       "    ('W1', 'Iynxt1P5R'),\n",
       "    ('W1', 'LIMMEDIATE'),\n",
       "    ('W1', 'TSKILLET')],\n",
       "   2: [('W1', 'I10_d4pRP'),\n",
       "    ('W1', 'I7oUHHY41'),\n",
       "    ('W1', 'IN0CxTNVh'),\n",
       "    ('W1', 'INNbMITPe'),\n",
       "    ('W1', 'IW2FkWnJk'),\n",
       "    ('W1', 'Itg64O_Uz'),\n",
       "    ('W1', 'IukXkN8DV'),\n",
       "    ('W1', 'Iynxt1P5R'),\n",
       "    ('W1', 'LIMMEDIATE'),\n",
       "    ('W1', 'TSKILLET')],\n",
       "   0: [('A1', 'I10_d4pRP'),\n",
       "    ('A1', 'I7oUHHY41'),\n",
       "    ('A1', 'IN0CxTNVh'),\n",
       "    ('A1', 'INNbMITPe'),\n",
       "    ('A1', 'IW2FkWnJk'),\n",
       "    ('A1', 'Itg64O_Uz'),\n",
       "    ('A1', 'IukXkN8DV'),\n",
       "    ('A1', 'Iynxt1P5R'),\n",
       "    ('A1', 'LIMMEDIATE')]},\n",
       "  {1: [('GW3', 'I10_d4pRP'),\n",
       "    ('GW3', 'I7oUHHY41'),\n",
       "    ('GW3', 'IN0CxTNVh'),\n",
       "    ('GW3', 'INNbMITPe'),\n",
       "    ('GW3', 'IW2FkWnJk'),\n",
       "    ('GW3', 'Itg64O_Uz'),\n",
       "    ('GW3', 'IukXkN8DV'),\n",
       "    ('GW3', 'Iynxt1P5R'),\n",
       "    ('GW3', 'LTEXTURE'),\n",
       "    ('GW3', 'TSKILLET')],\n",
       "   0: [('A1', 'I10_d4pRP'),\n",
       "    ('A1', 'I7oUHHY41'),\n",
       "    ('A1', 'IN0CxTNVh'),\n",
       "    ('A1', 'INNbMITPe'),\n",
       "    ('A1', 'IW2FkWnJk'),\n",
       "    ('A1', 'Itg64O_Uz'),\n",
       "    ('A1', 'IukXkN8DV'),\n",
       "    ('A1', 'Iynxt1P5R'),\n",
       "    ('A1', 'LIMMEDIATE')]},\n",
       "  {0: [('A1', 'I10_d4pRP'),\n",
       "    ('A1', 'I7oUHHY41'),\n",
       "    ('A1', 'IN0CxTNVh'),\n",
       "    ('A1', 'INNbMITPe'),\n",
       "    ('A1', 'IW2FkWnJk'),\n",
       "    ('A1', 'Itg64O_Uz'),\n",
       "    ('A1', 'IukXkN8DV'),\n",
       "    ('A1', 'Iynxt1P5R'),\n",
       "    ('A1', 'LIMMEDIATE')],\n",
       "   2: [('A5', 'I10_d4pRP'),\n",
       "    ('A5', 'I7oUHHY41'),\n",
       "    ('A5', 'IN0CxTNVh'),\n",
       "    ('A5', 'INNbMITPe'),\n",
       "    ('A5', 'IW2FkWnJk'),\n",
       "    ('A5', 'Itg64O_Uz'),\n",
       "    ('A5', 'IukXkN8DV'),\n",
       "    ('A5', 'Iynxt1P5R'),\n",
       "    ('A5', 'LIMMEDIATE')],\n",
       "   1: [('W5', 'I10_d4pRP'),\n",
       "    ('W5', 'I7oUHHY41'),\n",
       "    ('W5', 'IN0CxTNVh'),\n",
       "    ('W5', 'INNbMITPe'),\n",
       "    ('W5', 'IW2FkWnJk'),\n",
       "    ('W5', 'Itg64O_Uz'),\n",
       "    ('W5', 'IukXkN8DV'),\n",
       "    ('W5', 'Iynxt1P5R'),\n",
       "    ('W5', 'LIMMEDIATE')]}]}"
      ]
     },
     "execution_count": 9,
     "metadata": {},
     "output_type": "execute_result"
    }
   ],
   "source": [
    "def handle_instruction_label(lst):\n",
    "    events = list(map(at(\"start\", \"end\", \"action\", \"resource\") ,lst))\n",
    "    ret = collections.defaultdict(list)\n",
    "    for start,end,action, resource in events:\n",
    "        start = (datetime.strptime(start, \"%Y-%m-%dT00:00:00\") - datetime(2020,1,1)).days\n",
    "        end = (datetime.strptime(end, \"%Y-%m-%dT00:00:00\") - datetime(2020,1,1)).days\n",
    "        for i in range(start, end):\n",
    "            ret[i].append((resource, action))\n",
    "    # Add \"LIMMEDIATE\" if no time duration specified\n",
    "    for lst in ret.values():\n",
    "        has_time_duration_map = collections.defaultdict(bool)\n",
    "        for res, action in lst:\n",
    "            has_time_duration_map[res]|=ing2type(action)==\"Time duration\"\n",
    "        for res, has_time_duration in has_time_duration_map.items():\n",
    "            if not has_time_duration:\n",
    "                lst.append((res, IMMEDIATE))\n",
    "            lst.sort()\n",
    "        \n",
    "    return dict(ret)\n",
    "\n",
    "\n",
    "annotations = dict()\n",
    "instructions = dict()\n",
    "for p in annot_path.iterdir():\n",
    "    annotaion_id = p.name.split('.',1)[0]\n",
    "    with p.open('r') as f:\n",
    "        annotation = json.load(f)\n",
    "    if int(annotation[\"status\"])<=0:\n",
    "        continue\n",
    "    instructions[annotaion_id] = annotation[\"instructions\"]\n",
    "    annotations[annotaion_id]=list(map(handle_instruction_label,annotation[\"labels\"]))\n",
    "with (data_path/\"annotaions.json\").open('w') as f:\n",
    "    json.dump(annotations, f)\n",
    "annotations"
   ]
  },
  {
   "cell_type": "markdown",
   "metadata": {},
   "source": [
    "# Vectorize annotations"
   ]
  },
  {
   "cell_type": "code",
   "execution_count": 10,
   "metadata": {},
   "outputs": [
    {
     "data": {
      "text/plain": [
       "array([[False, False, False, ..., False, False, False],\n",
       "       [False, False, False, ..., False, False, False]])"
      ]
     },
     "execution_count": 10,
     "metadata": {},
     "output_type": "execute_result"
    }
   ],
   "source": [
    "def vectorize_instruction_annotation(instruction_annotation):\n",
    "    ret = np.zeros((len(instruction_annotation), len(idx2label)))\n",
    "    for i,tuples in instruction_annotation.items():\n",
    "        ret[i, list(map(label2idx.get,tuples))]=1\n",
    "    return ret.astype(bool)\n",
    "\n",
    "vectorize_instruction_annotation({0: [('S1', 'Ieg3R-oQ_'), ('S1', 'LIMMEDIATE')], 1: [('S2', 'Ieg3R-oQ_'), ('S2', 'LIMMEDIATE')]})"
   ]
  },
  {
   "cell_type": "code",
   "execution_count": 11,
   "metadata": {},
   "outputs": [
    {
     "data": {
      "application/vnd.jupyter.widget-view+json": {
       "model_id": "679729f8424e47f8b2694dd3b2526226",
       "version_major": 2,
       "version_minor": 0
      },
      "text/plain": [
       "HBox(children=(FloatProgress(value=0.0, max=1.0), HTML(value='')))"
      ]
     },
     "metadata": {},
     "output_type": "display_data"
    },
    {
     "name": "stdout",
     "output_type": "stream",
     "text": [
      "\n"
     ]
    }
   ],
   "source": [
    "indices_of_noningredients = [label2idx[x] for x in itertools.product(map(at(0), resources), [i for i,d in ingredients if ing2type(i) != \"Ingredient\"])]\n",
    "for recipe_id, instruction_annotations in tqdm(annotations.items(), total=len(annotations)):\n",
    "    with (annot_path/ f\"{recipe_id}.json\").open('r') as r:\n",
    "        annotation = json.load(r)\n",
    "    annotation_data = [vectorize_instruction_annotation(instruction_annotation) for instruction_annotation in instruction_annotations]\n",
    "    annotation_data = {\"{r}_{i}\".format(r=recipe_id, i=i):v  for i, v in enumerate(annotation_data)}\n",
    "    annotation_starts = [0] + [len(a) for a in annotation_data.values()]\n",
    "    annotation_timeranges = list(zip(annotation_starts[:-1], annotation_starts[1:]))\n",
    "\n",
    "    instructions = [{\"text\": instruction, \"start\": annotation_timeranges[0], \"end\": annotation_timeranges[1]}\n",
    "     for instruction,annotation_timeranges in zip(annotation[\"instructions\"], annotation_timeranges)]\n",
    "    indices_of_ingredients = [label2idx[x] for x in itertools.product(map(at(0), resources), annotation[\"normalized_ingredients\"])]\n",
    "    meta_data = {\"id\":recipe_id, \"instructions\": instructions, \"indices_of_interest\": indices_of_ingredients+indices_of_noningredients}\n",
    "    with (preprocessed_path/f\"{recipe_id}.json\").open('w') as f:\n",
    "        json.dump(meta_data,f, indent=4)\n",
    "    np.savez_compressed(str(preprocessed_path/ \"{r}.npz\".format(r=recipe_id) ), **annotation_data)"
   ]
  },
  {
   "cell_type": "code",
   "execution_count": null,
   "metadata": {},
   "outputs": [],
   "source": []
  }
 ],
 "metadata": {
  "kernelspec": {
   "display_name": "Python 3",
   "language": "python",
   "name": "python3"
  },
  "language_info": {
   "codemirror_mode": {
    "name": "ipython",
    "version": 3
   },
   "file_extension": ".py",
   "mimetype": "text/x-python",
   "name": "python",
   "nbconvert_exporter": "python",
   "pygments_lexer": "ipython3",
   "version": "3.8.2"
  }
 },
 "nbformat": 4,
 "nbformat_minor": 4
}
